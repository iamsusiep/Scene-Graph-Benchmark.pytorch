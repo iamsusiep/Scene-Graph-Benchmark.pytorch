{
 "cells": [
  {
   "cell_type": "markdown",
   "metadata": {},
   "source": [
    "CUDA_VISIBLE_DEVICES=0 python bb.py --config-file \"configs/e2e_relation_X_101_32_8_FPN_1x.yaml\" MODEL.ROI_RELATION_HEAD.USE_GT_BOX False MODEL.ROI_RELATION_HEAD.USE_GT_OBJECT_LABEL False MODEL.ROI_RELATION_HEAD.PREDICTOR CausalAnalysisPredictor MODEL.ROI_RELATION_HEAD.CAUSAL.EFFECT_TYPE TDE MODEL.ROI_RELATION_HEAD.CAUSAL.FUSION_TYPE sum MODEL.ROI_RELATION_HEAD.CAUSAL.CONTEXT_LAYER motifs  TEST.IMS_PER_BATCH 1 DTYPE \"float16\" GLOVE_DIR /home/suji/glove MODEL.PRETRAINED_DETECTOR_CKPT /home/suji/checkpoints/causal-motifs-sgcls-exmp OUTPUT_DIR /home/suji/checkpoints/causal-motifs-sgcls-exmp"
   ]
  },
  {
   "cell_type": "code",
   "execution_count": null,
   "metadata": {},
   "outputs": [],
   "source": []
  },
  {
   "cell_type": "code",
   "execution_count": 1,
   "metadata": {},
   "outputs": [],
   "source": [
    "\n",
    "cmdargs = \"\"\"MODEL.ROI_RELATION_HEAD.USE_GT_BOX False MODEL.ROI_RELATION_HEAD.USE_GT_OBJECT_LABEL False MODEL.ROI_RELATION_HEAD.PREDICTOR CausalAnalysisPredictor MODEL.ROI_RELATION_HEAD.CAUSAL.EFFECT_TYPE TDE MODEL.ROI_RELATION_HEAD.CAUSAL.FUSION_TYPE sum MODEL.ROI_RELATION_HEAD.CAUSAL.CONTEXT_LAYER motifs  TEST.IMS_PER_BATCH 1 DTYPE \"float16\" GLOVE_DIR /home/suji/glove MODEL.PRETRAINED_DETECTOR_CKPT /home/suji/checkpoints/causal-motifs-sgcls-exmp OUTPUT_DIR /home/suji/checkpoints/causal-motifs-sgcls-exmp\"\"\"\n",
    "cmdargs = cmdargs.split()"
   ]
  },
  {
   "cell_type": "code",
   "execution_count": 2,
   "metadata": {},
   "outputs": [
    {
     "data": {
      "text/plain": [
       "22"
      ]
     },
     "execution_count": 2,
     "metadata": {},
     "output_type": "execute_result"
    }
   ],
   "source": [
    "len(cmdargs)"
   ]
  },
  {
   "cell_type": "code",
   "execution_count": 3,
   "metadata": {},
   "outputs": [],
   "source": [
    "import os\n",
    "os.environ[\"CUDA_DEVICE_ORDER\"]=\"PCI_BUS_ID\"   # see issue #152\n",
    "os.environ[\"CUDA_VISIBLE_DEVICES\"]=\"0\""
   ]
  },
  {
   "cell_type": "code",
   "execution_count": 4,
   "metadata": {},
   "outputs": [
    {
     "name": "stdout",
     "output_type": "stream",
     "text": [
      "RPNModule\n",
      "loading word vectors from /home/suji/glove/glove.6B.200d.pt\n",
      "__background__ -> __background__ \n",
      "fail on __background__\n",
      "loading word vectors from /home/suji/glove/glove.6B.200d.pt\n",
      "__background__ -> __background__ \n",
      "fail on __background__\n"
     ]
    }
   ],
   "source": [
    "from maskrcnn_benchmark.utils.checkpoint import DetectronCheckpointer\n",
    "from maskrcnn_benchmark.modeling.detector import build_detection_model\n",
    "from maskrcnn_benchmark.config import cfg\n",
    "import torch\n",
    "\n",
    "cfg.merge_from_file(\"configs/e2e_relation_X_101_32_8_FPN_1x.yaml\")\n",
    "cfg.merge_from_list(cmdargs)\n",
    "\n",
    "# cfg.merge_from_list(None)\n",
    "cfg.freeze()\n",
    "\n",
    "# logger.info(\"Using {} GPUs\".format(num_gpus))\n",
    "# logger.info(cfg)\n",
    "\n",
    "# logger.info(\"Collecting env info (might take some time)\")\n",
    "# logger.info(\"\\n\" + collect_env_info())\n",
    "\n",
    "model = build_detection_model(cfg)\n",
    "model.to(cfg.MODEL.DEVICE)\n",
    "# Initialize mixed-precision if necessary\n",
    "use_mixed_precision = cfg.DTYPE == 'float16'\n",
    "# amp_handle = amp.init(enabled=use_mixed_precision, verbose=cfg.AMP_VERBOSE)\n",
    "\n",
    "output_dir = \"/home/suji/checkpoints/causal-motifs-sgcls-exmp\"\n",
    "checkpointer = DetectronCheckpointer(cfg, model, save_dir=output_dir)\n",
    "_ = checkpointer.load(cfg.MODEL.WEIGHT)\n"
   ]
  },
  {
   "cell_type": "code",
   "execution_count": 5,
   "metadata": {},
   "outputs": [
    {
     "name": "stdout",
     "output_type": "stream",
     "text": [
      "paths_catalog, vcr\n"
     ]
    }
   ],
   "source": [
    "from maskrcnn_benchmark.data import *\n",
    "data_loaders_val =  make_vcr_data_loader(cfg, is_distributed=False)\n",
    "\n"
   ]
  },
  {
   "cell_type": "code",
   "execution_count": 6,
   "metadata": {},
   "outputs": [
    {
     "data": {
      "text/plain": [
       "[<torch.utils.data.dataloader.DataLoader at 0x7f8cdc5979a0>]"
      ]
     },
     "execution_count": 6,
     "metadata": {},
     "output_type": "execute_result"
    }
   ],
   "source": [
    "cfg.DATASETS.VCR\n",
    "data_loaders_val"
   ]
  },
  {
   "cell_type": "code",
   "execution_count": 7,
   "metadata": {},
   "outputs": [
    {
     "name": "stderr",
     "output_type": "stream",
     "text": [
      "\r",
      "  0%|          | 0/100 [00:00<?, ?it/s]"
     ]
    },
    {
     "name": "stdout",
     "output_type": "stream",
     "text": [
      "/home/suji/spring20/vilbert_beta/data/VCR/vcr1images/lsmdc_1054_Harry_Potter_and_the_prisoner_of_azkaban/1054_Harry_Potter_and_the_prisoner_of_azkaban_01.20.34.896-01.20.49.435@3.jpg  box tensor([[2083.4241,  289.5388, 2615.3529, 1456.6500],\n",
      "        [2532.8556,  154.8922, 3413.6167, 1443.2064],\n",
      "        [1098.0303,  275.6889, 1923.9681, 1465.1793],\n",
      "        [1412.0704,  904.1848, 2094.2500, 1473.3202],\n",
      "        [1768.0912,  945.2669, 2120.6536, 1476.7866]], dtype=torch.float64)/home/suji/spring20/vilbert_beta/data/VCR/vcr1images/lsmdc_1054_Harry_Potter_and_the_prisoner_of_azkaban/1054_Harry_Potter_and_the_prisoner_of_azkaban_00.01.46.736-00.01.50.168@0.jpg  box tensor([[1792.0159,   98.1179, 2909.1895, 1479.4361],\n",
      "        [  38.2983,   61.1126, 1718.4752, 1475.9934],\n",
      "        [1691.2625,  209.3555, 1941.1649, 1314.9911],\n",
      "        [2630.8369,  529.1337, 2892.0204, 1045.1114],\n",
      "        [1472.8781,  989.5760, 1577.5107, 1232.6794],\n",
      "        [ 687.6988,    0.0000,  913.4336,  148.6710]], dtype=torch.float64) torch.Size([5, 4])\n",
      " torch.Size([6, 4])\n",
      "/home/suji/spring20/vilbert_beta/data/VCR/vcr1images/lsmdc_0014_Ist_das_Leben_nicht_schoen/0014_Ist_das_Leben_nicht_schoen_01.14.39.611-01.14.40.870@0.jpg  box tensor([[1679.4072,  239.5901, 3010.0566, 1971.7122],\n",
      "        [ 933.4020,  249.0364, 2230.4471, 1821.7234],\n",
      "        [ 439.8390, 1353.9725, 1312.1605, 1963.0492],\n",
      "        [1430.7731,  918.5525, 1745.0809, 1654.5206],\n",
      "        [ 516.2236, 1104.4283,  748.0246, 1343.8742]], dtype=torch.float64)/home/suji/spring20/vilbert_beta/data/VCR/vcr1images/lsmdc_0010_Frau_Ohne_Gewissen/0010_Frau_Ohne_Gewissen_01.06.37.704-01.06.40.653@0.jpg  box tensor([[ 461.1318,  371.2454, 1171.6747, 1981.2025],\n",
      "        [1603.5915,   32.4802, 3124.4879, 2017.9884],\n",
      "        [1162.0924, 1245.6245, 2085.4958, 1999.6543]], dtype=torch.float64) torch.Size([5, 4])\n",
      " torch.Size([3, 4])\n",
      "1054_Harry_Potter_and_the_prisoner_of_azkaban_01.20.34.896-01.20.49.435@3.jpg  target after BoxList(num_boxes=5, image_width=999, image_height=415, mode=xyxy)\n",
      "1054_Harry_Potter_and_the_prisoner_of_azkaban_00.01.46.736-00.01.50.168@0.jpg  target after BoxList(num_boxes=6, image_width=999, image_height=415, mode=xyxy)\n",
      "0010_Frau_Ohne_Gewissen_01.06.37.704-01.06.40.653@0.jpg  target after BoxList(num_boxes=3, image_width=999, image_height=562, mode=xyxy)\n",
      "0014_Ist_das_Leben_nicht_schoen_01.14.39.611-01.14.40.870@0.jpg  target after BoxList(num_boxes=5, image_width=999, image_height=562, mode=xyxy)\n",
      "/home/suji/spring20/vilbert_beta/data/VCR/vcr1images/lsmdc_3005_ABRAHAM_LINCOLN_VAMPIRE_HUNTER/3005_ABRAHAM_LINCOLN_VAMPIRE_HUNTER_00.03.25.175-00.03.26.401@0.jpg  box tensor([[   0.0000,   18.1741, 2135.6868, 1504.6472],\n",
      "        [2554.3900, 1114.0750, 3353.0750, 1497.7675],\n",
      "        [ 511.2730, 1025.8776,  712.7527, 1474.0726],\n",
      "        [1411.3905,  950.0251, 1717.2782, 1488.3163]], dtype=torch.float64) torch.Size([4, 4])\n",
      "/home/suji/spring20/vilbert_beta/data/VCR/vcr1images/lsmdc_0050_Indiana_Jones_and_the_last_crusade/0050_Indiana_Jones_and_the_last_crusade_00.35.29.472-00.35.34.403@1.jpg  box tensor([[ 658.2408,  213.7997, 1609.1290, 1517.7937],\n",
      "        [1449.8259,  166.2512, 3149.7423, 1543.1250],\n",
      "        [ 633.4124,  212.9162, 1264.9023, 1093.3751],\n",
      "        [1227.5498,  794.3541, 1317.6524, 1092.6394],\n",
      "        [2067.4834, 1076.4734, 2297.8091, 1356.9392]], dtype=torch.float64) torch.Size([5, 4])\n",
      "3005_ABRAHAM_LINCOLN_VAMPIRE_HUNTER_00.03.25.175-00.03.26.401@0.jpg  target after BoxList(num_boxes=4, image_width=1000, image_height=421, mode=xyxy)\n",
      "0050_Indiana_Jones_and_the_last_crusade_00.35.29.472-00.35.34.403@1.jpg  target after BoxList(num_boxes=5, image_width=999, image_height=429, mode=xyxy)\n",
      "/home/suji/spring20/vilbert_beta/data/VCR/vcr1images/lsmdc_0016_O_Brother_Where_Art_Thou/0016_O_Brother_Where_Art_Thou_00.18.39.756-00.18.43.382@1.jpg  box tensor([[1.1932e+02, 0.0000e+00, 9.1786e+02, 1.5264e+03],\n",
      "        [1.6302e+03, 1.6077e+02, 2.5757e+03, 1.5394e+03],\n",
      "        [2.9561e+03, 2.0379e+02, 3.5981e+03, 1.5104e+03],\n",
      "        [1.1228e+03, 3.3243e+02, 1.7833e+03, 1.5313e+03],\n",
      "        [2.2950e+03, 1.6533e+02, 2.7979e+03, 1.5128e+03],\n",
      "        [2.6974e+03, 4.3850e+02, 2.8981e+03, 1.0910e+03],\n",
      "        [1.2488e+03, 2.8756e+02, 1.5026e+03, 7.6943e+02],\n",
      "        [2.8537e+03, 2.4660e+02, 3.3304e+03, 1.4509e+03],\n",
      "        [7.9720e+02, 3.4538e+02, 1.0311e+03, 1.1705e+03],\n",
      "        [1.7576e+03, 2.4827e+02, 1.8862e+03, 5.0049e+02],\n",
      "        [2.3789e+00, 1.6378e+02, 2.0109e+02, 1.5223e+03],\n",
      "        [1.0025e+03, 2.8023e+02, 1.2788e+03, 1.1820e+03],\n",
      "        [1.9871e+00, 1.1075e+02, 2.2796e+02, 5.5779e+02],\n",
      "        [2.5028e+03, 4.9600e+02, 2.5841e+03, 6.5406e+02],\n",
      "        [3.1321e+03, 5.5500e+02, 3.2443e+03, 7.9818e+02]], dtype=torch.float64) torch.Size([15, 4])\n",
      "/home/suji/spring20/vilbert_beta/data/VCR/vcr1images/lsmdc_1044_Pride_And_Prejudice_Disk_Two/1044_Pride_And_Prejudice_Disk_Two_01.50.06.142-01.50.11.625@2.jpg  box tensor([[ 976.6649,  567.5563, 2319.0445, 1959.1100],\n",
      "        [2203.0730,  194.8528, 3462.1690, 2003.0983],\n",
      "        [2193.8935,   11.3036, 2762.7331,  730.0226],\n",
      "        [2419.3776,    0.0000, 2797.8168,  192.2906],\n",
      "        [2820.4337,    0.0000, 3022.7250,  298.6225],\n",
      "        [1785.4647,    0.0000, 2729.0977,  670.8830],\n",
      "        [2860.0806,  288.8866, 3445.9742,  790.6657],\n",
      "        [1781.3651,  132.8270, 3429.2745,  747.8485],\n",
      "        [ 842.2241, 1240.8214, 1319.5461, 1891.8268]], dtype=torch.float64) torch.Size([9, 4])\n",
      "/home/suji/spring20/vilbert_beta/data/VCR/vcr1images/lsmdc_3036_IN_TIME/3036_IN_TIME_00.51.11.046-00.51.29.286@4.jpg  box tensor([[3.8242e+02, 1.5573e+01, 1.6271e+03, 1.5042e+03],\n",
      "        [1.3328e+03, 4.8920e+02, 1.9251e+03, 1.4980e+03],\n",
      "        [2.0913e+03, 5.7558e+02, 2.8588e+03, 1.5067e+03],\n",
      "        [3.1424e+03, 2.5163e+00, 3.5890e+03, 6.4739e+01]], dtype=torch.float64) torch.Size([4, 4])\n",
      "1044_Pride_And_Prejudice_Disk_Two_01.50.06.142-01.50.11.625@2.jpg  target after BoxList(num_boxes=9, image_width=999, image_height=562, mode=xyxy)\n",
      "0016_O_Brother_Where_Art_Thou_00.18.39.756-00.18.43.382@1.jpg  target after BoxList(num_boxes=15, image_width=999, image_height=428, mode=xyxy)\n",
      "3036_IN_TIME_00.51.11.046-00.51.29.286@4.jpg  target after BoxList(num_boxes=4, image_width=1000, image_height=425, mode=xyxy)\n",
      "GeneralizedRCNN model forward\n",
      "roi_head\n",
      "self.score_thresh 0.5\n"
     ]
    },
    {
     "name": "stderr",
     "output_type": "stream",
     "text": [
      "\r",
      "  1%|          | 1/100 [00:00<01:18,  1.27it/s]"
     ]
    },
    {
     "name": "stdout",
     "output_type": "stream",
     "text": [
      "/home/suji/spring20/vilbert_beta/data/VCR/vcr1images/lsmdc_0050_Indiana_Jones_and_the_last_crusade/0050_Indiana_Jones_and_the_last_crusade_01.01.42.002-01.01.44.662@0.jpg  box tensor([[2697.2807,  567.1021, 3176.4393, 1529.4889],\n",
      "        [1651.7601,  571.4487, 1960.8261, 1289.6941],\n",
      "        [1924.2270,  605.0742, 2223.9825, 1285.0982],\n",
      "        [1936.5550,  532.8686, 2107.4231, 1118.3462],\n",
      "        [2985.1893,  899.7049, 3184.3499, 1123.3969]], dtype=torch.float64) torch.Size([5, 4])\n",
      "0050_Indiana_Jones_and_the_last_crusade_01.01.42.002-01.01.44.662@0.jpg  target after BoxList(num_boxes=5, image_width=999, image_height=429, mode=xyxy)\n",
      "reln 1\n",
      "orig_features torch.Size([21, 4096])\n",
      "\n",
      "img_id (0,)\n",
      "proposal: [BoxList(num_boxes=1000, image_width=999, image_height=415, mode=xyxy)]\n",
      "GeneralizedRCNN model forward\n"
     ]
    },
    {
     "name": "stderr",
     "output_type": "stream",
     "text": [
      "\r",
      "  2%|▏         | 2/100 [00:01<01:02,  1.58it/s]"
     ]
    },
    {
     "name": "stdout",
     "output_type": "stream",
     "text": [
      "/home/suji/spring20/vilbert_beta/data/VCR/vcr1images/lsmdc_3036_IN_TIME/3036_IN_TIME_00.47.35.702-00.47.36.509@0.jpg  box tensor([[1318.9902,   71.0145, 2790.5942, 1482.8931],\n",
      "        [  90.4046,  164.1238, 1395.2220, 1484.7996],\n",
      "        [ 360.1887,  117.6829, 2225.8683, 1495.2637],\n",
      "        [2208.5925, 1075.4568, 2365.3651, 1479.0803],\n",
      "        [2641.5349,   46.0793, 3556.2671, 1495.2328]], dtype=torch.float64) torch.Size([5, 4])\n",
      "roi_head\n",
      "self.score_thresh 0.5\n",
      "reln 1\n",
      "orig_features torch.Size([11, 4096])\n",
      "\n",
      "img_id (1,)\n",
      "proposal: [BoxList(num_boxes=1000, image_width=999, image_height=562, mode=xyxy)]\n",
      "GeneralizedRCNN model forward\n",
      "3036_IN_TIME_00.47.35.702-00.47.36.509@0.jpg  target after BoxList(num_boxes=5, image_width=1000, image_height=425, mode=xyxy)\n"
     ]
    },
    {
     "name": "stderr",
     "output_type": "stream",
     "text": [
      "\r",
      "  3%|▎         | 3/100 [00:01<00:49,  1.95it/s]"
     ]
    },
    {
     "name": "stdout",
     "output_type": "stream",
     "text": [
      "/home/suji/spring20/vilbert_beta/data/VCR/vcr1images/lsmdc_0014_Ist_das_Leben_nicht_schoen/0014_Ist_das_Leben_nicht_schoen_02.03.34.249-02.03.34.749@0.jpg  box tensor([[ 528.5001,  390.7740, 1281.2272, 2011.9313],\n",
      "        [1694.2129,  409.9852, 2328.8120, 1999.7585],\n",
      "        [1253.6061,  752.6942, 1798.5666, 2004.3542],\n",
      "        [2682.0177,  714.7775, 3157.5407, 2022.7290],\n",
      "        [ 558.4155,  207.1227,  750.9993,  439.3883],\n",
      "        [1578.3614, 1078.5962, 1627.9887, 1203.6391],\n",
      "        [2002.6607,  745.6348, 2044.8697,  866.0698],\n",
      "        [1958.4048,  746.0175, 2048.8548, 1092.6196],\n",
      "        [1932.1477,  744.4891, 2056.6196, 1253.9071],\n",
      "        [2924.5324, 1053.9777, 3003.6005, 1406.2097],\n",
      "        [1749.9473, 1527.7935, 2254.4048, 1922.8647]], dtype=torch.float64) torch.Size([11, 4])\n",
      "roi_head\n",
      "self.score_thresh 0.5\n",
      "reln 1\n",
      "orig_features torch.Size([9, 4096])\n",
      "\n",
      "img_id (2,)\n",
      "proposal: [BoxList(num_boxes=1000, image_width=999, image_height=415, mode=xyxy)]\n",
      "GeneralizedRCNN model forward\n",
      "0014_Ist_das_Leben_nicht_schoen_02.03.34.249-02.03.34.749@0.jpg  target after BoxList(num_boxes=11, image_width=999, image_height=562, mode=xyxy)\n"
     ]
    },
    {
     "name": "stderr",
     "output_type": "stream",
     "text": [
      "\r",
      "  4%|▍         | 4/100 [00:01<00:42,  2.25it/s]"
     ]
    },
    {
     "name": "stdout",
     "output_type": "stream",
     "text": [
      "/home/suji/spring20/vilbert_beta/data/VCR/vcr1images/lsmdc_3036_IN_TIME/3036_IN_TIME_00.37.33.594-00.37.54.485@0.jpg  box tensor([[4.7999e+02, 3.8733e+02, 1.7033e+03, 1.5087e+03],\n",
      "        [1.4728e+03, 2.6925e+01, 2.6929e+03, 1.5153e+03],\n",
      "        [2.8576e+03, 6.1259e+02, 3.0100e+03, 1.4011e+03],\n",
      "        [3.2863e+03, 5.7308e+02, 3.5981e+03, 1.5238e+03],\n",
      "        [4.0999e+00, 6.3925e+02, 1.4503e+02, 9.6801e+02],\n",
      "        [3.4097e+00, 6.8439e+02, 2.4922e+02, 1.5172e+03],\n",
      "        [2.6661e+03, 6.0683e+02, 2.7652e+03, 1.1611e+03],\n",
      "        [2.3535e+03, 4.2849e+02, 2.7402e+03, 1.1875e+03],\n",
      "        [1.7955e+03, 8.8418e+02, 2.0146e+03, 1.3501e+03],\n",
      "        [2.0077e+02, 1.1179e+03, 5.2968e+02, 1.5182e+03]], dtype=torch.float64) torch.Size([10, 4])\n",
      "roi_head\n",
      "self.score_thresh 0.5\n",
      "reln 1\n",
      "orig_features torch.Size([16, 4096])\n",
      "\n",
      "img_id (3,)\n",
      "proposal: [BoxList(num_boxes=1000, image_width=999, image_height=562, mode=xyxy)]\n",
      "GeneralizedRCNN model forward\n",
      "3036_IN_TIME_00.37.33.594-00.37.54.485@0.jpg  target after BoxList(num_boxes=10, image_width=1000, image_height=425, mode=xyxy)\n"
     ]
    },
    {
     "name": "stderr",
     "output_type": "stream",
     "text": [
      "\r",
      "  5%|▌         | 5/100 [00:01<00:37,  2.53it/s]"
     ]
    },
    {
     "name": "stdout",
     "output_type": "stream",
     "text": [
      "roi_head\n",
      "self.score_thresh 0.5\n",
      "reln 1\n",
      "orig_features torch.Size([22, 4096])\n",
      "\n",
      "img_id (4,)\n",
      "proposal: [BoxList(num_boxes=1000, image_width=999, image_height=429, mode=xyxy)]\n",
      "GeneralizedRCNN model forward\n",
      "/home/suji/spring20/vilbert_beta/data/VCR/vcr1images/lsmdc_1010_TITANIC/1010_TITANIC_00.25.40.992-00.25.53.960@0.jpg  box tensor([[1387.2421,  462.2387, 2573.3636, 1520.8931],\n",
      "        [2260.8730,  526.6625, 3013.0300, 1371.7957],\n",
      "        [ 407.0082,  986.8396,  686.5726, 1536.4911],\n",
      "        [2071.2726,  664.9134, 2736.1780, 1329.8058],\n",
      "        [2098.8730,  754.8969, 2585.2121, 1190.2113]], dtype=torch.float64) torch.Size([5, 4])\n",
      "1010_TITANIC_00.25.40.992-00.25.53.960@0.jpg  target after BoxList(num_boxes=5, image_width=999, image_height=428, mode=xyxy)\n"
     ]
    },
    {
     "name": "stderr",
     "output_type": "stream",
     "text": [
      "\r",
      "  6%|▌         | 6/100 [00:02<00:34,  2.69it/s]"
     ]
    },
    {
     "name": "stdout",
     "output_type": "stream",
     "text": [
      "roi_head\n",
      "self.score_thresh 0.5\n",
      "reln 1\n",
      "orig_features torch.Size([22, 4096])\n",
      "\n",
      "img_id (5,)\n",
      "proposal: [BoxList(num_boxes=1000, image_width=999, image_height=562, mode=xyxy)]\n",
      "GeneralizedRCNN model forward\n",
      "/home/suji/spring20/vilbert_beta/data/VCR/vcr1images/lsmdc_1020_Crazy_Stupid_Love/1020_Crazy_Stupid_Love_01.16.32.961-01.16.36.199@0.jpg  box tensor([[2484.7325,  800.2243, 2563.2527,  874.8356],\n",
      "        [1164.5011,  612.5705, 1355.9747,  877.7994],\n",
      "        [1553.5905,  594.6580, 1830.9303,  880.9831],\n",
      "        [1065.4148,  807.3553, 1124.7770,  874.0893],\n",
      "        [ 348.9444,  630.9540,  698.7264, 1334.6528],\n",
      "        [2595.7107,  775.7346, 2726.8856,  873.2843],\n",
      "        [2853.8862,  644.6388, 3170.3867, 1327.1038],\n",
      "        [ 826.8752,  730.3510, 1004.5858,  873.7255],\n",
      "        [2035.0697,  258.9222, 2079.2054,  392.7175],\n",
      "        [2223.9397,  248.8584, 2275.7046,  403.2289],\n",
      "        [2323.9417,  257.0099, 2368.7910,  393.7115],\n",
      "        [2188.3019,  251.9854, 2225.2833,  393.5664],\n",
      "        [2138.4107,  232.5349, 2179.1091,  393.9766],\n",
      "        [ 909.7012, 1028.8356, 1181.6487, 1457.9385],\n",
      "        [2605.3832, 1032.8933, 2932.3551, 1472.5126],\n",
      "        [2278.9776, 1045.8211, 2581.3438, 1477.2043],\n",
      "        [1234.9525, 1029.7898, 1498.3301, 1469.0095],\n",
      "        [1609.2437, 1035.7724, 1846.8045, 1468.8823],\n",
      "        [ 526.2074, 1024.1509,  854.0371, 1474.1761],\n",
      "        [1945.7197, 1027.4112, 2202.0925, 1473.8660]], dtype=torch.float64) torch.Size([20, 4])\n",
      "1020_Crazy_Stupid_Love_01.16.32.961-01.16.36.199@0.jpg  target after BoxList(num_boxes=20, image_width=1000, image_height=421, mode=xyxy)\n"
     ]
    },
    {
     "name": "stderr",
     "output_type": "stream",
     "text": [
      "\r",
      "  7%|▋         | 7/100 [00:02<00:31,  2.98it/s]"
     ]
    },
    {
     "name": "stdout",
     "output_type": "stream",
     "text": [
      "roi_head\n",
      "self.score_thresh 0.5\n",
      "reln 1\n",
      "orig_features torch.Size([13, 4096])\n",
      "\n",
      "img_id (6,)\n",
      "proposal: [BoxList(num_boxes=1000, image_width=1000, image_height=421, mode=xyxy)]\n",
      "GeneralizedRCNN model forward\n",
      "/home/suji/spring20/vilbert_beta/data/VCR/vcr1images/lsmdc_3036_IN_TIME/3036_IN_TIME_01.00.58.012-01.01.02.524@0.jpg  box tensor([[2031.5012,  899.6336, 2140.6641, 1174.9390],\n",
      "        [1952.1151,  917.3625, 2032.1926, 1190.4622],\n",
      "        [2122.0553,  887.6313, 2204.1639, 1168.7692],\n",
      "        [2753.7463,  736.0343, 2837.1874,  971.9067],\n",
      "        [2277.2605,  876.0164, 2339.9851, 1123.7661],\n",
      "        [2526.6399,  818.3368, 2597.0924, 1065.0439],\n",
      "        [2407.4828,  808.0165, 2476.7562, 1080.2307],\n",
      "        [ 852.7516,  939.2726,  999.1626, 1203.3017],\n",
      "        [2236.8583,  915.6696, 2274.9841, 1144.8307],\n",
      "        [2865.7819,  716.3021, 2935.8348,  958.5706],\n",
      "        [2327.1549,  893.3720, 2390.7177, 1156.4090],\n",
      "        [2981.5128,  725.9910, 3054.5013,  917.5663],\n",
      "        [2699.8709,  755.6052, 2767.9257,  986.5298],\n",
      "        [2830.2383,  733.4785, 2888.3134,  942.7491],\n",
      "        [2628.2144,  765.5881, 2674.1139,  977.9177]], dtype=torch.float64) torch.Size([15, 4])\n",
      "3036_IN_TIME_01.00.58.012-01.01.02.524@0.jpg  target after BoxList(num_boxes=15, image_width=1000, image_height=425, mode=xyxy)\n"
     ]
    },
    {
     "name": "stderr",
     "output_type": "stream",
     "text": [
      "\r",
      "  8%|▊         | 8/100 [00:02<00:29,  3.14it/s]"
     ]
    },
    {
     "name": "stdout",
     "output_type": "stream",
     "text": [
      "roi_head\n",
      "self.score_thresh 0.5\n",
      "reln 1\n",
      "orig_features torch.Size([20, 4096])\n",
      "\n",
      "img_id (7,)\n",
      "proposal: [BoxList(num_boxes=1000, image_width=999, image_height=428, mode=xyxy)]\n",
      "GeneralizedRCNN model forward\n",
      "/home/suji/spring20/vilbert_beta/data/VCR/vcr1images/lsmdc_0050_Indiana_Jones_and_the_last_crusade/0050_Indiana_Jones_and_the_last_crusade_00.27.24.997-00.27.32.931@3.jpg  box tensor([[  95.9074,  213.8869, 1874.6887, 1476.7442],\n",
      "        [ 434.5169,  371.3757, 1662.4799, 1226.6848],\n",
      "        [1589.1784,  472.4317, 2702.5735, 1509.4147],\n",
      "        [1300.0219,  219.0135, 2257.2414, 1064.3952]], dtype=torch.float64) torch.Size([4, 4])\n",
      "0050_Indiana_Jones_and_the_last_crusade_00.27.24.997-00.27.32.931@3.jpg  target after BoxList(num_boxes=4, image_width=999, image_height=429, mode=xyxy)\n"
     ]
    },
    {
     "name": "stderr",
     "output_type": "stream",
     "text": [
      "\r",
      "  9%|▉         | 9/100 [00:02<00:27,  3.26it/s]"
     ]
    },
    {
     "name": "stdout",
     "output_type": "stream",
     "text": [
      "roi_head\n",
      "self.score_thresh 0.5\n",
      "reln 1\n",
      "orig_features torch.Size([22, 4096])\n",
      "\n",
      "img_id (8,)\n",
      "proposal: [BoxList(num_boxes=1000, image_width=1000, image_height=425, mode=xyxy)]\n",
      "GeneralizedRCNN model forward\n",
      "/home/suji/spring20/vilbert_beta/data/VCR/vcr1images/lsmdc_1044_Pride_And_Prejudice_Disk_Two/1044_Pride_And_Prejudice_Disk_Two_01.29.30.876-01.29.32.236@0.jpg  box tensor([[2422.3315,  113.5877, 3561.5593, 2007.0145],\n",
      "        [ 256.3321,   39.7820, 1497.0799, 1985.8028],\n",
      "        [1475.8484,  145.1914, 2536.0373, 2013.5772],\n",
      "        [2610.7576, 1382.0311, 3091.0583, 1772.4422],\n",
      "        [2399.4413, 1592.8485, 2557.6252, 2017.3881],\n",
      "        [1330.9875, 1620.3949, 1589.2676, 1990.5361]], dtype=torch.float64) torch.Size([6, 4])\n",
      "1044_Pride_And_Prejudice_Disk_Two_01.29.30.876-01.29.32.236@0.jpg  target after BoxList(num_boxes=6, image_width=999, image_height=562, mode=xyxy)\n"
     ]
    },
    {
     "name": "stderr",
     "output_type": "stream",
     "text": [
      "\r",
      " 10%|█         | 10/100 [00:03<00:26,  3.42it/s]"
     ]
    },
    {
     "name": "stdout",
     "output_type": "stream",
     "text": [
      "/home/suji/spring20/vilbert_beta/data/VCR/vcr1images/lsmdc_1020_Crazy_Stupid_Love/1020_Crazy_Stupid_Love_01.44.38.219-01.44.45.843@2.jpg  box tensor([[ 946.1061,  971.8016, 1542.8820, 1503.2243],\n",
      "        [2855.8189,  682.0913, 3369.6925, 1398.9008],\n",
      "        [1523.7071,  923.2622, 2118.0798, 1494.2468],\n",
      "        [ 357.8786,  933.7121,  922.9855, 1494.4740],\n",
      "        [2364.9303,  599.6233, 2872.6895, 1438.7029],\n",
      "        [1580.3665,  609.1901, 1958.1647, 1105.0976],\n",
      "        [ 959.1724,  530.6773, 1554.2203, 1254.5550],\n",
      "        [2198.2423,  944.0666, 2737.9397, 1509.2356],\n",
      "        [1972.8211,  644.5797, 2342.9317, 1468.8122],\n",
      "        [3295.1367,  351.4012, 3542.9736,  725.2020],\n",
      "        [1791.3690,  358.5661, 1961.3688,  653.9472],\n",
      "        [1518.2500,  444.5669, 1815.5007,  930.2037],\n",
      "        [ 444.2964,  254.4689, 1251.3105, 1362.6899],\n",
      "        [2244.3262,  490.0463, 2516.9318,  951.7105],\n",
      "        [2894.5919,  427.3527, 3328.5853, 1013.9511],\n",
      "        [3336.4176,  487.5604, 3598.1250, 1375.8073],\n",
      "        [2882.5813,  229.9252, 3256.8571,  798.1639],\n",
      "        [2376.0326,  357.4515, 2604.5318,  708.8826],\n",
      "        [2639.0330,  456.6241, 2870.6394,  937.3854],\n",
      "        [3425.8738,  787.5108, 3598.1250, 1498.4447],\n",
      "        [1912.0315,  482.3555, 2124.6778,  939.0678],\n",
      "        [2107.2237,  261.8894, 2381.4375,  665.4204],\n",
      "        [2807.8958,  962.3372, 3442.7280, 1500.9518],\n",
      "        [1958.0157,  672.4919, 2032.2425,  882.0110],\n",
      "        [2575.7723,  906.9665, 2638.6805, 1148.2819]], dtype=torch.float64) torch.Size([25, 4])\n",
      "roi_head\n",
      "self.score_thresh 0.5\n",
      "reln 1\n",
      "orig_features torch.Size([12, 4096])\n",
      "\n",
      "img_id (9,)\n",
      "proposal: [BoxList(num_boxes=1000, image_width=999, image_height=429, mode=xyxy)]\n",
      "GeneralizedRCNN model forward\n",
      "1020_Crazy_Stupid_Love_01.44.38.219-01.44.45.843@2.jpg  target after BoxList(num_boxes=25, image_width=1000, image_height=421, mode=xyxy)\n"
     ]
    },
    {
     "name": "stderr",
     "output_type": "stream",
     "text": [
      "\r",
      " 11%|█         | 11/100 [00:03<00:25,  3.43it/s]"
     ]
    },
    {
     "name": "stdout",
     "output_type": "stream",
     "text": [
      "roi_head\n",
      "self.score_thresh 0.5\n",
      "reln 1\n",
      "orig_features torch.Size([18, 4096])\n",
      "\n",
      "img_id (10,)\n",
      "proposal: [BoxList(num_boxes=1000, image_width=1000, image_height=425, mode=xyxy)]\n",
      "GeneralizedRCNN model forward\n",
      "/home/suji/spring20/vilbert_beta/data/VCR/vcr1images/lsmdc_3031_HANSEL_GRETEL_WITCH_HUNTERS/3031_HANSEL_GRETEL_WITCH_HUNTERS_00.45.18.625-00.45.48.581@6.jpg  box tensor([[ 409.4085,  319.8716,  903.6079, 1476.7596],\n",
      "        [ 839.9633,  118.2107, 2115.8789, 1464.2709],\n",
      "        [1879.3618,  398.3496, 2250.0817, 1447.8738],\n",
      "        [2483.2498,  415.2044, 3205.9259, 1489.8644],\n",
      "        [2021.0332,  380.8500, 2309.3552, 1151.3485],\n",
      "        [1191.2575,  264.7547, 1494.7592,  638.1765],\n",
      "        [1566.9569,  684.9963, 1757.5051, 1117.0555]], dtype=torch.float64) torch.Size([7, 4])\n",
      "3031_HANSEL_GRETEL_WITCH_HUNTERS_00.45.18.625-00.45.48.581@6.jpg  target after BoxList(num_boxes=7, image_width=1000, image_height=419, mode=xyxy)\n",
      "roi_head\n",
      "self.score_thresh 0.5\n",
      "reln 1\n",
      "orig_features torch.Size([32, 4096])\n",
      "\n"
     ]
    },
    {
     "name": "stderr",
     "output_type": "stream",
     "text": [
      "\r",
      " 12%|█▏        | 12/100 [00:03<00:27,  3.20it/s]"
     ]
    },
    {
     "name": "stdout",
     "output_type": "stream",
     "text": [
      "/home/suji/spring20/vilbert_beta/data/VCR/vcr1images/lsmdc_1044_Pride_And_Prejudice_Disk_Two/1044_Pride_And_Prejudice_Disk_Two_02.26.59.162-02.27.05.382@1.jpg  box tensor([[ 343.9502,  535.8426, 1259.9100, 2023.1250],\n",
      "        [1468.4518,  105.8755, 2503.7041, 1981.5717],\n",
      "        [ 678.7146, 1045.4581,  946.9547, 1613.3338]], dtype=torch.float64) torch.Size([3, 4])\n",
      "1044_Pride_And_Prejudice_Disk_Two_02.26.59.162-02.27.05.382@1.jpg  target after BoxList(num_boxes=3, image_width=999, image_height=562, mode=xyxy)\n",
      "img_id (11,)\n",
      "proposal: [BoxList(num_boxes=1000, image_width=999, image_height=562, mode=xyxy)]\n",
      "GeneralizedRCNN model forward\n",
      "roi_head\n",
      "self.score_thresh 0.5\n",
      "reln 1\n",
      "orig_features torch.Size([25, 4096])\n",
      "\n"
     ]
    },
    {
     "name": "stderr",
     "output_type": "stream",
     "text": [
      "\r",
      " 13%|█▎        | 13/100 [00:04<00:26,  3.24it/s]"
     ]
    },
    {
     "name": "stdout",
     "output_type": "stream",
     "text": [
      "/home/suji/spring20/vilbert_beta/data/VCR/vcr1images/lsmdc_3031_HANSEL_GRETEL_WITCH_HUNTERS/3031_HANSEL_GRETEL_WITCH_HUNTERS_00.04.24.171-00.04.27.384@0.jpg  box tensor([[1029.4123,  151.4685, 2007.0371, 1479.1167],\n",
      "        [2297.8610,  967.8880, 2355.5685, 1124.5702],\n",
      "        [2814.4524,  895.6431, 3407.7374, 1147.9766]], dtype=torch.float64) torch.Size([3, 4])\n",
      "3031_HANSEL_GRETEL_WITCH_HUNTERS_00.04.24.171-00.04.27.384@0.jpg  target after BoxList(num_boxes=3, image_width=1000, image_height=419, mode=xyxy)\n",
      "img_id (12,)\n",
      "proposal: [BoxList(num_boxes=1000, image_width=1000, image_height=425, mode=xyxy)]\n",
      "GeneralizedRCNN model forward\n",
      "roi_head\n",
      "self.score_thresh 0.5\n",
      "reln 1\n",
      "orig_features torch.Size([6, 4096])\n",
      "\n"
     ]
    },
    {
     "name": "stderr",
     "output_type": "stream",
     "text": [
      "\r",
      " 14%|█▍        | 14/100 [00:04<00:24,  3.53it/s]"
     ]
    },
    {
     "name": "stdout",
     "output_type": "stream",
     "text": [
      "/home/suji/spring20/vilbert_beta/data/VCR/vcr1images/lsmdc_0010_Frau_Ohne_Gewissen/0010_Frau_Ohne_Gewissen_01.43.33.236-01.43.34.868@0.jpg  box tensor([[2077.4542,  782.7022, 3132.9552, 2012.5765],\n",
      "        [ 467.4964,  200.1241, 1176.0084, 1567.4421],\n",
      "        [2566.9080, 1330.2493, 2728.9476, 1674.8753],\n",
      "        [2583.9288, 1299.1571, 2684.7741, 1365.5827],\n",
      "        [ 862.9587,  604.9103,  915.3425,  842.0416],\n",
      "        [1139.2366,  985.0523, 1484.9484, 1477.8632]], dtype=torch.float64) torch.Size([6, 4])\n",
      "0010_Frau_Ohne_Gewissen_01.43.33.236-01.43.34.868@0.jpg  target after BoxList(num_boxes=6, image_width=999, image_height=562, mode=xyxy)\n",
      "img_id (13,)\n",
      "proposal: [BoxList(num_boxes=1000, image_width=999, image_height=428, mode=xyxy)]\n",
      "GeneralizedRCNN model forward\n",
      "roi_head\n",
      "self.score_thresh 0.5\n",
      "reln 1\n",
      "orig_features torch.Size([23, 4096])\n",
      "\n"
     ]
    },
    {
     "name": "stderr",
     "output_type": "stream",
     "text": [
      "\r",
      " 15%|█▌        | 15/100 [00:04<00:24,  3.48it/s]"
     ]
    },
    {
     "name": "stdout",
     "output_type": "stream",
     "text": [
      "/home/suji/spring20/vilbert_beta/data/VCR/vcr1images/lsmdc_3088_WHATS_YOUR_NUMBER/3088_WHATS_YOUR_NUMBER_00.04.36.821-00.04.38.295@0.jpg  box tensor([[1740.9359, 1206.9061, 2804.2106, 1917.1069],\n",
      "        [1604.4151, 1365.4730, 3434.4974, 1926.1903],\n",
      "        [1993.7295, 1677.9213, 2262.4180, 1943.5661]], dtype=torch.float64) torch.Size([3, 4])\n",
      "3088_WHATS_YOUR_NUMBER_00.04.36.821-00.04.38.295@0.jpg  target after BoxList(num_boxes=3, image_width=999, image_height=543, mode=xyxy)\n",
      "img_id (14,)\n",
      "proposal: [BoxList(num_boxes=1000, image_width=1000, image_height=421, mode=xyxy)]\n",
      "GeneralizedRCNN model forward\n",
      "roi_head\n",
      "self.score_thresh 0.5\n",
      "reln 1\n",
      "orig_features torch.Size([14, 4096])\n",
      "\n"
     ]
    },
    {
     "name": "stderr",
     "output_type": "stream",
     "text": [
      "\r",
      " 16%|█▌        | 16/100 [00:04<00:23,  3.57it/s]"
     ]
    },
    {
     "name": "stdout",
     "output_type": "stream",
     "text": [
      "/home/suji/spring20/vilbert_beta/data/VCR/vcr1images/lsmdc_1010_TITANIC/1010_TITANIC_02.12.23.399-02.12.29.108@1.jpg  box tensor([[1043.7812,   33.5729, 2632.5224, 1539.3750],\n",
      "        [2044.5992,   55.8773, 3562.6176, 1535.7298],\n",
      "        [1062.0309,  427.4207, 1520.1535, 1521.5160]], dtype=torch.float64) torch.Size([3, 4])\n",
      "1010_TITANIC_02.12.23.399-02.12.29.108@1.jpg  target after BoxList(num_boxes=3, image_width=999, image_height=428, mode=xyxy)\n",
      "img_id (15,)\n",
      "proposal: [BoxList(num_boxes=1000, image_width=1000, image_height=425, mode=xyxy)]\n",
      "GeneralizedRCNN model forward\n",
      "roi_head\n",
      "self.score_thresh 0.5\n",
      "reln 1\n",
      "orig_features torch.Size([6, 4096])\n",
      "\n"
     ]
    },
    {
     "name": "stderr",
     "output_type": "stream",
     "text": [
      "\r",
      " 17%|█▋        | 17/100 [00:05<00:21,  3.80it/s]"
     ]
    },
    {
     "name": "stdout",
     "output_type": "stream",
     "text": [
      "/home/suji/spring20/vilbert_beta/data/VCR/vcr1images/lsmdc_3005_ABRAHAM_LINCOLN_VAMPIRE_HUNTER/3005_ABRAHAM_LINCOLN_VAMPIRE_HUNTER_00.12.32.847-00.12.36.360@1.jpg  box tensor([[1585.3553,   70.9602, 2433.4600, 1484.1122],\n",
      "        [ 832.9864,  378.0321, 1539.1058, 1496.6243],\n",
      "        [1494.2504, 1004.1433, 1647.3103, 1496.3150]], dtype=torch.float64) torch.Size([3, 4])\n",
      "3005_ABRAHAM_LINCOLN_VAMPIRE_HUNTER_00.12.32.847-00.12.36.360@1.jpg  target after BoxList(num_boxes=3, image_width=1000, image_height=421, mode=xyxy)\n",
      "img_id (16,)\n",
      "proposal: [BoxList(num_boxes=1000, image_width=999, image_height=429, mode=xyxy)]\n",
      "GeneralizedRCNN model forward\n",
      "roi_head\n",
      "self.score_thresh 0.5\n"
     ]
    },
    {
     "name": "stderr",
     "output_type": "stream",
     "text": [
      "\r",
      " 18%|█▊        | 18/100 [00:05<00:22,  3.64it/s]"
     ]
    },
    {
     "name": "stdout",
     "output_type": "stream",
     "text": [
      "/home/suji/spring20/vilbert_beta/data/VCR/vcr1images/lsmdc_0010_Frau_Ohne_Gewissen/0010_Frau_Ohne_Gewissen_01.40.35.924-01.40.38.321@0.jpg  box tensor([[1547.0837,  209.3080, 2590.6654, 1987.0047],\n",
      "        [1543.2120, 1012.2388, 2041.6008, 1975.5672],\n",
      "        [1836.8345,  701.6512, 1929.1237, 1065.3526],\n",
      "        [ 458.0089, 1312.7479, 1496.1583, 2002.4712],\n",
      "        [1082.5158,  998.6260, 1417.8617, 1570.8333]], dtype=torch.float64) torch.Size([5, 4])\n",
      "reln 1\n",
      "orig_features torch.Size([21, 4096])\n",
      "\n",
      "img_id (17,)\n",
      "proposal: [BoxList(num_boxes=1000, image_width=999, image_height=562, mode=xyxy)]\n",
      "GeneralizedRCNN model forward\n",
      "roi_head\n",
      "0010_Frau_Ohne_Gewissen_01.40.35.924-01.40.38.321@0.jpg  target after BoxList(num_boxes=5, image_width=999, image_height=562, mode=xyxy)\n",
      "self.score_thresh 0.5\n",
      "reln 1\n",
      "orig_features torch.Size([37, 4096])\n",
      "\n"
     ]
    },
    {
     "name": "stderr",
     "output_type": "stream",
     "text": [
      "\r",
      " 19%|█▉        | 19/100 [00:05<00:24,  3.30it/s]"
     ]
    },
    {
     "name": "stdout",
     "output_type": "stream",
     "text": [
      "/home/suji/spring20/vilbert_beta/data/VCR/vcr1images/lsmdc_3036_IN_TIME/3036_IN_TIME_00.32.44.634-00.32.45.739@0.jpg  box tensor([[1620.1559,   54.8011, 2863.3326, 1181.6066],\n",
      "        [ 236.5484,  166.9203, 1074.8955, 1099.8644],\n",
      "        [1949.3275,   77.4695, 3598.1250, 1498.6893],\n",
      "        [2274.2118,  567.7758, 2493.3149,  674.9062],\n",
      "        [1276.2249,  675.2661, 1649.5751,  822.5459],\n",
      "        [   0.0000, 1158.9381, 2084.5486, 1502.7280],\n",
      "        [2046.2551,  807.1203, 2268.4898, 1005.4677]], dtype=torch.float64) torch.Size([7, 4])\n",
      "3036_IN_TIME_00.32.44.634-00.32.45.739@0.jpg  target after BoxList(num_boxes=7, image_width=1000, image_height=425, mode=xyxy)\n",
      "img_id (18,)\n",
      "proposal: [BoxList(num_boxes=1000, image_width=1000, image_height=421, mode=xyxy)]\n",
      "GeneralizedRCNN model forward\n",
      "roi_head\n",
      "self.score_thresh 0.5\n",
      "reln 1\n",
      "orig_features torch.Size([24, 4096])\n",
      "\n"
     ]
    },
    {
     "name": "stderr",
     "output_type": "stream",
     "text": [
      "\r",
      " 20%|██        | 20/100 [00:06<00:24,  3.31it/s]"
     ]
    },
    {
     "name": "stdout",
     "output_type": "stream",
     "text": [
      "/home/suji/spring20/vilbert_beta/data/VCR/vcr1images/lsmdc_0014_Ist_das_Leben_nicht_schoen/0014_Ist_das_Leben_nicht_schoen_01.51.17.009-01.51.19.610@0.jpg  box tensor([[ 712.8873,  545.0272, 2301.4327, 1986.3995],\n",
      "        [1896.4764,    0.0000, 3372.3116, 2023.1250],\n",
      "        [2430.0458,    0.0000, 3180.3255, 1836.2187],\n",
      "        [1392.5450, 1501.0712, 1657.5629, 1827.8224]], dtype=torch.float64) torch.Size([4, 4])\n",
      "0014_Ist_das_Leben_nicht_schoen_01.51.17.009-01.51.19.610@0.jpg  target after BoxList(num_boxes=4, image_width=999, image_height=562, mode=xyxy)\n",
      "img_id (19,)\n",
      "proposal: [BoxList(num_boxes=1000, image_width=1000, image_height=419, mode=xyxy)]\n",
      "GeneralizedRCNN model forward\n",
      "roi_head\n",
      "self.score_thresh 0.5\n"
     ]
    },
    {
     "name": "stderr",
     "output_type": "stream",
     "text": [
      "\r",
      " 21%|██        | 21/100 [00:06<00:23,  3.34it/s]"
     ]
    },
    {
     "name": "stdout",
     "output_type": "stream",
     "text": [
      "/home/suji/spring20/vilbert_beta/data/VCR/vcr1images/lsmdc_0041_The_Sixth_Sense/0041_The_Sixth_Sense_01.23.10.739-01.23.15.745@0.jpg  box tensor([[2281.5720,  773.5968, 3529.6504, 2010.5850],\n",
      "        [ 941.0017,  135.2688, 1561.9297, 2019.0079],\n",
      "        [   0.0000,    7.3455,  616.3897, 2015.9150],\n",
      "        [1903.9753,  104.7057, 2504.3182, 1288.8867],\n",
      "        [1467.3445,  493.2539, 2452.7225, 2023.1250],\n",
      "        [1605.7260,  130.0155, 2097.0818,  936.1848],\n",
      "        [ 468.2405,  159.5649,  977.7195, 1991.4095],\n",
      "        [1540.4313,  244.2519, 2260.0410, 1553.6101],\n",
      "        [2421.2718,  386.8866, 2700.9686, 1169.5557],\n",
      "        [ 804.3047,  317.1812, 1000.1712,  573.5520],\n",
      "        [2767.8864,   37.5908, 3587.7979, 1776.1478],\n",
      "        [1180.5604,  468.0466, 1230.7629,  622.2584],\n",
      "        [1898.7025, 1073.4361, 2037.0360, 1328.6176]], dtype=torch.float64) torch.Size([13, 4])\n",
      "0041_The_Sixth_Sense_01.23.10.739-01.23.15.745@0.jpg  target after BoxList(num_boxes=13, image_width=999, image_height=562, mode=xyxy)\n",
      "reln 1\n",
      "orig_features torch.Size([16, 4096])\n",
      "\n",
      "img_id (20,)\n",
      "proposal: [BoxList(num_boxes=1000, image_width=999, image_height=562, mode=xyxy)]\n",
      "GeneralizedRCNN model forward\n",
      "roi_head\n",
      "self.score_thresh 0.5\n"
     ]
    },
    {
     "name": "stderr",
     "output_type": "stream",
     "text": [
      "\r",
      " 22%|██▏       | 22/100 [00:06<00:21,  3.59it/s]"
     ]
    },
    {
     "name": "stdout",
     "output_type": "stream",
     "text": [
      "/home/suji/spring20/vilbert_beta/data/VCR/vcr1images/lsmdc_0016_O_Brother_Where_Art_Thou/0016_O_Brother_Where_Art_Thou_00.51.19.893-00.51.21.307@0.jpg  box tensor([[ 441.1256,   97.0254, 1678.2246, 1430.1861],\n",
      "        [1827.2491,  180.2969, 3479.6555, 1488.7055],\n",
      "        [1050.5830, 1294.8949, 1268.0468, 1484.7073],\n",
      "        [1654.8220, 1174.6813, 1880.7588, 1524.8012],\n",
      "        [  23.1938, 1113.5550,  273.6406, 1489.3616],\n",
      "        [2037.1678, 1430.6774, 2536.6782, 1526.7851],\n",
      "        [ 880.0774, 1422.0765, 1195.2355, 1531.5079]], dtype=torch.float64) torch.Size([7, 4])\n",
      "0016_O_Brother_Where_Art_Thou_00.51.19.893-00.51.21.307@0.jpg  target after BoxList(num_boxes=7, image_width=999, image_height=428, mode=xyxy)\n",
      "reln 1\n",
      "orig_features torch.Size([7, 4096])\n",
      "\n",
      "img_id (21,)\n",
      "proposal: [BoxList(num_boxes=1000, image_width=1000, image_height=419, mode=xyxy)]\n",
      "GeneralizedRCNN model forward\n",
      "roi_head\n",
      "self.score_thresh 0.5\n"
     ]
    },
    {
     "name": "stderr",
     "output_type": "stream",
     "text": [
      "\r",
      " 23%|██▎       | 23/100 [00:07<00:22,  3.41it/s]"
     ]
    },
    {
     "name": "stdout",
     "output_type": "stream",
     "text": [
      "/home/suji/spring20/vilbert_beta/data/VCR/vcr1images/lsmdc_0014_Ist_das_Leben_nicht_schoen/0014_Ist_das_Leben_nicht_schoen_00.08.59.255-00.09.00.369@0.jpg  box tensor([[ 658.0663,  666.5198, 1104.0194, 1538.9899],\n",
      "        [ 925.3735,  694.0315, 1152.5536, 1371.5307],\n",
      "        [2263.8057,  876.6611, 2437.5412, 1077.5203],\n",
      "        [ 928.6731,  672.6030, 1154.4786,  989.3723],\n",
      "        [1075.4097,  737.8483, 1402.4097, 1487.6840],\n",
      "        [ 534.3455, 1752.4522, 1101.0374, 2021.4006]], dtype=torch.float64) torch.Size([6, 4])\n",
      "0014_Ist_das_Leben_nicht_schoen_00.08.59.255-00.09.00.369@0.jpg  target after BoxList(num_boxes=6, image_width=999, image_height=562, mode=xyxy)\n",
      "reln 1\n",
      "orig_features torch.Size([24, 4096])\n",
      "\n",
      "img_id (22,)\n",
      "proposal: [BoxList(num_boxes=1000, image_width=999, image_height=562, mode=xyxy)]\n",
      "GeneralizedRCNN model forward\n"
     ]
    },
    {
     "name": "stderr",
     "output_type": "stream",
     "text": [
      "\r",
      " 24%|██▍       | 24/100 [00:07<00:22,  3.35it/s]"
     ]
    },
    {
     "name": "stdout",
     "output_type": "stream",
     "text": [
      "roi_head\n",
      "self.score_thresh 0.5\n",
      "reln 1\n",
      "orig_features torch.Size([21, 4096])\n",
      "\n",
      "img_id (23,)\n",
      "proposal: [BoxList(num_boxes=1000, image_width=999, image_height=543, mode=xyxy)]\n",
      "GeneralizedRCNN model forward\n",
      "/home/suji/spring20/vilbert_beta/data/VCR/vcr1images/lsmdc_0010_Frau_Ohne_Gewissen/0010_Frau_Ohne_Gewissen_00.54.29.181-00.54.35.656@0.jpg  box tensor([[ 872.5179,  231.4174, 1852.1908, 2000.9196],\n",
      "        [2773.6789, 1194.6223, 3142.1040, 2008.9842],\n",
      "        [1335.4034,  780.7855, 1410.6536, 1004.4733],\n",
      "        [ 475.7395, 1548.2059,  769.0881, 1998.8695],\n",
      "        [2012.4815, 1540.3307, 2662.0903, 2007.9437]], dtype=torch.float64) torch.Size([5, 4])\n",
      "0010_Frau_Ohne_Gewissen_00.54.29.181-00.54.35.656@0.jpg  target after BoxList(num_boxes=5, image_width=999, image_height=562, mode=xyxy)\n"
     ]
    },
    {
     "name": "stderr",
     "output_type": "stream",
     "text": [
      "\r",
      " 25%|██▌       | 25/100 [00:07<00:21,  3.56it/s]"
     ]
    },
    {
     "name": "stdout",
     "output_type": "stream",
     "text": [
      "/home/suji/spring20/vilbert_beta/data/VCR/vcr1images/lsmdc_0016_O_Brother_Where_Art_Thou/0016_O_Brother_Where_Art_Thou_00.39.52.136-00.39.54.320@0.jpg  box tensor([[1.9751e+03, 2.2292e+00, 2.7529e+03, 1.5394e+03],\n",
      "        [1.0120e+03, 7.1297e+00, 1.7820e+03, 1.5282e+03],\n",
      "        [1.8675e+03, 3.0451e+02, 2.5125e+03, 1.0466e+03]], dtype=torch.float64) torch.Size([3, 4])\n",
      "roi_head\n",
      "self.score_thresh 0.5\n",
      "reln 1\n",
      "orig_features torch.Size([9, 4096])\n",
      "\n",
      "img_id (24,)\n",
      "proposal: [BoxList(num_boxes=1000, image_width=999, image_height=428, mode=xyxy)]\n",
      "GeneralizedRCNN model forward\n",
      "0016_O_Brother_Where_Art_Thou_00.39.52.136-00.39.54.320@0.jpg  target after BoxList(num_boxes=3, image_width=999, image_height=428, mode=xyxy)\n"
     ]
    },
    {
     "name": "stderr",
     "output_type": "stream",
     "text": [
      "\r",
      " 26%|██▌       | 26/100 [00:07<00:20,  3.65it/s]"
     ]
    },
    {
     "name": "stdout",
     "output_type": "stream",
     "text": [
      "/home/suji/spring20/vilbert_beta/data/VCR/vcr1images/lsmdc_0050_Indiana_Jones_and_the_last_crusade/0050_Indiana_Jones_and_the_last_crusade_01.10.13.138-01.10.31.495@6.jpg  box tensor([[   0.0000,   36.7603, 1869.4764, 1530.8897],\n",
      "        [1686.4819,   66.2871, 3393.8338, 1521.9644],\n",
      "        [1200.8144,   94.1987, 2024.6917, 1497.0863],\n",
      "        [1931.0033,  113.2578, 2664.7742, 1409.6143],\n",
      "        [2339.0582,   17.2228, 3344.1978, 1057.0633],\n",
      "        [2106.8390,  713.4711, 2198.0713,  817.7296],\n",
      "        [3161.4017,  388.2391, 3582.7769,  887.6089],\n",
      "        [1439.6849,  800.3808, 1530.7808, 1073.4272],\n",
      "        [3122.0251,   14.8693, 3597.5436,  466.7424],\n",
      "        [2026.9512,  748.1375, 3477.2170, 1521.3065]], dtype=torch.float64) torch.Size([10, 4])\n",
      "roi_head\n",
      "self.score_thresh 0.5\n",
      "reln 1\n",
      "orig_features torch.Size([14, 4096])\n",
      "\n",
      "img_id (25,)\n",
      "proposal: [BoxList(num_boxes=1000, image_width=1000, image_height=421, mode=xyxy)]\n",
      "GeneralizedRCNN model forward\n",
      "0050_Indiana_Jones_and_the_last_crusade_01.10.13.138-01.10.31.495@6.jpg  target after BoxList(num_boxes=10, image_width=999, image_height=429, mode=xyxy)\n"
     ]
    },
    {
     "name": "stderr",
     "output_type": "stream",
     "text": [
      "\r",
      " 27%|██▋       | 27/100 [00:08<00:19,  3.66it/s]"
     ]
    },
    {
     "name": "stdout",
     "output_type": "stream",
     "text": [
      "/home/suji/spring20/vilbert_beta/data/VCR/vcr1images/lsmdc_1020_Crazy_Stupid_Love/1020_Crazy_Stupid_Love_00.08.07.479-00.08.08.485@0.jpg  box tensor([[1834.0446,  101.5255, 2942.7761, 1476.0662],\n",
      "        [2663.7907,  213.1493, 3485.7346, 1490.0716],\n",
      "        [  32.7633,   17.5005, 1971.4547, 1483.3450],\n",
      "        [ 202.8885,  215.4742,  497.0425,  672.8991],\n",
      "        [1367.0280,  227.1222, 1842.0176,  915.7630],\n",
      "        [  11.8355,  212.2464,  390.1207,  754.7873],\n",
      "        [ 401.7278,  211.8280,  755.2726,  706.1315],\n",
      "        [2624.7881,  230.7539, 2811.0114,  538.7601],\n",
      "        [2919.2477, 1302.5998, 3137.6537, 1499.4893]], dtype=torch.float64) torch.Size([9, 4])\n",
      "roi_head\n",
      "self.score_thresh 0.5\n",
      "reln 1\n",
      "orig_features torch.Size([12, 4096])\n",
      "\n",
      "img_id (26,)\n",
      "proposal: [BoxList(num_boxes=1000, image_width=999, image_height=562, mode=xyxy)]\n",
      "GeneralizedRCNN model forward\n",
      "1020_Crazy_Stupid_Love_00.08.07.479-00.08.08.485@0.jpg  target after BoxList(num_boxes=9, image_width=1000, image_height=421, mode=xyxy)\n"
     ]
    },
    {
     "name": "stderr",
     "output_type": "stream",
     "text": [
      "\r",
      " 28%|██▊       | 28/100 [00:08<00:18,  3.79it/s]"
     ]
    },
    {
     "name": "stdout",
     "output_type": "stream",
     "text": [
      "/home/suji/spring20/vilbert_beta/data/VCR/vcr1images/lsmdc_0050_Indiana_Jones_and_the_last_crusade/0050_Indiana_Jones_and_the_last_crusade_01.27.21.323-01.27.25.829@1.jpg  box tensor([[1281.2384,  226.6078, 2177.3099, 1536.8785],\n",
      "        [  52.2105,  165.0736, 1026.3240, 1525.4976],\n",
      "        [2788.6489,  563.0886, 3415.0550, 1527.1366],\n",
      "        [ 708.0371,  137.2170, 1394.9158, 1514.3216],\n",
      "        [2639.4624,  349.0061, 2770.5654,  914.8278],\n",
      "        [1096.5332,  706.5864, 1193.7848,  876.7999],\n",
      "        [ 651.6827,  526.8578,  900.0501,  944.7132]], dtype=torch.float64) torch.Size([7, 4])\n",
      "roi_head\n",
      "self.score_thresh 0.5\n",
      "reln 1\n",
      "orig_features torch.Size([11, 4096])\n",
      "\n",
      "img_id (27,)\n",
      "proposal: [BoxList(num_boxes=1000, image_width=1000, image_height=425, mode=xyxy)]\n",
      "GeneralizedRCNN model forward\n",
      "0050_Indiana_Jones_and_the_last_crusade_01.27.21.323-01.27.25.829@1.jpg  target after BoxList(num_boxes=7, image_width=999, image_height=429, mode=xyxy)\n"
     ]
    },
    {
     "name": "stderr",
     "output_type": "stream",
     "text": [
      "\r",
      " 29%|██▉       | 29/100 [00:08<00:19,  3.64it/s]"
     ]
    },
    {
     "name": "stdout",
     "output_type": "stream",
     "text": [
      "roi_head\n",
      "self.score_thresh 0.5\n",
      "reln 1\n",
      "orig_features torch.Size([21, 4096])\n",
      "\n",
      "img_id (28,)\n",
      "proposal: [BoxList(num_boxes=1000, image_width=999, image_height=562, mode=xyxy)]\n",
      "GeneralizedRCNN model forward\n",
      "/home/suji/spring20/vilbert_beta/data/VCR/vcr1images/lsmdc_0050_Indiana_Jones_and_the_last_crusade/0050_Indiana_Jones_and_the_last_crusade_01.10.33.524-01.10.39.065@1.jpg  box tensor([[2.1453e+03, 1.5150e+01, 3.5817e+03, 1.5187e+03],\n",
      "        [2.6491e+00, 1.3740e+01, 2.0071e+03, 1.5169e+03],\n",
      "        [1.8559e+03, 2.4901e+02, 2.6296e+03, 1.5185e+03],\n",
      "        [3.4333e+03, 4.1875e+02, 3.5942e+03, 9.7992e+02],\n",
      "        [1.4670e+03, 9.3241e+02, 1.6765e+03, 1.2523e+03],\n",
      "        [1.5843e+03, 7.3961e+02, 1.9947e+03, 1.3507e+03],\n",
      "        [2.6456e+03, 1.0673e+03, 2.8537e+03, 1.4072e+03]], dtype=torch.float64) torch.Size([7, 4])\n",
      "0050_Indiana_Jones_and_the_last_crusade_01.10.33.524-01.10.39.065@1.jpg  target after BoxList(num_boxes=7, image_width=999, image_height=429, mode=xyxy)\n"
     ]
    },
    {
     "name": "stderr",
     "output_type": "stream",
     "text": [
      "\r",
      " 30%|███       | 30/100 [00:08<00:20,  3.43it/s]"
     ]
    },
    {
     "name": "stdout",
     "output_type": "stream",
     "text": [
      "roi_head\n",
      "self.score_thresh 0.5\n",
      "reln 1\n",
      "orig_features torch.Size([23, 4096])\n",
      "\n",
      "img_id (29,)\n",
      "proposal: [BoxList(num_boxes=1000, image_width=999, image_height=562, mode=xyxy)]\n",
      "/home/suji/spring20/vilbert_beta/data/VCR/vcr1images/lsmdc_0010_Frau_Ohne_Gewissen/0010_Frau_Ohne_Gewissen_01.03.53.224-01.03.54.069@0.jpg  box tensor([[2019.3043,  345.6281, 2850.1440, 1983.2005],\n",
      "        [1494.3534,  600.2629, 2065.8028, 1985.5618],\n",
      "        [2677.9310,  397.5358, 3081.7445, 1762.3259],\n",
      "        [ 646.6708,  472.7598, 1146.4407, 2019.8559],\n",
      "        [ 456.5400,  388.3834,  750.5562, 1899.0454],\n",
      "        [ 875.2454,  803.5997,  931.5572,  936.2817],\n",
      "        [1316.3570, 1267.9784, 1604.1299, 1979.4475],\n",
      "        [1336.5772, 1189.7113, 2019.7511, 1997.8223]], dtype=torch.float64) torch.Size([8, 4])\n",
      "0010_Frau_Ohne_Gewissen_01.03.53.224-01.03.54.069@0.jpg  target after BoxList(num_boxes=8, image_width=999, image_height=562, mode=xyxy)\n",
      "GeneralizedRCNN model forward\n",
      "roi_head\n",
      "self.score_thresh 0.5\n"
     ]
    },
    {
     "name": "stderr",
     "output_type": "stream",
     "text": [
      "\r",
      " 31%|███       | 31/100 [00:09<00:22,  3.05it/s]"
     ]
    },
    {
     "name": "stdout",
     "output_type": "stream",
     "text": [
      "/home/suji/spring20/vilbert_beta/data/VCR/vcr1images/lsmdc_0014_Ist_das_Leben_nicht_schoen/0014_Ist_das_Leben_nicht_schoen_00.36.55.701-00.36.58.353@0.jpg  box tensor([[2895.4131,  736.5499, 3156.2794, 1999.1602],\n",
      "        [1280.4462,  127.3757, 2214.5684, 2023.1250],\n",
      "        [ 489.2273,    0.0000, 3381.9868, 1939.9454],\n",
      "        [1851.2628,  817.9037, 1995.9757, 1299.8165]], dtype=torch.float64) torch.Size([4, 4])\n",
      "reln 1\n",
      "orig_features torch.Size([26, 4096])\n",
      "\n",
      "img_id (30,)\n",
      "proposal: [BoxList(num_boxes=1000, image_width=999, image_height=428, mode=xyxy)]\n",
      "GeneralizedRCNN model forward\n",
      "0014_Ist_das_Leben_nicht_schoen_00.36.55.701-00.36.58.353@0.jpg  target after BoxList(num_boxes=4, image_width=999, image_height=562, mode=xyxy)\n"
     ]
    },
    {
     "name": "stderr",
     "output_type": "stream",
     "text": [
      "\r",
      " 32%|███▏      | 32/100 [00:09<00:21,  3.19it/s]"
     ]
    },
    {
     "name": "stdout",
     "output_type": "stream",
     "text": [
      "/home/suji/spring20/vilbert_beta/data/VCR/vcr1images/lsmdc_3036_IN_TIME/3036_IN_TIME_00.31.36.495-00.31.38.778@0.jpg  box tensor([[1537.1851,  111.4556, 2581.5742, 1155.7253],\n",
      "        [2726.4297,  991.3154, 2844.8994, 1133.3734],\n",
      "        [2970.8986,  997.9693, 3087.0351, 1141.2878],\n",
      "        [1976.6737,  655.2493, 2208.6564,  758.1622],\n",
      "        [ 558.1250,  761.8162,  701.9227, 1238.9035]], dtype=torch.float64) torch.Size([5, 4])\n",
      "roi_head\n",
      "self.score_thresh 0.5\n",
      "reln 1\n",
      "orig_features torch.Size([15, 4096])\n",
      "\n",
      "img_id (31,)\n",
      "proposal: [BoxList(num_boxes=1000, image_width=999, image_height=562, mode=xyxy)]\n",
      "GeneralizedRCNN model forward\n",
      "3036_IN_TIME_00.31.36.495-00.31.38.778@0.jpg  target after BoxList(num_boxes=5, image_width=1000, image_height=425, mode=xyxy)\n"
     ]
    },
    {
     "name": "stderr",
     "output_type": "stream",
     "text": [
      "\r",
      " 33%|███▎      | 33/100 [00:09<00:20,  3.35it/s]"
     ]
    },
    {
     "name": "stdout",
     "output_type": "stream",
     "text": [
      "/home/suji/spring20/vilbert_beta/data/VCR/vcr1images/lsmdc_3088_WHATS_YOUR_NUMBER/3088_WHATS_YOUR_NUMBER_01.11.07.544-01.11.20.251@0.jpg  box tensor([[1623.1455,   50.6853, 2669.0343, 1317.4184],\n",
      "        [2675.2586,  419.8720, 3035.8926, 1234.0702],\n",
      "        [1732.6978,  367.4623, 1771.4474,  487.4615],\n",
      "        [ 592.8200,  989.2044, 3124.4019, 1942.2423],\n",
      "        [  69.6177,  584.2955,  205.0815,  740.5024],\n",
      "        [  22.2538, 1662.2092,  418.5805, 1737.0184],\n",
      "        [ 218.3668,  592.4114,  303.1597,  734.4269],\n",
      "        [  56.2885, 1611.7045,  385.6007, 1705.8429],\n",
      "        [ 238.7959,  581.5143,  342.3019,  728.2862],\n",
      "        [ 158.8659,  575.2360,  249.2818,  733.5554],\n",
      "        [ 127.2056,  572.2358,  303.3346,  736.6972]], dtype=torch.float64) torch.Size([11, 4])\n",
      "roi_head\n",
      "self.score_thresh 0.5\n",
      "reln 1\n",
      "orig_features torch.Size([11, 4096])\n",
      "\n",
      "img_id (32,)\n",
      "proposal: [BoxList(num_boxes=1000, image_width=999, image_height=562, mode=xyxy)]\n",
      "GeneralizedRCNN model forward\n",
      "3088_WHATS_YOUR_NUMBER_01.11.07.544-01.11.20.251@0.jpg  target after BoxList(num_boxes=11, image_width=999, image_height=543, mode=xyxy)\n"
     ]
    },
    {
     "name": "stderr",
     "output_type": "stream",
     "text": [
      "\r",
      " 34%|███▍      | 34/100 [00:10<00:19,  3.36it/s]"
     ]
    },
    {
     "name": "stdout",
     "output_type": "stream",
     "text": [
      "roi_head\n",
      "self.score_thresh 0.5\n",
      "reln 1\n",
      "orig_features torch.Size([22, 4096])\n",
      "\n",
      "img_id (33,)\n",
      "proposal: [BoxList(num_boxes=1000, image_width=999, image_height=428, mode=xyxy)]\n",
      "GeneralizedRCNN model forward\n",
      "/home/suji/spring20/vilbert_beta/data/VCR/vcr1images/lsmdc_0014_Ist_das_Leben_nicht_schoen/0014_Ist_das_Leben_nicht_schoen_01.10.29.133-01.10.32.810@0.jpg  box tensor([[1831.1458,  776.3640, 2855.0967, 1609.3774],\n",
      "        [ 501.6244,  358.3402, 1949.4063, 1970.5458],\n",
      "        [2796.1553,  895.7507, 3051.6003, 1567.5972],\n",
      "        [1383.8766, 1490.2089, 3155.4037, 1985.4549],\n",
      "        [ 744.0173, 1356.0368, 1211.2280, 1561.5855]], dtype=torch.float64) torch.Size([5, 4])\n",
      "0014_Ist_das_Leben_nicht_schoen_01.10.29.133-01.10.32.810@0.jpg  target after BoxList(num_boxes=5, image_width=999, image_height=562, mode=xyxy)\n"
     ]
    },
    {
     "name": "stderr",
     "output_type": "stream",
     "text": [
      "\r",
      " 35%|███▌      | 35/100 [00:10<00:19,  3.33it/s]"
     ]
    },
    {
     "name": "stdout",
     "output_type": "stream",
     "text": [
      "roi_head\n",
      "self.score_thresh 0.5\n",
      "reln 1\n",
      "orig_features torch.Size([26, 4096])\n",
      "\n",
      "img_id (34,)\n",
      "proposal: [BoxList(num_boxes=1000, image_width=999, image_height=429, mode=xyxy)]\n",
      "/home/suji/spring20/vilbert_beta/data/VCR/vcr1images/lsmdc_1010_TITANIC/1010_TITANIC_00.33.46.658-00.33.48.692@0.jpg  box tensor([[1.7955e+03, 3.9681e+02, 2.9608e+03, 1.5168e+03],\n",
      "        [2.9102e+00, 0.0000e+00, 1.3008e+03, 1.5387e+03],\n",
      "        [1.7969e+03, 1.6097e+01, 3.5953e+03, 1.5394e+03],\n",
      "        [1.6859e+03, 2.8481e+02, 2.5084e+03, 1.4471e+03],\n",
      "        [5.4219e+02, 6.0820e+02, 8.2437e+02, 9.0336e+02],\n",
      "        [8.9566e+02, 3.0411e+02, 1.5744e+03, 1.2194e+03],\n",
      "        [1.9986e+03, 1.6104e+02, 2.2322e+03, 3.4792e+02],\n",
      "        [1.2446e+03, 1.0289e+03, 1.3835e+03, 1.2704e+03],\n",
      "        [1.1519e+03, 1.3056e+03, 1.3139e+03, 1.5105e+03]], dtype=torch.float64) torch.Size([9, 4])\n",
      "1010_TITANIC_00.33.46.658-00.33.48.692@0.jpg  target after BoxList(num_boxes=9, image_width=999, image_height=428, mode=xyxy)\n",
      "GeneralizedRCNN model forward\n",
      "roi_head\n",
      "self.score_thresh 0.5\n",
      "reln 1\n",
      "orig_features torch.Size([20, 4096])\n",
      "\n"
     ]
    },
    {
     "name": "stderr",
     "output_type": "stream",
     "text": [
      "\r",
      " 36%|███▌      | 36/100 [00:10<00:18,  3.38it/s]"
     ]
    },
    {
     "name": "stdout",
     "output_type": "stream",
     "text": [
      "/home/suji/spring20/vilbert_beta/data/VCR/vcr1images/lsmdc_1010_TITANIC/1010_TITANIC_01.45.48.697-01.45.51.989@0.jpg  box tensor([[1485.7397,   48.7170, 2944.1382, 1507.4776],\n",
      "        [2784.0829,   65.2881, 3582.3949, 1520.8781],\n",
      "        [  38.2787,    7.0781, 2003.1841, 1523.0784],\n",
      "        [2413.6414, 1070.9665, 2584.2691, 1516.4962]], dtype=torch.float64) torch.Size([4, 4])\n",
      "1010_TITANIC_01.45.48.697-01.45.51.989@0.jpg  target after BoxList(num_boxes=4, image_width=999, image_height=428, mode=xyxy)\n",
      "img_id (35,)\n",
      "proposal: [BoxList(num_boxes=1000, image_width=1000, image_height=421, mode=xyxy)]\n",
      "GeneralizedRCNN model forward\n",
      "roi_head\n",
      "self.score_thresh 0.5\n",
      "reln 1\n",
      "orig_features torch.Size([27, 4096])\n",
      "\n"
     ]
    },
    {
     "name": "stderr",
     "output_type": "stream",
     "text": [
      "\r",
      " 37%|███▋      | 37/100 [00:11<00:18,  3.33it/s]"
     ]
    },
    {
     "name": "stdout",
     "output_type": "stream",
     "text": [
      "/home/suji/spring20/vilbert_beta/data/VCR/vcr1images/lsmdc_1010_TITANIC/1010_TITANIC_02.59.56.669-03.00.05.734@1.jpg  box tensor([[1220.0344,  322.2877, 1712.9671, 1509.4185],\n",
      "        [ 752.7373,  204.2824, 1320.0512, 1514.1449],\n",
      "        [ 422.8561,  617.4949, 1091.9485, 1525.4252],\n",
      "        [   5.5684, 1136.4808,  494.7469, 1529.9990],\n",
      "        [2268.9915,  790.7256, 2674.0395, 1539.3750],\n",
      "        [2706.6637,  829.4978, 3105.7155, 1523.9612],\n",
      "        [2610.8514,  905.2433, 2831.7458, 1173.4613],\n",
      "        [3083.8696, 1178.9457, 3383.9685, 1526.4694],\n",
      "        [3070.8980,  935.0665, 3278.6261, 1162.7563],\n",
      "        [1566.7879,  603.3302, 2276.7442, 1526.4890],\n",
      "        [3095.2673,  931.2877, 3360.5505, 1161.2885]], dtype=torch.float64) torch.Size([11, 4])\n",
      "1010_TITANIC_02.59.56.669-03.00.05.734@1.jpg  target after BoxList(num_boxes=11, image_width=999, image_height=428, mode=xyxy)\n",
      "img_id (36,)\n",
      "proposal: [BoxList(num_boxes=1000, image_width=999, image_height=429, mode=xyxy)]\n",
      "GeneralizedRCNN model forward\n",
      "roi_head\n",
      "self.score_thresh 0.5\n",
      "reln 1\n",
      "orig_features torch.Size([28, 4096])\n",
      "\n"
     ]
    },
    {
     "name": "stderr",
     "output_type": "stream",
     "text": [
      "\r",
      " 38%|███▊      | 38/100 [00:11<00:18,  3.26it/s]"
     ]
    },
    {
     "name": "stdout",
     "output_type": "stream",
     "text": [
      "/home/suji/spring20/vilbert_beta/data/VCR/vcr1images/lsmdc_3088_WHATS_YOUR_NUMBER/3088_WHATS_YOUR_NUMBER_00.18.06.294-00.18.11.468@0.jpg  box tensor([[ 369.7036,  307.8699,  927.3768, 1789.6582],\n",
      "        [ 716.1884,  344.5227, 1987.9493, 1925.4121],\n",
      "        [3154.2391,  384.9182, 3594.6966, 1710.5303],\n",
      "        [2780.2299,  371.9230, 3537.4438, 1915.9766],\n",
      "        [2401.0870,  314.0864, 3341.2374, 1919.0083],\n",
      "        [1867.2916,  241.0924, 2709.8268, 1826.2866],\n",
      "        [1959.1585,  153.6463, 2684.1563, 1161.0686],\n",
      "        [2880.7221, 1766.9836, 3428.0669, 1943.0644],\n",
      "        [1478.7559,  225.1099, 1750.5805,  617.9457],\n",
      "        [1665.2284,  590.1109, 2099.7029, 1309.3739],\n",
      "        [ 806.4911,  469.6885, 1007.3206,  976.1341],\n",
      "        [3113.7373,  535.4006, 3198.6475,  869.6748],\n",
      "        [1102.3376,  224.3592, 1200.6479,  452.9887],\n",
      "        [ 927.8889,  188.2773, 1021.8422,  435.9811],\n",
      "        [ 548.7362,  134.2011,  620.7624,  403.2519],\n",
      "        [ 504.0515,  126.5994,  566.7809,  414.2793],\n",
      "        [3033.0656,  477.9988, 3116.4949,  822.9605],\n",
      "        [ 383.7986,   49.0484,  506.8136,  583.2388],\n",
      "        [1018.4506,  257.9840, 1084.5798,  439.0223],\n",
      "        [1921.7283, 1136.0430, 2067.9330, 1386.4051],\n",
      "        [2392.8584, 1207.4326, 2507.5887, 1385.4679],\n",
      "        [2340.3941,  874.7696, 2449.8322, 1138.2917],\n",
      "        [2246.5565,  999.8036, 2371.4220, 1185.4421],\n",
      "        [1336.4330, 1784.7994, 1465.8913, 1923.7546]], dtype=torch.float64) torch.Size([24, 4])\n",
      "3088_WHATS_YOUR_NUMBER_00.18.06.294-00.18.11.468@0.jpg  target after BoxList(num_boxes=24, image_width=999, image_height=543, mode=xyxy)\n",
      "img_id (37,)\n",
      "proposal: [BoxList(num_boxes=1000, image_width=999, image_height=429, mode=xyxy)]\n",
      "GeneralizedRCNN model forward\n",
      "roi_head\n",
      "self.score_thresh 0.5\n"
     ]
    },
    {
     "name": "stderr",
     "output_type": "stream",
     "text": [
      "\r",
      " 39%|███▉      | 39/100 [00:11<00:18,  3.23it/s]"
     ]
    },
    {
     "name": "stdout",
     "output_type": "stream",
     "text": [
      "/home/suji/spring20/vilbert_beta/data/VCR/vcr1images/lsmdc_0014_Ist_das_Leben_nicht_schoen/0014_Ist_das_Leben_nicht_schoen_00.55.11.668-00.55.12.213@0.jpg  box tensor([[1259.8576,  427.8310, 1539.2148, 1000.4848],\n",
      "        [ 427.6276,  363.8623,  866.2339, 1538.5199],\n",
      "        [1668.2610,  499.6541, 1910.2548,  945.5692],\n",
      "        [1497.6438,  534.9362, 1750.9521,  982.8349],\n",
      "        [ 822.1840,  338.4215, 1133.1450,  670.6428],\n",
      "        [2732.3083,  587.1091, 2959.2204,  940.2700],\n",
      "        [ 588.2558,  510.1880, 1171.0538, 1418.1299],\n",
      "        [1652.1644,  514.5779, 1826.3417,  864.9217],\n",
      "        [2315.8218,  582.8010, 2466.3414,  910.3577],\n",
      "        [1586.0292,  551.4797, 1852.1870,  985.8783],\n",
      "        [1067.0915,  515.2393, 1463.1828, 1076.6434],\n",
      "        [ 661.3049,  567.7889, 1116.4098, 1081.9516],\n",
      "        [1126.7245,  417.4362, 1327.1522,  562.8014],\n",
      "        [2131.7139,  556.7611, 2362.5902,  946.8517],\n",
      "        [2943.0183,  516.0841, 3153.7928,  927.3293],\n",
      "        [2881.3662,  641.4688, 3000.2836,  753.2411],\n",
      "        [ 494.1346,  931.7868,  577.7043, 1108.3171],\n",
      "        [3059.2516,  711.1024, 3085.7867,  769.0185]], dtype=torch.float64) torch.Size([18, 4])\n",
      "0014_Ist_das_Leben_nicht_schoen_00.55.11.668-00.55.12.213@0.jpg  target after BoxList(num_boxes=18, image_width=999, image_height=562, mode=xyxy)\n",
      "reln 1\n",
      "orig_features torch.Size([23, 4096])\n",
      "\n",
      "img_id (38,)\n",
      "proposal: [BoxList(num_boxes=1000, image_width=999, image_height=562, mode=xyxy)]\n",
      "GeneralizedRCNN model forward\n"
     ]
    },
    {
     "name": "stderr",
     "output_type": "stream",
     "text": [
      "\r",
      " 40%|████      | 40/100 [00:12<00:17,  3.34it/s]"
     ]
    },
    {
     "name": "stdout",
     "output_type": "stream",
     "text": [
      "roi_head\n",
      "self.score_thresh 0.5\n",
      "reln 1\n",
      "orig_features torch.Size([12, 4096])\n",
      "\n",
      "img_id (39,)\n",
      "proposal: [BoxList(num_boxes=1000, image_width=999, image_height=562, mode=xyxy)]\n",
      "GeneralizedRCNN model forward\n",
      "/home/suji/spring20/vilbert_beta/data/VCR/vcr1images/lsmdc_3088_WHATS_YOUR_NUMBER/3088_WHATS_YOUR_NUMBER_01.28.05.008-01.28.16.026@1.jpg  box tensor([[3.1611e+03, 1.3783e+03, 3.3698e+03, 1.8745e+03],\n",
      "        [1.9997e+03, 1.4294e+02, 3.2630e+03, 1.9332e+03],\n",
      "        [1.3587e+03, 1.4315e+03, 1.6926e+03, 1.9269e+03],\n",
      "        [2.1090e+03, 1.2893e+03, 2.2721e+03, 1.5205e+03],\n",
      "        [5.3617e+01, 1.7056e+03, 3.0450e+02, 1.9453e+03],\n",
      "        [1.2857e+03, 1.3130e+03, 1.4707e+03, 1.9069e+03],\n",
      "        [1.9719e+03, 1.2952e+03, 2.1243e+03, 1.5476e+03],\n",
      "        [3.6919e+02, 2.1895e+00, 1.4330e+03, 1.9379e+03],\n",
      "        [1.2796e+03, 1.3319e+03, 1.4981e+03, 1.6328e+03],\n",
      "        [1.6591e+02, 1.2910e+03, 3.6248e+02, 1.4919e+03],\n",
      "        [1.0023e+03, 7.8555e+02, 1.1273e+03, 1.0840e+03],\n",
      "        [3.2195e+03, 1.6986e+03, 3.2895e+03, 1.7741e+03],\n",
      "        [1.9127e+03, 1.4430e+03, 2.0674e+03, 1.6339e+03],\n",
      "        [3.4171e+01, 1.4920e+03, 3.7074e+02, 1.8430e+03],\n",
      "        [1.5573e+03, 1.5985e+03, 2.0476e+03, 1.9124e+03]], dtype=torch.float64) torch.Size([15, 4])\n",
      "3088_WHATS_YOUR_NUMBER_01.28.05.008-01.28.16.026@1.jpg  target after BoxList(num_boxes=15, image_width=999, image_height=543, mode=xyxy)\n"
     ]
    },
    {
     "name": "stderr",
     "output_type": "stream",
     "text": [
      "\r",
      " 41%|████      | 41/100 [00:12<00:16,  3.48it/s]"
     ]
    },
    {
     "name": "stdout",
     "output_type": "stream",
     "text": [
      "roi_head\n",
      "self.score_thresh 0.5\n",
      "reln 1\n",
      "orig_features torch.Size([14, 4096])\n",
      "\n",
      "img_id (40,)\n",
      "proposal: [BoxList(num_boxes=1000, image_width=1000, image_height=425, mode=xyxy)]\n",
      "GeneralizedRCNN model forward\n",
      "/home/suji/spring20/vilbert_beta/data/VCR/vcr1images/lsmdc_3088_WHATS_YOUR_NUMBER/3088_WHATS_YOUR_NUMBER_01.08.03.999-01.08.05.098@0.jpg  box tensor([[ 574.8544, 1125.1997, 3535.5695, 1924.5225],\n",
      "        [2111.5956, 1004.5374, 3570.3278, 1855.7046],\n",
      "        [2612.5923,  819.3724, 2812.1896, 1051.8228],\n",
      "        [1041.2693,  738.6472, 1746.4350, 1385.5394],\n",
      "        [ 513.8668,  864.8811,  600.8490, 1005.0698],\n",
      "        [2477.9265,  956.7599, 2583.9587, 1169.6766]], dtype=torch.float64) torch.Size([6, 4])\n",
      "3088_WHATS_YOUR_NUMBER_01.08.03.999-01.08.05.098@0.jpg  target after BoxList(num_boxes=6, image_width=999, image_height=543, mode=xyxy)\n"
     ]
    },
    {
     "name": "stderr",
     "output_type": "stream",
     "text": [
      "\r",
      " 42%|████▏     | 42/100 [00:12<00:16,  3.42it/s]"
     ]
    },
    {
     "name": "stdout",
     "output_type": "stream",
     "text": [
      "roi_head\n",
      "self.score_thresh 0.5\n",
      "reln 1\n",
      "orig_features torch.Size([21, 4096])\n",
      "\n",
      "img_id (41,)\n",
      "proposal: [BoxList(num_boxes=1000, image_width=999, image_height=543, mode=xyxy)]\n",
      "GeneralizedRCNN model forward\n",
      "/home/suji/spring20/vilbert_beta/data/VCR/vcr1images/lsmdc_1020_Crazy_Stupid_Love/1020_Crazy_Stupid_Love_01.27.12.644-01.27.14.226@0.jpg  box tensor([[2020.9243,   15.4408, 3055.4954,  922.6440],\n",
      "        [ 838.6197,   31.4333, 2186.1255, 1468.1538],\n",
      "        [2650.3489,  883.6431, 3558.2124, 1491.0493],\n",
      "        [3182.1217,  882.2093, 3596.2152, 1488.7230],\n",
      "        [   0.0000,  803.7299, 1039.8189, 1485.8296],\n",
      "        [ 100.9831,  701.0795,  476.0212,  892.6836],\n",
      "        [1942.1107,  645.0970, 2931.9376, 1461.9331]], dtype=torch.float64) torch.Size([7, 4])\n",
      "1020_Crazy_Stupid_Love_01.27.12.644-01.27.14.226@0.jpg  target after BoxList(num_boxes=7, image_width=1000, image_height=421, mode=xyxy)\n"
     ]
    },
    {
     "name": "stderr",
     "output_type": "stream",
     "text": [
      "\r",
      " 43%|████▎     | 43/100 [00:12<00:16,  3.42it/s]"
     ]
    },
    {
     "name": "stdout",
     "output_type": "stream",
     "text": [
      "roi_head\n",
      "self.score_thresh 0.5\n",
      "reln 1\n",
      "orig_features torch.Size([14, 4096])\n",
      "\n",
      "img_id (42,)\n",
      "proposal: [BoxList(num_boxes=1000, image_width=999, image_height=562, mode=xyxy)]\n",
      "GeneralizedRCNN model forward\n",
      "/home/suji/spring20/vilbert_beta/data/VCR/vcr1images/lsmdc_1010_TITANIC/1010_TITANIC_01.03.34.432-01.03.35.483@0.jpg  box tensor([[2541.7914,  419.5626, 3419.8819, 1508.0404],\n",
      "        [ 292.5109,   21.3964, 2924.8407, 1538.2037],\n",
      "        [  24.1234,  576.3596,  456.6104, 1460.2768],\n",
      "        [ 221.7230,   77.5291,  817.7227,  989.6983],\n",
      "        [  94.4106,  152.5282,  999.8705, 1421.5869],\n",
      "        [2041.6081,  723.5123, 2469.8268, 1039.5417],\n",
      "        [2163.7901,  319.0352, 2526.3705,  986.8814],\n",
      "        [1447.8953, 1305.1957, 1909.7118, 1528.3125],\n",
      "        [3383.3837,  346.3469, 3589.3884,  714.2426]], dtype=torch.float64) torch.Size([9, 4])\n",
      "1010_TITANIC_01.03.34.432-01.03.35.483@0.jpg  target after BoxList(num_boxes=9, image_width=999, image_height=428, mode=xyxy)\n",
      "roi_head\n",
      "self.score_thresh 0.5\n",
      "reln 1\n",
      "orig_features torch.Size([33, 4096])\n",
      "\n"
     ]
    },
    {
     "name": "stderr",
     "output_type": "stream",
     "text": [
      "\r",
      " 44%|████▍     | 44/100 [00:13<00:17,  3.21it/s]"
     ]
    },
    {
     "name": "stdout",
     "output_type": "stream",
     "text": [
      "/home/suji/spring20/vilbert_beta/data/VCR/vcr1images/lsmdc_0014_Ist_das_Leben_nicht_schoen/0014_Ist_das_Leben_nicht_schoen_00.32.04.411-00.32.15.495@0.jpg  box tensor([[1462.0889,  730.4390, 2136.1805, 1850.1001],\n",
      "        [1895.3304,  796.3870, 2411.0314, 1670.0771],\n",
      "        [2353.3637,  897.4506, 2891.8279, 1545.2741],\n",
      "        [ 489.9707,  615.1942, 1649.2340, 1987.2112],\n",
      "        [1706.6341,  151.5548, 2380.7172, 1130.5693],\n",
      "        [2879.4852,  863.2561, 3173.2061, 1599.7430],\n",
      "        [1164.3768, 1092.1051, 1767.7231, 1953.7724],\n",
      "        [1750.8133, 1105.2383, 1810.0031, 1291.5974],\n",
      "        [2573.5771, 1200.3994, 2667.2127, 1440.3360],\n",
      "        [2074.0203, 1106.9861, 2162.7491, 1420.5753],\n",
      "        [1862.2682,  477.1878, 1897.8628,  638.7606],\n",
      "        [2872.4973,  917.9355, 2935.9401, 1137.8921]], dtype=torch.float64) torch.Size([12, 4])\n",
      "0014_Ist_das_Leben_nicht_schoen_00.32.04.411-00.32.15.495@0.jpg  target after BoxList(num_boxes=12, image_width=999, image_height=562, mode=xyxy)\n",
      "img_id (43,)\n",
      "proposal: [BoxList(num_boxes=1000, image_width=999, image_height=428, mode=xyxy)]\n",
      "GeneralizedRCNN model forward\n",
      "roi_head\n",
      "self.score_thresh 0.5\n",
      "reln 1\n",
      "orig_features torch.Size([14, 4096])\n",
      "\n"
     ]
    },
    {
     "name": "stderr",
     "output_type": "stream",
     "text": [
      "\r",
      " 45%|████▌     | 45/100 [00:13<00:16,  3.37it/s]"
     ]
    },
    {
     "name": "stdout",
     "output_type": "stream",
     "text": [
      "/home/suji/spring20/vilbert_beta/data/VCR/vcr1images/lsmdc_0050_Indiana_Jones_and_the_last_crusade/0050_Indiana_Jones_and_the_last_crusade_01.07.54.388-01.08.00.157@1.jpg  box tensor([[ 349.1423,  846.1398,  819.0028, 1513.8371],\n",
      "        [2071.2199, 1023.8437, 2457.0245, 1503.3722],\n",
      "        [3178.7219,  829.4246, 3277.7582, 1060.5504],\n",
      "        [2833.5184, 1146.5614, 3388.5340, 1520.2917],\n",
      "        [   7.2653,  905.9359,  316.1108, 1317.7816],\n",
      "        [1583.6325, 1221.9228, 2110.4462, 1522.3814],\n",
      "        [  14.4801, 1152.2865,  634.3819, 1527.5140],\n",
      "        [ 244.1907,  749.1918,  423.5309, 1097.4509],\n",
      "        [1104.6184, 1095.7440, 1559.2288, 1533.6917],\n",
      "        [ 832.2318,  919.1769, 1199.2381, 1529.6732],\n",
      "        [ 765.1842,  768.5655,  940.4586, 1278.5124],\n",
      "        [2573.7888, 1026.3963, 2886.9587, 1521.8898],\n",
      "        [3103.1907,  825.9276, 3185.0768, 1013.3259],\n",
      "        [1126.3798,  787.9030, 1291.4583, 1114.8178],\n",
      "        [2878.8421,  820.3863, 3100.5650, 1131.2802],\n",
      "        [2113.3436,  908.3763, 2287.3478, 1083.9076],\n",
      "        [3050.2185, 1079.8860, 3249.0656, 1170.7793]], dtype=torch.float64) torch.Size([17, 4])\n",
      "0050_Indiana_Jones_and_the_last_crusade_01.07.54.388-01.08.00.157@1.jpg  target after BoxList(num_boxes=17, image_width=999, image_height=429, mode=xyxy)\n",
      "img_id (44,)\n",
      "proposal: [BoxList(num_boxes=1000, image_width=999, image_height=428, mode=xyxy)]\n",
      "GeneralizedRCNN model forward\n",
      "roi_head\n",
      "self.score_thresh 0.5\n",
      "reln 1\n",
      "orig_features torch.Size([23, 4096])\n",
      "\n"
     ]
    },
    {
     "name": "stderr",
     "output_type": "stream",
     "text": [
      "\r",
      " 46%|████▌     | 46/100 [00:13<00:15,  3.38it/s]"
     ]
    },
    {
     "name": "stdout",
     "output_type": "stream",
     "text": [
      "/home/suji/spring20/vilbert_beta/data/VCR/vcr1images/lsmdc_3005_ABRAHAM_LINCOLN_VAMPIRE_HUNTER/3005_ABRAHAM_LINCOLN_VAMPIRE_HUNTER_00.20.36.341-00.20.43.285@0.jpg  box tensor([[2967.4132,  170.4446, 3596.6583, 1506.0903],\n",
      "        [ 387.1414,  164.8278, 1226.0686, 1496.6389],\n",
      "        [2925.7773, 1347.7096, 3082.3778, 1475.5962],\n",
      "        [   8.7423,  702.1024,  309.2115,  798.4434],\n",
      "        [1057.7443, 1022.9805, 1130.9760, 1100.3897],\n",
      "        [2690.3128,  997.1671, 2902.6767, 1114.2065]], dtype=torch.float64) torch.Size([6, 4])\n",
      "3005_ABRAHAM_LINCOLN_VAMPIRE_HUNTER_00.20.36.341-00.20.43.285@0.jpg  target after BoxList(num_boxes=6, image_width=1000, image_height=421, mode=xyxy)\n",
      "img_id (45,)\n",
      "proposal: [BoxList(num_boxes=1000, image_width=999, image_height=428, mode=xyxy)]\n",
      "GeneralizedRCNN model forward\n",
      "roi_head\n",
      "self.score_thresh 0.5\n"
     ]
    },
    {
     "name": "stderr",
     "output_type": "stream",
     "text": [
      "\r",
      " 47%|████▋     | 47/100 [00:14<00:16,  3.13it/s]"
     ]
    },
    {
     "name": "stdout",
     "output_type": "stream",
     "text": [
      "reln 1\n",
      "orig_features torch.Size([33, 4096])\n",
      "\n",
      "img_id (46,)\n",
      "proposal: [BoxList(num_boxes=1000, image_width=999, image_height=543, mode=xyxy)]\n",
      "GeneralizedRCNN model forward\n",
      "/home/suji/spring20/vilbert_beta/data/VCR/vcr1images/lsmdc_1010_TITANIC/1010_TITANIC_01.10.07.477-01.10.15.892@2.jpg  box tensor([[ 162.4490,  160.4466, 2022.3257, 1530.5708],\n",
      "        [1381.1142,  324.9640, 1940.3245, 1246.9463],\n",
      "        [2494.2025,  390.6767, 2964.6787, 1273.1263],\n",
      "        [2930.3043,  186.1095, 3593.5032, 1518.5944],\n",
      "        [2804.2548,  918.1300, 3270.2747, 1527.4503],\n",
      "        [1719.7307,  457.6855, 2938.0870, 1502.0187],\n",
      "        [  10.7128,  485.9179,  476.5312, 1443.8513],\n",
      "        [2179.8820,  403.1931, 2414.9954,  500.8577],\n",
      "        [ 617.8183,  291.8655, 2911.9501, 1504.6442],\n",
      "        [1756.8484,  886.3859, 1952.0544, 1276.2653]], dtype=torch.float64) torch.Size([10, 4])\n",
      "1010_TITANIC_01.10.07.477-01.10.15.892@2.jpg  target after BoxList(num_boxes=10, image_width=999, image_height=428, mode=xyxy)\n",
      "roi_head\n",
      "self.score_thresh 0.5\n",
      "reln 1\n",
      "orig_features torch.Size([29, 4096])\n",
      "\n"
     ]
    },
    {
     "name": "stderr",
     "output_type": "stream",
     "text": [
      "\r",
      " 48%|████▊     | 48/100 [00:14<00:17,  3.05it/s]"
     ]
    },
    {
     "name": "stdout",
     "output_type": "stream",
     "text": [
      "/home/suji/spring20/vilbert_beta/data/VCR/vcr1images/lsmdc_3036_IN_TIME/3036_IN_TIME_01.14.46.932-01.14.50.682@1.jpg  box tensor([[1462.3139,   21.2044, 2719.6026, 1499.0805],\n",
      "        [ 661.1211,  169.4076, 1443.7912, 1492.7016],\n",
      "        [1848.5844,  713.2210, 2009.6331, 1070.8294]], dtype=torch.float64) torch.Size([3, 4])\n",
      "3036_IN_TIME_01.14.46.932-01.14.50.682@1.jpg  target after BoxList(num_boxes=3, image_width=1000, image_height=425, mode=xyxy)\n",
      "img_id (47,)\n",
      "proposal: [BoxList(num_boxes=1000, image_width=999, image_height=562, mode=xyxy)]\n",
      "GeneralizedRCNN model forward\n",
      "roi_head\n",
      "self.score_thresh 0.5\n"
     ]
    },
    {
     "name": "stderr",
     "output_type": "stream",
     "text": [
      "\r",
      " 49%|████▉     | 49/100 [00:14<00:17,  2.99it/s]"
     ]
    },
    {
     "name": "stdout",
     "output_type": "stream",
     "text": [
      "/home/suji/spring20/vilbert_beta/data/VCR/vcr1images/lsmdc_3036_IN_TIME/3036_IN_TIME_00.49.16.609-00.49.24.014@2.jpg  box tensor([[ 722.2020,  404.1956,  948.8892, 1011.1633],\n",
      "        [1543.2052,  446.9398, 1625.2342,  575.2072],\n",
      "        [2687.5014,  188.3389, 3546.7399, 1482.3988],\n",
      "        [1112.7705,  294.6787, 1417.4974, 1034.2584],\n",
      "        [2026.4287,  824.7260, 2662.5046, 1362.2857],\n",
      "        [ 574.7244,  513.9064, 2264.7375,  988.6598],\n",
      "        [ 563.9428,  550.1522, 1284.9386,  974.6949]], dtype=torch.float64) torch.Size([7, 4])\n",
      "reln 1\n",
      "orig_features torch.Size([30, 4096])\n",
      "\n",
      "img_id (48,)\n",
      "proposal: [BoxList(num_boxes=1000, image_width=999, image_height=543, mode=xyxy)]\n",
      "GeneralizedRCNN model forward\n",
      "3036_IN_TIME_00.49.16.609-00.49.24.014@2.jpg  target after BoxList(num_boxes=7, image_width=1000, image_height=425, mode=xyxy)\n"
     ]
    },
    {
     "name": "stderr",
     "output_type": "stream",
     "text": [
      "\r",
      " 50%|█████     | 50/100 [00:15<00:16,  3.12it/s]"
     ]
    },
    {
     "name": "stdout",
     "output_type": "stream",
     "text": [
      "roi_head\n",
      "self.score_thresh 0.5\n",
      "reln 1\n",
      "orig_features torch.Size([18, 4096])\n",
      "\n",
      "img_id (49,)\n",
      "proposal: [BoxList(num_boxes=1000, image_width=999, image_height=543, mode=xyxy)]\n",
      "GeneralizedRCNN model forward\n",
      "/home/suji/spring20/vilbert_beta/data/VCR/vcr1images/lsmdc_1020_Crazy_Stupid_Love/1020_Crazy_Stupid_Love_00.33.14.537-00.33.19.319@0.jpg  box tensor([[1062.2955,  261.1018, 3452.4994, 1513.1250],\n",
      "        [1344.0530, 1041.1661, 2412.8387, 1486.4786],\n",
      "        [2980.7167,  289.7806, 3585.0110, 1511.5638],\n",
      "        [3279.1395,  945.9168, 3378.5383, 1046.4023]], dtype=torch.float64) torch.Size([4, 4])\n",
      "1020_Crazy_Stupid_Love_00.33.14.537-00.33.19.319@0.jpg  target after BoxList(num_boxes=4, image_width=1000, image_height=421, mode=xyxy)\n"
     ]
    },
    {
     "name": "stderr",
     "output_type": "stream",
     "text": [
      "\r",
      " 51%|█████     | 51/100 [00:15<00:14,  3.29it/s]"
     ]
    },
    {
     "name": "stdout",
     "output_type": "stream",
     "text": [
      "roi_head\n",
      "self.score_thresh 0.5\n",
      "reln 1\n",
      "orig_features torch.Size([14, 4096])\n",
      "\n",
      "img_id (50,)\n",
      "proposal: [BoxList(num_boxes=1000, image_width=1000, image_height=421, mode=xyxy)]\n",
      "GeneralizedRCNN model forward\n",
      "/home/suji/spring20/vilbert_beta/data/VCR/vcr1images/lsmdc_0050_Indiana_Jones_and_the_last_crusade/0050_Indiana_Jones_and_the_last_crusade_01.35.57.339-01.35.59.608@0.jpg  box tensor([[ 929.5729,  248.3669, 1152.2969,  709.1325],\n",
      "        [3213.2064,   21.3666, 3598.1250, 1151.4789],\n",
      "        [ 874.3320,  380.6984, 1278.4189,  923.4753],\n",
      "        [3280.5789,  950.9154, 3595.5661, 1201.3913],\n",
      "        [ 903.3737,  773.7974, 3572.1794, 1501.0521]], dtype=torch.float64) torch.Size([5, 4])\n",
      "0050_Indiana_Jones_and_the_last_crusade_01.35.57.339-01.35.59.608@0.jpg  target after BoxList(num_boxes=5, image_width=999, image_height=429, mode=xyxy)\n"
     ]
    },
    {
     "name": "stderr",
     "output_type": "stream",
     "text": [
      "\r",
      " 52%|█████▏    | 52/100 [00:15<00:14,  3.40it/s]"
     ]
    },
    {
     "name": "stdout",
     "output_type": "stream",
     "text": [
      "roi_head\n",
      "self.score_thresh 0.5\n",
      "reln 1\n",
      "orig_features torch.Size([18, 4096])\n",
      "\n",
      "img_id (51,)\n",
      "proposal: [BoxList(num_boxes=1000, image_width=999, image_height=428, mode=xyxy)]\n",
      "GeneralizedRCNN model forward\n",
      "/home/suji/spring20/vilbert_beta/data/VCR/vcr1images/lsmdc_1044_Pride_And_Prejudice_Disk_Two/1044_Pride_And_Prejudice_Disk_Two_00.59.38.069-00.59.41.201@0.jpg  box tensor([[2220.8542,  303.8722, 3519.6327, 1949.1760],\n",
      "        [ 171.1417,  346.2495, 1619.4925, 2007.3553],\n",
      "        [ 420.1052,  699.2595, 2848.4212, 2007.6013]], dtype=torch.float64) torch.Size([3, 4])\n",
      "1044_Pride_And_Prejudice_Disk_Two_00.59.38.069-00.59.41.201@0.jpg  target after BoxList(num_boxes=3, image_width=999, image_height=562, mode=xyxy)\n",
      "roi_head\n",
      "self.score_thresh 0.5\n",
      "reln 1\n",
      "orig_features torch.Size([34, 4096])\n",
      "\n"
     ]
    },
    {
     "name": "stderr",
     "output_type": "stream",
     "text": [
      "\r",
      " 53%|█████▎    | 53/100 [00:16<00:15,  3.12it/s]"
     ]
    },
    {
     "name": "stdout",
     "output_type": "stream",
     "text": [
      "/home/suji/spring20/vilbert_beta/data/VCR/vcr1images/lsmdc_0014_Ist_das_Leben_nicht_schoen/0014_Ist_das_Leben_nicht_schoen_01.29.17.076-01.29.18.283@0.jpg  box tensor([[1525.0686,  132.8882, 2837.4280, 1994.7496],\n",
      "        [1024.4797,  574.9274, 1979.2557, 2022.6540],\n",
      "        [1943.5826,  785.8197, 2167.2972, 1255.8695],\n",
      "        [2135.2419,  810.3560, 2189.8929,  985.6510],\n",
      "        [ 703.3923, 1183.2668,  772.7018, 1264.7430]], dtype=torch.float64) torch.Size([5, 4])\n",
      "0014_Ist_das_Leben_nicht_schoen_01.29.17.076-01.29.18.283@0.jpg  target after BoxList(num_boxes=5, image_width=999, image_height=562, mode=xyxy)\n",
      "img_id (52,)\n",
      "proposal: [BoxList(num_boxes=1000, image_width=999, image_height=562, mode=xyxy)]\n",
      "GeneralizedRCNN model forward\n",
      "roi_head\n",
      "self.score_thresh 0.5\n",
      "reln 1\n",
      "orig_features torch.Size([10, 4096])\n",
      "\n"
     ]
    },
    {
     "name": "stderr",
     "output_type": "stream",
     "text": [
      "\r",
      " 54%|█████▍    | 54/100 [00:16<00:13,  3.34it/s]"
     ]
    },
    {
     "name": "stdout",
     "output_type": "stream",
     "text": [
      "/home/suji/spring20/vilbert_beta/data/VCR/vcr1images/lsmdc_1044_Pride_And_Prejudice_Disk_Two/1044_Pride_And_Prejudice_Disk_Two_01.49.58.955-01.50.02.678@1.jpg  box tensor([[2641.5706,   28.8003, 3511.9167, 1309.9457],\n",
      "        [1620.3892,   68.5387, 2097.3990, 1049.8989],\n",
      "        [1161.8980,  834.3172, 1769.8434, 1993.3269],\n",
      "        [ 400.4606,  735.8091, 1240.7659, 1985.1517],\n",
      "        [1502.7569,  485.4300, 3563.3228, 1907.3943],\n",
      "        [ 989.4466, 1280.6391, 1316.1337, 1947.6187]], dtype=torch.float64) torch.Size([6, 4])\n",
      "1044_Pride_And_Prejudice_Disk_Two_01.49.58.955-01.50.02.678@1.jpg  target after BoxList(num_boxes=6, image_width=999, image_height=562, mode=xyxy)\n",
      "img_id (53,)\n",
      "proposal: [BoxList(num_boxes=1000, image_width=999, image_height=429, mode=xyxy)]\n",
      "GeneralizedRCNN model forward\n",
      "roi_head\n",
      "self.score_thresh 0.5\n",
      "reln 1\n",
      "orig_features torch.Size([18, 4096])\n",
      "\n"
     ]
    },
    {
     "name": "stderr",
     "output_type": "stream",
     "text": [
      "\r",
      " 55%|█████▌    | 55/100 [00:16<00:13,  3.40it/s]"
     ]
    },
    {
     "name": "stdout",
     "output_type": "stream",
     "text": [
      "/home/suji/spring20/vilbert_beta/data/VCR/vcr1images/lsmdc_1054_Harry_Potter_and_the_prisoner_of_azkaban/1054_Harry_Potter_and_the_prisoner_of_azkaban_01.47.54.928-01.48.05.729@1.jpg  box tensor([[1204.3108,  140.3493, 1664.0508, 1485.2740],\n",
      "        [1603.6349,  202.2004, 2226.5199, 1492.5000],\n",
      "        [ 185.6015,  550.6626,  524.8475, 1076.5129],\n",
      "        [2653.1596,  646.4828, 3594.3844, 1021.5598],\n",
      "        [ 459.5326,  602.2492,  824.2235, 1056.4046],\n",
      "        [ 155.8107,  681.9925,  219.2336,  831.2506],\n",
      "        [ 440.5314,  892.6570,  837.5642, 1467.7663],\n",
      "        [3379.6078, 1231.5667, 3594.5778, 1492.2466],\n",
      "        [ 493.5796,  886.2486,  842.9458, 1196.9742],\n",
      "        [  30.0751, 1113.8255,  791.7323, 1471.0954]], dtype=torch.float64) torch.Size([10, 4])\n",
      "1054_Harry_Potter_and_the_prisoner_of_azkaban_01.47.54.928-01.48.05.729@1.jpg  target after BoxList(num_boxes=10, image_width=999, image_height=415, mode=xyxy)\n",
      "img_id (54,)\n",
      "proposal: [BoxList(num_boxes=1000, image_width=1000, image_height=421, mode=xyxy)]\n",
      "GeneralizedRCNN model forward\n",
      "roi_head\n",
      "self.score_thresh 0.5\n",
      "reln 1\n",
      "orig_features torch.Size([28, 4096])\n",
      "\n"
     ]
    },
    {
     "name": "stderr",
     "output_type": "stream",
     "text": [
      "\r",
      " 56%|█████▌    | 56/100 [00:16<00:13,  3.31it/s]"
     ]
    },
    {
     "name": "stdout",
     "output_type": "stream",
     "text": [
      "/home/suji/spring20/vilbert_beta/data/VCR/vcr1images/lsmdc_3031_HANSEL_GRETEL_WITCH_HUNTERS/3031_HANSEL_GRETEL_WITCH_HUNTERS_01.13.10.227-01.13.12.346@0.jpg  box tensor([[ 643.8004,  453.7914, 1423.9032, 1482.9133],\n",
      "        [1137.9854,  423.2627, 1929.2633, 1455.1387],\n",
      "        [1227.5795,  443.9553, 1671.3097,  903.2081],\n",
      "        [1283.4615,  195.6513, 2293.3083, 1490.0969],\n",
      "        [3026.2953,  518.7558, 3130.4274,  612.7108]], dtype=torch.float64) torch.Size([5, 4])\n",
      "3031_HANSEL_GRETEL_WITCH_HUNTERS_01.13.10.227-01.13.12.346@0.jpg  target after BoxList(num_boxes=5, image_width=1000, image_height=419, mode=xyxy)\n",
      "img_id (55,)\n",
      "proposal: [BoxList(num_boxes=1000, image_width=999, image_height=428, mode=xyxy)]\n",
      "GeneralizedRCNN model forward\n",
      "roi_head\n",
      "self.score_thresh 0.5\n"
     ]
    },
    {
     "name": "stderr",
     "output_type": "stream",
     "text": [
      "\r",
      " 57%|█████▋    | 57/100 [00:17<00:12,  3.35it/s]"
     ]
    },
    {
     "name": "stdout",
     "output_type": "stream",
     "text": [
      "/home/suji/spring20/vilbert_beta/data/VCR/vcr1images/lsmdc_3036_IN_TIME/3036_IN_TIME_00.07.36.056-00.07.41.220@1.jpg  box tensor([[ 221.4193,   92.5836,  723.2198, 1411.0826],\n",
      "        [1676.6350,  179.3599, 2032.1345, 1528.1250],\n",
      "        [1109.1994,   43.0219, 1734.2949, 1511.6670],\n",
      "        [3039.1672,  566.6093, 3106.1156,  771.4770],\n",
      "        [2938.3880,  526.2024, 3001.9242,  757.4334],\n",
      "        [3088.0602,  766.4274, 3180.1371,  877.8754],\n",
      "        [2824.6175,  706.1698, 2877.8535,  778.5017],\n",
      "        [2769.7533,  683.2528, 2819.1291,  768.0065],\n",
      "        [2930.5882,  701.7270, 2975.1656,  773.8186],\n",
      "        [3014.0739,  731.7265, 3103.1799,  841.4753],\n",
      "        [2124.2860,  991.4528, 2630.0883, 1509.9077],\n",
      "        [1998.0169,  998.0951, 2363.3128, 1514.2259],\n",
      "        [2143.6965,  572.0747, 2311.9508,  950.7754]], dtype=torch.float64) torch.Size([13, 4])\n",
      "3036_IN_TIME_00.07.36.056-00.07.41.220@1.jpg  target after BoxList(num_boxes=13, image_width=1000, image_height=425, mode=xyxy)\n",
      "reln 1\n",
      "orig_features torch.Size([16, 4096])\n",
      "\n",
      "img_id (56,)\n",
      "proposal: [BoxList(num_boxes=1000, image_width=1000, image_height=425, mode=xyxy)]\n",
      "GeneralizedRCNN model forward\n",
      "roi_head\n",
      "self.score_thresh 0.5\n"
     ]
    },
    {
     "name": "stderr",
     "output_type": "stream",
     "text": [
      "\r",
      " 58%|█████▊    | 58/100 [00:17<00:12,  3.40it/s]"
     ]
    },
    {
     "name": "stdout",
     "output_type": "stream",
     "text": [
      "/home/suji/spring20/vilbert_beta/data/VCR/vcr1images/lsmdc_0041_The_Sixth_Sense/0041_The_Sixth_Sense_01.28.57.938-01.29.05.005@2.jpg  box tensor([[2119.4691,  833.2132, 2830.5501, 1989.4748],\n",
      "        [ 848.9166, 1090.4171, 1545.0334, 1988.2123],\n",
      "        [1355.0728, 1046.9582, 1663.3252, 1796.1042],\n",
      "        [1373.0681,  928.9525, 1952.4937, 1984.9759],\n",
      "        [  55.7921, 1602.7145,  778.5164, 2015.1652],\n",
      "        [1775.1203,  902.7855, 2109.9200, 1416.9093]], dtype=torch.float64) torch.Size([6, 4])\n",
      "0041_The_Sixth_Sense_01.28.57.938-01.29.05.005@2.jpg  target after BoxList(num_boxes=6, image_width=999, image_height=562, mode=xyxy)\n",
      "reln 1\n",
      "orig_features torch.Size([20, 4096])\n",
      "\n",
      "img_id (57,)\n",
      "proposal: [BoxList(num_boxes=1000, image_width=1000, image_height=425, mode=xyxy)]\n",
      "GeneralizedRCNN model forward\n",
      "roi_head\n"
     ]
    },
    {
     "name": "stderr",
     "output_type": "stream",
     "text": [
      "\r",
      " 59%|█████▉    | 59/100 [00:17<00:11,  3.63it/s]"
     ]
    },
    {
     "name": "stdout",
     "output_type": "stream",
     "text": [
      "/home/suji/spring20/vilbert_beta/data/VCR/vcr1images/lsmdc_3088_WHATS_YOUR_NUMBER/3088_WHATS_YOUR_NUMBER_00.08.16.181-00.08.19.415@0.jpg  box tensor([[1918.7180,  678.0556, 2649.5551, 1727.6809],\n",
      "        [2302.8419,  713.8772, 2670.9288, 1641.9731],\n",
      "        [1035.8158, 1460.5726, 1555.1490, 1924.0697],\n",
      "        [ 823.8213, 1694.6322, 1185.3614, 1941.7037],\n",
      "        [1169.0300, 1700.2606, 1454.5997, 1931.0962]], dtype=torch.float64) torch.Size([5, 4])\n",
      "self.score_thresh 0.5\n",
      "reln 1\n",
      "orig_features torch.Size([7, 4096])\n",
      "\n",
      "img_id (58,)\n",
      "proposal: [BoxList(num_boxes=1000, image_width=1000, image_height=421, mode=xyxy)]\n",
      "GeneralizedRCNN model forward\n",
      "3088_WHATS_YOUR_NUMBER_00.08.16.181-00.08.19.415@0.jpg  target after BoxList(num_boxes=5, image_width=999, image_height=543, mode=xyxy)\n"
     ]
    },
    {
     "name": "stderr",
     "output_type": "stream",
     "text": [
      "\r",
      " 60%|██████    | 60/100 [00:17<00:10,  3.74it/s]"
     ]
    },
    {
     "name": "stdout",
     "output_type": "stream",
     "text": [
      "/home/suji/spring20/vilbert_beta/data/VCR/vcr1images/lsmdc_1010_TITANIC/1010_TITANIC_00.58.14.368-00.58.17.352@0.jpg  box tensor([[1504.9507,    0.0000, 2051.3555,  930.0140],\n",
      "        [2945.9171,    5.5601, 3297.1335,  658.1009],\n",
      "        [1670.7462,  225.5827, 2257.3553, 1509.7153],\n",
      "        [   8.8159,  204.1528,  369.6275,  946.2651],\n",
      "        [ 521.8303,   87.2293,  955.2207,  782.1945]], dtype=torch.float64) torch.Size([5, 4])\n",
      "roi_head\n",
      "self.score_thresh 0.5\n",
      "reln 1\n",
      "orig_features torch.Size([11, 4096])\n",
      "\n",
      "img_id (59,)\n",
      "proposal: [BoxList(num_boxes=1000, image_width=999, image_height=429, mode=xyxy)]\n",
      "GeneralizedRCNN model forward\n",
      "1010_TITANIC_00.58.14.368-00.58.17.352@0.jpg  target after BoxList(num_boxes=5, image_width=999, image_height=428, mode=xyxy)\n",
      "roi_head\n",
      "self.score_thresh 0.5\n",
      "reln 1\n",
      "orig_features torch.Size([30, 4096])\n",
      "\n"
     ]
    },
    {
     "name": "stderr",
     "output_type": "stream",
     "text": [
      "\r",
      " 61%|██████    | 61/100 [00:18<00:11,  3.40it/s]"
     ]
    },
    {
     "name": "stdout",
     "output_type": "stream",
     "text": [
      "/home/suji/spring20/vilbert_beta/data/VCR/vcr1images/lsmdc_3036_IN_TIME/3036_IN_TIME_01.19.22.232-01.19.25.059@0.jpg  box tensor([[2316.0175,  477.0105, 2715.4905, 1288.4938],\n",
      "        [3219.9380,  361.4645, 3333.6021,  637.6728],\n",
      "        [2178.0141,  405.3840, 2404.4584,  565.5875]], dtype=torch.float64) torch.Size([3, 4])\n",
      "3036_IN_TIME_01.19.22.232-01.19.25.059@0.jpg  target after BoxList(num_boxes=3, image_width=1000, image_height=425, mode=xyxy)\n",
      "img_id (60,)\n",
      "proposal: [BoxList(num_boxes=1000, image_width=999, image_height=562, mode=xyxy)]\n",
      "GeneralizedRCNN model forward\n",
      "roi_head\n",
      "self.score_thresh 0.5\n"
     ]
    },
    {
     "name": "stderr",
     "output_type": "stream",
     "text": [
      "\r",
      " 62%|██████▏   | 62/100 [00:18<00:11,  3.26it/s]"
     ]
    },
    {
     "name": "stdout",
     "output_type": "stream",
     "text": [
      "/home/suji/spring20/vilbert_beta/data/VCR/vcr1images/lsmdc_1054_Harry_Potter_and_the_prisoner_of_azkaban/1054_Harry_Potter_and_the_prisoner_of_azkaban_01.47.54.928-01.48.05.729@4.jpg  box tensor([[2248.5766,  364.6295, 2665.8533, 1422.3379],\n",
      "        [1654.1956,  206.6473, 2212.6829, 1481.9799],\n",
      "        [1298.3893,  156.6815, 1703.9277, 1476.7053],\n",
      "        [2814.2683,  380.3683, 3255.7443, 1472.0835],\n",
      "        [3311.7178, 1176.1301, 3598.1250, 1481.5178],\n",
      "        [ 320.2770,  713.7700, 1328.7449, 1251.7125],\n",
      "        [ 363.4651,  788.5508, 1297.5143, 1063.1124]], dtype=torch.float64) torch.Size([7, 4])\n",
      "1054_Harry_Potter_and_the_prisoner_of_azkaban_01.47.54.928-01.48.05.729@4.jpg  target after BoxList(num_boxes=7, image_width=999, image_height=415, mode=xyxy)\n",
      "reln 1\n",
      "orig_features torch.Size([22, 4096])\n",
      "\n",
      "img_id (61,)\n",
      "proposal: [BoxList(num_boxes=1000, image_width=999, image_height=562, mode=xyxy)]\n",
      "GeneralizedRCNN model forward\n"
     ]
    },
    {
     "name": "stderr",
     "output_type": "stream",
     "text": [
      "\r",
      " 63%|██████▎   | 63/100 [00:19<00:11,  3.20it/s]"
     ]
    },
    {
     "name": "stdout",
     "output_type": "stream",
     "text": [
      "roi_head\n",
      "self.score_thresh 0.5\n",
      "reln 1\n",
      "orig_features torch.Size([25, 4096])\n",
      "\n",
      "img_id (62,)\n",
      "proposal: [BoxList(num_boxes=1000, image_width=999, image_height=562, mode=xyxy)]\n",
      "/home/suji/spring20/vilbert_beta/data/VCR/vcr1images/lsmdc_3088_WHATS_YOUR_NUMBER/3088_WHATS_YOUR_NUMBER_00.37.21.988-00.37.51.262@7.jpg  box tensor([[1851.8097,  208.7647, 3177.1326, 1921.4095],\n",
      "        [   0.0000,   40.1325,  662.1957, 1884.9062],\n",
      "        [1102.3109,  398.9478, 1236.5987,  880.4680],\n",
      "        [ 927.0468,  385.5967, 1061.5926,  897.3893],\n",
      "        [1235.2840,  621.0298, 3598.1250, 1872.1232],\n",
      "        [2973.4776,  666.2875, 3598.1250, 1614.4042],\n",
      "        [ 527.8752,  602.8398, 2121.1821, 1869.6453]], dtype=torch.float64) torch.Size([7, 4])\n",
      "3088_WHATS_YOUR_NUMBER_00.37.21.988-00.37.51.262@7.jpg  target after BoxList(num_boxes=7, image_width=999, image_height=543, mode=xyxy)\n",
      "GeneralizedRCNN model forward\n",
      "roi_head\n",
      "self.score_thresh 0.5\n",
      "reln 1\n",
      "orig_features torch.Size([18, 4096])\n",
      "\n"
     ]
    },
    {
     "name": "stderr",
     "output_type": "stream",
     "text": [
      "\r",
      " 64%|██████▍   | 64/100 [00:19<00:10,  3.32it/s]"
     ]
    },
    {
     "name": "stdout",
     "output_type": "stream",
     "text": [
      "/home/suji/spring20/vilbert_beta/data/VCR/vcr1images/lsmdc_0014_Ist_das_Leben_nicht_schoen/0014_Ist_das_Leben_nicht_schoen_00.13.12.298-00.13.21.339@0.jpg  box tensor([[1432.2098, 1088.5341, 1660.2910, 1645.3791],\n",
      "        [1847.9859, 1118.4512, 2073.1066, 1667.5207],\n",
      "        [2308.5395, 1143.5193, 2497.2649, 1664.2971],\n",
      "        [ 840.1926,  836.0573, 1341.1971, 1988.9149],\n",
      "        [ 448.4714, 1209.7120,  564.3513, 1580.3106],\n",
      "        [ 553.0944, 1201.7337,  680.5190, 1574.2267],\n",
      "        [1190.4055, 1105.3352, 1304.6555, 1457.5193],\n",
      "        [2791.1117,  950.1041, 2924.3964, 1432.8156]], dtype=torch.float64) torch.Size([8, 4])\n",
      "0014_Ist_das_Leben_nicht_schoen_00.13.12.298-00.13.21.339@0.jpg  target after BoxList(num_boxes=8, image_width=999, image_height=562, mode=xyxy)\n",
      "img_id (63,)\n",
      "proposal: [BoxList(num_boxes=1000, image_width=999, image_height=415, mode=xyxy)]\n",
      "GeneralizedRCNN model forward\n",
      "roi_head\n",
      "self.score_thresh 0.5\n",
      "reln 1\n",
      "orig_features torch.Size([9, 4096])\n",
      "\n"
     ]
    },
    {
     "name": "stderr",
     "output_type": "stream",
     "text": [
      "\r",
      " 65%|██████▌   | 65/100 [00:19<00:09,  3.50it/s]"
     ]
    },
    {
     "name": "stdout",
     "output_type": "stream",
     "text": [
      "/home/suji/spring20/vilbert_beta/data/VCR/vcr1images/lsmdc_0041_The_Sixth_Sense/0041_The_Sixth_Sense_01.22.40.047-01.22.42.040@0.jpg  box tensor([[2.7671e+03, 2.4091e+01, 3.5981e+03, 1.5798e+03],\n",
      "        [9.5324e+00, 0.0000e+00, 6.1204e+02, 2.0166e+03],\n",
      "        [2.0000e+03, 8.7017e+02, 3.5619e+03, 2.0026e+03],\n",
      "        [1.5150e+03, 4.0570e+02, 2.4001e+03, 1.9637e+03],\n",
      "        [9.2267e+02, 2.0448e+02, 1.4440e+03, 1.8816e+03],\n",
      "        [2.4024e+03, 3.1374e+02, 2.7264e+03, 9.3932e+02],\n",
      "        [5.7545e+02, 9.3415e+01, 1.0575e+03, 1.8996e+03],\n",
      "        [1.1483e+03, 3.8662e+02, 1.4626e+03, 1.7643e+03],\n",
      "        [1.9999e+02, 4.4243e+01, 6.7086e+02, 1.1058e+03],\n",
      "        [5.4272e+02, 3.5055e+02, 7.0476e+02, 6.9701e+02],\n",
      "        [1.9920e+02, 8.6637e-01, 6.0526e+02, 6.2875e+02],\n",
      "        [2.9376e+03, 3.3207e+00, 3.2084e+03, 1.9821e+02],\n",
      "        [1.0896e+03, 3.1852e+02, 1.1838e+03, 4.5454e+02],\n",
      "        [1.9429e+03, 1.0046e+03, 2.0880e+03, 1.2236e+03],\n",
      "        [1.0398e+03, 4.5872e+02, 1.0924e+03, 6.2216e+02],\n",
      "        [1.7216e+03, 1.2048e+03, 2.4030e+03, 1.4973e+03]], dtype=torch.float64) torch.Size([16, 4])\n",
      "0041_The_Sixth_Sense_01.22.40.047-01.22.42.040@0.jpg  target after BoxList(num_boxes=16, image_width=999, image_height=562, mode=xyxy)\n",
      "img_id (64,)\n",
      "proposal: [BoxList(num_boxes=1000, image_width=1000, image_height=419, mode=xyxy)]\n",
      "GeneralizedRCNN model forward\n",
      "roi_head\n",
      "self.score_thresh 0.5\n",
      "reln 1\n",
      "orig_features torch.Size([22, 4096])\n",
      "\n"
     ]
    },
    {
     "name": "stderr",
     "output_type": "stream",
     "text": [
      "\r",
      " 66%|██████▌   | 66/100 [00:19<00:09,  3.50it/s]"
     ]
    },
    {
     "name": "stdout",
     "output_type": "stream",
     "text": [
      "/home/suji/spring20/vilbert_beta/data/VCR/vcr1images/lsmdc_3036_IN_TIME/3036_IN_TIME_00.40.26.728-00.40.30.724@0.jpg  box tensor([[1536.8787,  237.8657, 1975.0893, 1527.8324],\n",
      "        [2166.2228,  314.7651, 2523.5078, 1507.5743],\n",
      "        [1145.4808,  289.5403, 1520.9903, 1501.1858],\n",
      "        [3491.8996,  528.0797, 3598.1250, 1528.1250],\n",
      "        [2851.2289,  383.4016, 3020.3483,  899.6309],\n",
      "        [1490.4960,  296.2904, 1663.9198, 1249.0257],\n",
      "        [2652.1529,  364.5602, 2800.5402,  932.7697],\n",
      "        [3001.5777,  409.1774, 3155.4636,  895.7913],\n",
      "        [3261.1418,  373.4807, 3513.5413, 1411.2714],\n",
      "        [2406.9097,  346.7298, 2527.2059,  541.2306],\n",
      "        [1936.5303,  378.1055, 2346.6426, 1520.2455],\n",
      "        [1624.9517,  200.5107, 1786.4650,  519.8696],\n",
      "        [3088.1646,  360.3240, 3338.5036,  979.6642],\n",
      "        [2488.2841,  367.3846, 2671.8427,  920.1060],\n",
      "        [1808.1240,  518.6009, 1854.5161,  693.1571]], dtype=torch.float64) torch.Size([15, 4])\n",
      "3036_IN_TIME_00.40.26.728-00.40.30.724@0.jpg  target after BoxList(num_boxes=15, image_width=1000, image_height=425, mode=xyxy)\n",
      "img_id (65,)\n",
      "proposal: [BoxList(num_boxes=1000, image_width=1000, image_height=425, mode=xyxy)]\n",
      "GeneralizedRCNN model forward\n",
      "roi_head\n",
      "self.score_thresh 0.5\n"
     ]
    },
    {
     "name": "stderr",
     "output_type": "stream",
     "text": [
      "\r",
      " 67%|██████▋   | 67/100 [00:20<00:09,  3.57it/s]"
     ]
    },
    {
     "name": "stdout",
     "output_type": "stream",
     "text": [
      "/home/suji/spring20/vilbert_beta/data/VCR/vcr1images/lsmdc_3088_WHATS_YOUR_NUMBER/3088_WHATS_YOUR_NUMBER_00.13.05.011-00.13.19.335@4.jpg  box tensor([[3.0226e+03, 7.5606e+02, 3.4834e+03, 1.9352e+03],\n",
      "        [2.5990e+03, 9.5460e+02, 3.1348e+03, 1.9426e+03],\n",
      "        [1.0460e+03, 1.0055e+03, 1.5199e+03, 1.9356e+03],\n",
      "        [1.8418e+03, 7.1067e+02, 2.3759e+03, 1.9413e+03],\n",
      "        [1.6120e-01, 1.2019e+03, 4.4553e+02, 1.8720e+03],\n",
      "        [2.1480e+03, 3.6819e+02, 2.3616e+03, 1.0241e+03],\n",
      "        [1.1683e+03, 3.3292e+02, 1.3969e+03, 8.4384e+02],\n",
      "        [2.4577e+03, 4.3502e+02, 2.7497e+03, 9.5167e+02],\n",
      "        [1.4859e+03, 7.4205e+02, 1.9485e+03, 1.8246e+03],\n",
      "        [2.3021e+03, 8.0504e+02, 2.7892e+03, 1.7113e+03],\n",
      "        [1.2801e+03, 5.5175e+02, 1.5312e+03, 9.5074e+02],\n",
      "        [4.2676e+00, 1.4993e+03, 4.0948e+02, 1.9268e+03],\n",
      "        [9.9120e+02, 4.5503e+02, 1.2148e+03, 1.4098e+03],\n",
      "        [7.2914e+02, 5.0817e+02, 9.9364e+02, 1.5378e+03],\n",
      "        [6.8939e+02, 1.2729e+02, 8.4442e+02, 4.4040e+02],\n",
      "        [2.7861e+03, 7.5141e+02, 3.0458e+03, 1.0141e+03],\n",
      "        [1.2470e+03, 7.2161e+02, 1.6006e+03, 1.4094e+03],\n",
      "        [6.9249e+02, 3.6492e+02, 8.2486e+02, 7.2975e+02],\n",
      "        [9.7523e+02, 2.8988e+02, 1.1392e+03, 5.0417e+02],\n",
      "        [1.7417e+03, 8.3619e+02, 1.8253e+03, 9.7447e+02],\n",
      "        [2.5658e+03, 1.2932e+03, 2.6931e+03, 1.4945e+03],\n",
      "        [1.9001e+03, 1.0407e+03, 1.9551e+03, 1.1394e+03]], dtype=torch.float64) torch.Size([22, 4])\n",
      "3088_WHATS_YOUR_NUMBER_00.13.05.011-00.13.19.335@4.jpg  target after BoxList(num_boxes=22, image_width=999, image_height=543, mode=xyxy)\n",
      "reln 1\n",
      "orig_features torch.Size([11, 4096])\n",
      "\n",
      "img_id (66,)\n",
      "proposal: [BoxList(num_boxes=1000, image_width=999, image_height=562, mode=xyxy)]\n",
      "GeneralizedRCNN model forward\n",
      "roi_head\n"
     ]
    },
    {
     "name": "stderr",
     "output_type": "stream",
     "text": [
      "\r",
      " 68%|██████▊   | 68/100 [00:20<00:08,  3.62it/s]"
     ]
    },
    {
     "name": "stdout",
     "output_type": "stream",
     "text": [
      "/home/suji/spring20/vilbert_beta/data/VCR/vcr1images/lsmdc_3005_ABRAHAM_LINCOLN_VAMPIRE_HUNTER/3005_ABRAHAM_LINCOLN_VAMPIRE_HUNTER_00.57.45.554-00.57.48.269@0.jpg  box tensor([[  15.6717,    0.0000,  766.5344, 1296.2240],\n",
      "        [  66.3497,   17.8167, 1407.0808, 1403.6366],\n",
      "        [2007.6920,   49.3889, 3427.8964, 1397.9758],\n",
      "        [1511.4736,  595.0590, 2386.4312, 1389.0064],\n",
      "        [1361.5071,   26.5675, 2555.2634, 1274.4717]], dtype=torch.float64) torch.Size([5, 4])\n",
      "3005_ABRAHAM_LINCOLN_VAMPIRE_HUNTER_00.57.45.554-00.57.48.269@0.jpg  target after BoxList(num_boxes=5, image_width=1000, image_height=421, mode=xyxy)\n",
      "self.score_thresh 0.5\n",
      "reln 1\n",
      "orig_features torch.Size([10, 4096])\n",
      "\n",
      "img_id (67,)\n",
      "proposal: [BoxList(num_boxes=1000, image_width=999, image_height=543, mode=xyxy)]\n",
      "GeneralizedRCNN model forward\n"
     ]
    },
    {
     "name": "stderr",
     "output_type": "stream",
     "text": [
      "\r",
      " 69%|██████▉   | 69/100 [00:20<00:08,  3.66it/s]"
     ]
    },
    {
     "name": "stdout",
     "output_type": "stream",
     "text": [
      "roi_head\n",
      "self.score_thresh 0.5\n",
      "reln 1\n",
      "orig_features torch.Size([15, 4096])\n",
      "\n",
      "img_id (68,)\n",
      "proposal: [BoxList(num_boxes=1000, image_width=999, image_height=428, mode=xyxy)]\n",
      "GeneralizedRCNN model forward\n",
      "/home/suji/spring20/vilbert_beta/data/VCR/vcr1images/lsmdc_0014_Ist_das_Leben_nicht_schoen/0014_Ist_das_Leben_nicht_schoen_00.30.42.191-00.30.52.644@0.jpg  box tensor([[1953.9990,  228.9574, 2717.2989, 1935.9247],\n",
      "        [ 439.3328,  764.1955,  955.3870, 1968.0796],\n",
      "        [ 779.4834,  857.4660, 1268.2059, 1567.7113],\n",
      "        [1215.4983,  358.7974, 1942.1654, 1585.4542],\n",
      "        [2552.8642, 1171.5344, 3157.7600, 1975.7211],\n",
      "        [1945.2628,  127.4294, 2276.6998,  900.2843],\n",
      "        [ 453.0777,  707.7441,  765.9608, 1408.4161],\n",
      "        [2318.6334, 1676.3470, 3075.0385, 2018.6291],\n",
      "        [ 944.5770, 1183.6505, 1039.8335, 1434.1493],\n",
      "        [1566.1336,  721.5836, 1667.9640,  894.4193],\n",
      "        [1808.4320, 1048.7629, 2020.1081, 1228.2200]], dtype=torch.float64) torch.Size([11, 4])\n",
      "0014_Ist_das_Leben_nicht_schoen_00.30.42.191-00.30.52.644@0.jpg  target after BoxList(num_boxes=11, image_width=999, image_height=562, mode=xyxy)\n"
     ]
    },
    {
     "name": "stderr",
     "output_type": "stream",
     "text": [
      "\r",
      " 70%|███████   | 70/100 [00:20<00:07,  3.83it/s]"
     ]
    },
    {
     "name": "stdout",
     "output_type": "stream",
     "text": [
      "/home/suji/spring20/vilbert_beta/data/VCR/vcr1images/lsmdc_0014_Ist_das_Leben_nicht_schoen/0014_Ist_das_Leben_nicht_schoen_00.50.17.585-00.50.19.064@0.jpg  box tensor([[ 479.8258, 1110.9986, 1845.6118, 1991.5105],\n",
      "        [1440.1325,  416.1125, 2199.4233, 1810.1111],\n",
      "        [2325.0389, 1556.8089, 2922.4091, 2007.3241],\n",
      "        [1844.5251, 1189.1865, 2486.5455, 1989.1500],\n",
      "        [2539.1682, 1456.9247, 3008.6414, 1993.4731],\n",
      "        [1183.7513,  836.2862, 1547.3368, 1454.7018],\n",
      "        [1284.0169,  338.9838, 1563.7357,  898.0563],\n",
      "        [2999.4880, 1715.3321, 3141.8273, 2021.9941],\n",
      "        [ 447.3683, 1084.2176,  819.1974, 1895.9885]], dtype=torch.float64) torch.Size([9, 4])\n",
      "roi_head\n",
      "self.score_thresh 0.5\n",
      "reln 1\n",
      "orig_features torch.Size([7, 4096])\n",
      "\n",
      "img_id (69,)\n",
      "proposal: [BoxList(num_boxes=1000, image_width=1000, image_height=425, mode=xyxy)]\n",
      "GeneralizedRCNN model forward\n",
      "0014_Ist_das_Leben_nicht_schoen_00.50.17.585-00.50.19.064@0.jpg  target after BoxList(num_boxes=9, image_width=999, image_height=562, mode=xyxy)\n"
     ]
    },
    {
     "name": "stderr",
     "output_type": "stream",
     "text": [
      "\r",
      " 71%|███████   | 71/100 [00:21<00:07,  3.70it/s]"
     ]
    },
    {
     "name": "stdout",
     "output_type": "stream",
     "text": [
      "roi_head\n",
      "self.score_thresh 0.5\n",
      "reln 1\n",
      "orig_features torch.Size([23, 4096])\n",
      "\n",
      "img_id (70,)\n",
      "proposal: [BoxList(num_boxes=1000, image_width=999, image_height=415, mode=xyxy)]\n",
      "GeneralizedRCNN model forward\n",
      "/home/suji/spring20/vilbert_beta/data/VCR/vcr1images/lsmdc_1010_TITANIC/1010_TITANIC_01.36.51.479-01.36.59.358@1.jpg  box tensor([[ 344.4675,  292.1916, 1317.8690, 1519.1487],\n",
      "        [1463.1565,  358.6872, 2313.7189, 1455.5834],\n",
      "        [2490.0991,   23.5341, 3598.1250, 1539.3750]], dtype=torch.float64) torch.Size([3, 4])\n",
      "1010_TITANIC_01.36.51.479-01.36.59.358@1.jpg  target after BoxList(num_boxes=3, image_width=999, image_height=428, mode=xyxy)\n"
     ]
    },
    {
     "name": "stderr",
     "output_type": "stream",
     "text": [
      "\r",
      " 72%|███████▏  | 72/100 [00:21<00:07,  3.62it/s]"
     ]
    },
    {
     "name": "stdout",
     "output_type": "stream",
     "text": [
      "roi_head\n",
      "self.score_thresh 0.5\n",
      "reln 1\n",
      "orig_features torch.Size([19, 4096])\n",
      "\n",
      "img_id (71,)\n",
      "proposal: [BoxList(num_boxes=1000, image_width=999, image_height=543, mode=xyxy)]\n",
      "GeneralizedRCNN model forward\n",
      "/home/suji/spring20/vilbert_beta/data/VCR/vcr1images/lsmdc_1054_Harry_Potter_and_the_prisoner_of_azkaban/1054_Harry_Potter_and_the_prisoner_of_azkaban_00.05.13.932-00.05.16.544@0.jpg  box tensor([[ 630.2376,  202.0246, 2530.5988, 1400.5000],\n",
      "        [2521.3479,  546.5997, 2709.2452,  794.9442],\n",
      "        [   8.3111,  281.8693,  254.2381, 1152.6891],\n",
      "        [3163.6226,  405.0388, 3598.1250, 1403.4392],\n",
      "        [3292.3418,  400.6411, 3589.9111, 1093.7016],\n",
      "        [2715.2818,  449.2730, 3589.2318, 1440.0893],\n",
      "        [ 165.3976, 1312.0975, 2649.6311, 1474.7098]], dtype=torch.float64) torch.Size([7, 4])\n",
      "1054_Harry_Potter_and_the_prisoner_of_azkaban_00.05.13.932-00.05.16.544@0.jpg  target after BoxList(num_boxes=7, image_width=999, image_height=415, mode=xyxy)\n"
     ]
    },
    {
     "name": "stderr",
     "output_type": "stream",
     "text": [
      "\r",
      " 73%|███████▎  | 73/100 [00:21<00:07,  3.48it/s]"
     ]
    },
    {
     "name": "stdout",
     "output_type": "stream",
     "text": [
      "roi_head\n",
      "self.score_thresh 0.5\n",
      "reln 1\n",
      "orig_features torch.Size([23, 4096])\n",
      "\n",
      "img_id (72,)\n",
      "proposal: [BoxList(num_boxes=1000, image_width=999, image_height=562, mode=xyxy)]\n",
      "GeneralizedRCNN model forward\n",
      "/home/suji/spring20/vilbert_beta/data/VCR/vcr1images/lsmdc_3088_WHATS_YOUR_NUMBER/3088_WHATS_YOUR_NUMBER_00.53.30.960-00.53.35.420@1.jpg  box tensor([[8.7112e+02, 1.0294e+02, 1.3613e+03, 1.4906e+03],\n",
      "        [3.0360e+03, 9.0146e+00, 3.5883e+03, 1.1845e+03],\n",
      "        [7.5581e+02, 1.4233e+02, 1.0605e+03, 1.3309e+03],\n",
      "        [1.1541e+03, 7.4426e+01, 1.7972e+03, 1.6320e+03],\n",
      "        [2.2087e+03, 4.3365e+02, 2.4703e+03, 7.3405e+02],\n",
      "        [1.7808e+03, 3.8317e+02, 2.4388e+03, 1.4876e+03],\n",
      "        [1.5919e+03, 3.0746e+02, 2.0256e+03, 8.2458e+02],\n",
      "        [2.5863e+03, 4.5452e+02, 2.9186e+03, 9.8124e+02],\n",
      "        [1.8391e+03, 3.9930e+02, 2.4559e+03, 8.8770e+02],\n",
      "        [2.3033e+03, 4.7377e+02, 2.9427e+03, 1.4942e+03],\n",
      "        [1.8008e+01, 1.0309e+03, 5.4681e+02, 1.7162e+03],\n",
      "        [3.4695e-01, 9.4143e+02, 8.8165e+01, 1.0046e+03],\n",
      "        [2.7472e+03, 7.8180e+02, 3.0310e+03, 1.1045e+03],\n",
      "        [3.9082e+02, 6.4315e+02, 7.6989e+02, 1.0510e+03],\n",
      "        [1.4865e+03, 8.2521e+02, 2.6683e+03, 1.5489e+03],\n",
      "        [2.3211e+03, 8.7334e+02, 2.5493e+03, 9.1488e+02],\n",
      "        [1.6043e+03, 8.4037e+02, 1.9000e+03, 8.8239e+02],\n",
      "        [1.6396e+03, 8.8634e+02, 1.8815e+03, 9.3596e+02]], dtype=torch.float64) torch.Size([18, 4])\n",
      "3088_WHATS_YOUR_NUMBER_00.53.30.960-00.53.35.420@1.jpg  target after BoxList(num_boxes=18, image_width=999, image_height=543, mode=xyxy)\n",
      "roi_head\n",
      "self.score_thresh 0.5\n",
      "reln 1\n",
      "orig_features torch.Size([26, 4096])\n",
      "\n"
     ]
    },
    {
     "name": "stderr",
     "output_type": "stream",
     "text": [
      "\r",
      " 74%|███████▍  | 74/100 [00:22<00:07,  3.30it/s]"
     ]
    },
    {
     "name": "stdout",
     "output_type": "stream",
     "text": [
      "/home/suji/spring20/vilbert_beta/data/VCR/vcr1images/lsmdc_3005_ABRAHAM_LINCOLN_VAMPIRE_HUNTER/3005_ABRAHAM_LINCOLN_VAMPIRE_HUNTER_01.05.24.697-01.05.26.636@0.jpg  box tensor([[2593.9604,    6.0034, 3589.1441, 1473.5994],\n",
      "        [ 577.0745,    0.0000, 1817.5882, 1499.9432],\n",
      "        [2525.9585,  857.7531, 2702.0734, 1148.7345],\n",
      "        [1866.9810,  308.5813, 2348.3670,  865.0482],\n",
      "        [2025.3976,  633.6677, 2176.2957,  869.3320]], dtype=torch.float64) torch.Size([5, 4])\n",
      "3005_ABRAHAM_LINCOLN_VAMPIRE_HUNTER_01.05.24.697-01.05.26.636@0.jpg  target after BoxList(num_boxes=5, image_width=1000, image_height=421, mode=xyxy)\n",
      "img_id (73,)\n",
      "proposal: [BoxList(num_boxes=1000, image_width=999, image_height=562, mode=xyxy)]\n",
      "GeneralizedRCNN model forward\n",
      "roi_head\n",
      "self.score_thresh 0.5\n",
      "reln 1\n",
      "orig_features torch.Size([20, 4096])\n",
      "\n"
     ]
    },
    {
     "name": "stderr",
     "output_type": "stream",
     "text": [
      "\r",
      " 75%|███████▌  | 75/100 [00:22<00:07,  3.37it/s]"
     ]
    },
    {
     "name": "stdout",
     "output_type": "stream",
     "text": [
      "/home/suji/spring20/vilbert_beta/data/VCR/vcr1images/lsmdc_1010_TITANIC/1010_TITANIC_01.12.06.252-01.12.27.658@0.jpg  box tensor([[ 248.9904,   35.3555,  997.7562, 1536.3103],\n",
      "        [2137.8024,  217.9099, 2889.2777, 1521.8552],\n",
      "        [1206.7969,  893.4167, 1762.1107, 1494.9426],\n",
      "        [1367.4676,  238.8683, 1894.9056, 1100.9597],\n",
      "        [1524.4051,  699.6913, 1723.6818, 1044.0471],\n",
      "        [1387.0387, 1324.8764, 1557.1590, 1516.7222],\n",
      "        [ 802.6678,  835.2026,  991.5930, 1085.8704]], dtype=torch.float64) torch.Size([7, 4])\n",
      "1010_TITANIC_01.12.06.252-01.12.27.658@0.jpg  target after BoxList(num_boxes=7, image_width=999, image_height=428, mode=xyxy)\n",
      "img_id (74,)\n",
      "proposal: [BoxList(num_boxes=1000, image_width=1000, image_height=425, mode=xyxy)]\n",
      "GeneralizedRCNN model forward\n",
      "roi_head\n",
      "self.score_thresh 0.5\n"
     ]
    },
    {
     "name": "stderr",
     "output_type": "stream",
     "text": [
      "\r",
      " 76%|███████▌  | 76/100 [00:22<00:07,  3.00it/s]"
     ]
    },
    {
     "name": "stdout",
     "output_type": "stream",
     "text": [
      "reln 1\n",
      "orig_features torch.Size([28, 4096])\n",
      "\n",
      "img_id (75,)\n",
      "proposal: [BoxList(num_boxes=1000, image_width=999, image_height=543, mode=xyxy)]\n",
      "GeneralizedRCNN model forward\n",
      "/home/suji/spring20/vilbert_beta/data/VCR/vcr1images/lsmdc_3088_WHATS_YOUR_NUMBER/3088_WHATS_YOUR_NUMBER_00.37.02.468-00.37.10.757@1.jpg  box tensor([[1736.1755,  577.6846, 2204.2557, 1912.4404],\n",
      "        [2944.2268,  973.6826, 3114.7245, 1169.4553],\n",
      "        [ 819.3645, 1249.1407, 1372.0823, 1908.4268],\n",
      "        [2102.0670, 1076.8998, 2694.4869, 1478.2207],\n",
      "        [3415.8037,  326.5807, 3471.9608,  504.1128],\n",
      "        [3324.7449,  318.7387, 3411.0924,  507.1149],\n",
      "        [1124.1343, 1016.6235, 1345.3387, 1421.5645],\n",
      "        [1129.5998, 1023.2847, 1266.7010, 1302.8302]], dtype=torch.float64) torch.Size([8, 4])\n",
      "3088_WHATS_YOUR_NUMBER_00.37.02.468-00.37.10.757@1.jpg  target after BoxList(num_boxes=8, image_width=999, image_height=543, mode=xyxy)\n"
     ]
    },
    {
     "name": "stderr",
     "output_type": "stream",
     "text": [
      "\r",
      " 77%|███████▋  | 77/100 [00:23<00:07,  3.17it/s]"
     ]
    },
    {
     "name": "stdout",
     "output_type": "stream",
     "text": [
      "roi_head\n",
      "self.score_thresh 0.5\n",
      "reln 1\n",
      "orig_features torch.Size([16, 4096])\n",
      "\n",
      "img_id (76,)\n",
      "proposal: [BoxList(num_boxes=1000, image_width=1000, image_height=421, mode=xyxy)]\n",
      "GeneralizedRCNN model forward\n",
      "/home/suji/spring20/vilbert_beta/data/VCR/vcr1images/lsmdc_1010_TITANIC/1010_TITANIC_02.37.28.501-02.37.31.775@0.jpg  box tensor([[1.5397e+03, 1.1933e+03, 1.8811e+03, 1.5381e+03],\n",
      "        [2.7316e+03, 1.1938e+03, 3.0841e+03, 1.5382e+03],\n",
      "        [1.9164e+03, 1.0489e+03, 2.2402e+03, 1.5150e+03],\n",
      "        [2.3068e+01, 3.5219e+02, 3.4861e+02, 9.1991e+02],\n",
      "        [2.7740e+02, 6.6941e+02, 1.0517e+03, 1.4381e+03],\n",
      "        [2.4785e+03, 1.0670e+03, 2.6992e+03, 1.4591e+03],\n",
      "        [3.1083e+03, 1.3946e+03, 3.4300e+03, 1.5297e+03],\n",
      "        [2.6293e+03, 1.0866e+03, 2.7804e+03, 1.3509e+03],\n",
      "        [1.0091e+03, 4.9863e+02, 1.2781e+03, 7.6645e+02],\n",
      "        [3.4765e+03, 1.0825e+03, 3.5942e+03, 1.3147e+03],\n",
      "        [3.2779e+03, 9.7015e+02, 3.4637e+03, 1.2627e+03],\n",
      "        [3.0447e+03, 1.0084e+03, 3.2257e+03, 1.2018e+03],\n",
      "        [3.2082e+03, 1.2490e+03, 3.4294e+03, 1.5132e+03],\n",
      "        [8.3176e+02, 5.5500e+02, 1.1138e+03, 7.9985e+02],\n",
      "        [2.3106e+03, 1.2299e+03, 2.5817e+03, 1.5279e+03],\n",
      "        [6.0705e+02, 5.2121e+02, 1.1018e+03, 1.0761e+03],\n",
      "        [1.0646e+03, 7.7653e+02, 1.4306e+03, 1.4819e+03],\n",
      "        [3.2025e+00, 2.1481e+02, 7.3133e+01, 5.4269e+02],\n",
      "        [1.5193e+03, 5.2565e+02, 1.7552e+03, 1.1192e+03],\n",
      "        [1.4066e+02, 2.6604e+02, 3.0875e+03, 1.4677e+03],\n",
      "        [3.2881e+03, 1.2561e+03, 3.5831e+03, 1.5307e+03]], dtype=torch.float64) torch.Size([21, 4])\n",
      "1010_TITANIC_02.37.28.501-02.37.31.775@0.jpg  target after BoxList(num_boxes=21, image_width=999, image_height=428, mode=xyxy)\n",
      "roi_head\n",
      "self.score_thresh 0.5\n",
      "reln 1\n",
      "orig_features torch.Size([28, 4096])\n",
      "\n"
     ]
    },
    {
     "name": "stderr",
     "output_type": "stream",
     "text": [
      "\r",
      " 78%|███████▊  | 78/100 [00:23<00:07,  3.05it/s]"
     ]
    },
    {
     "name": "stdout",
     "output_type": "stream",
     "text": [
      "/home/suji/spring20/vilbert_beta/data/VCR/vcr1images/lsmdc_3036_IN_TIME/3036_IN_TIME_00.54.14.200-00.54.22.964@3.jpg  box tensor([[ 796.3296,  276.0515, 1503.9143, 1522.9935],\n",
      "        [1480.0861,   56.4297, 2283.8088, 1515.7911],\n",
      "        [ 597.9934,  468.2025,  834.8171,  927.3118],\n",
      "        [2359.8530,  446.6793, 2457.2710,  796.0772],\n",
      "        [1448.1175,  451.5721, 1551.8092,  740.0527],\n",
      "        [2183.1372,  460.5873, 2266.7812,  695.7642],\n",
      "        [2481.9415,  483.5978, 2554.5639,  685.4596],\n",
      "        [2238.5861,  450.3263, 2407.9518,  795.4116],\n",
      "        [2525.1496,  402.6536, 2773.2571,  611.2901],\n",
      "        [ 897.5865,  856.5466, 1372.7589, 1514.8377],\n",
      "        [1919.1219,  607.3746, 1987.5561,  818.0416]], dtype=torch.float64) torch.Size([11, 4])\n",
      "3036_IN_TIME_00.54.14.200-00.54.22.964@3.jpg  target after BoxList(num_boxes=11, image_width=1000, image_height=425, mode=xyxy)\n",
      "img_id (77,)\n",
      "proposal: [BoxList(num_boxes=1000, image_width=999, image_height=562, mode=xyxy)]\n",
      "GeneralizedRCNN model forward\n",
      "roi_head\n",
      "self.score_thresh 0.5\n"
     ]
    },
    {
     "name": "stderr",
     "output_type": "stream",
     "text": [
      "\r",
      " 79%|███████▉  | 79/100 [00:23<00:06,  3.04it/s]"
     ]
    },
    {
     "name": "stdout",
     "output_type": "stream",
     "text": [
      "/home/suji/spring20/vilbert_beta/data/VCR/vcr1images/lsmdc_0010_Frau_Ohne_Gewissen/0010_Frau_Ohne_Gewissen_00.07.57.285-00.07.57.460@0.jpg  box tensor([[1082.0944,  584.7002, 2458.4665, 1987.6820],\n",
      "        [ 471.0331, 1236.0150,  964.5799, 1994.4358],\n",
      "        [2644.6431,    3.8600, 2992.8053,  348.6717]], dtype=torch.float64) torch.Size([3, 4])\n",
      "0010_Frau_Ohne_Gewissen_00.07.57.285-00.07.57.460@0.jpg  target after BoxList(num_boxes=3, image_width=999, image_height=562, mode=xyxy)\n",
      "reln 1\n",
      "orig_features torch.Size([24, 4096])\n",
      "\n",
      "img_id (78,)\n",
      "proposal: [BoxList(num_boxes=1000, image_width=999, image_height=562, mode=xyxy)]\n",
      "GeneralizedRCNN model forward\n"
     ]
    },
    {
     "name": "stderr",
     "output_type": "stream",
     "text": [
      "\r",
      " 80%|████████  | 80/100 [00:24<00:06,  3.23it/s]"
     ]
    },
    {
     "name": "stdout",
     "output_type": "stream",
     "text": [
      "roi_head\n",
      "self.score_thresh 0.5\n",
      "reln 1\n",
      "orig_features torch.Size([14, 4096])\n",
      "\n",
      "img_id (79,)\n",
      "proposal: [BoxList(num_boxes=1000, image_width=999, image_height=428, mode=xyxy)]\n",
      "GeneralizedRCNN model forward\n",
      "/home/suji/spring20/vilbert_beta/data/VCR/vcr1images/lsmdc_3088_WHATS_YOUR_NUMBER/3088_WHATS_YOUR_NUMBER_00.37.02.468-00.37.10.757@2.jpg  box tensor([[1328.9660,  512.6175, 2637.9165, 1935.7148],\n",
      "        [1136.3135,  167.5059, 1262.7231,  294.4123],\n",
      "        [ 626.5146,   61.6245, 2927.5779, 1863.4782],\n",
      "        [3021.5149,  401.8342, 3060.6976,  561.6414],\n",
      "        [2307.5880, 1797.9969, 2672.4028, 1932.1099]], dtype=torch.float64) torch.Size([5, 4])\n",
      "3088_WHATS_YOUR_NUMBER_00.37.02.468-00.37.10.757@2.jpg  target after BoxList(num_boxes=5, image_width=999, image_height=543, mode=xyxy)\n"
     ]
    },
    {
     "name": "stderr",
     "output_type": "stream",
     "text": [
      "\r",
      " 81%|████████  | 81/100 [00:24<00:05,  3.35it/s]"
     ]
    },
    {
     "name": "stdout",
     "output_type": "stream",
     "text": [
      "roi_head\n",
      "self.score_thresh 0.5\n",
      "reln 1\n",
      "orig_features torch.Size([18, 4096])\n",
      "\n",
      "img_id (80,)\n",
      "proposal: [BoxList(num_boxes=1000, image_width=999, image_height=415, mode=xyxy)]\n",
      "GeneralizedRCNN model forward\n",
      "/home/suji/spring20/vilbert_beta/data/VCR/vcr1images/lsmdc_0050_Indiana_Jones_and_the_last_crusade/0050_Indiana_Jones_and_the_last_crusade_00.07.11.262-00.07.15.438@0.jpg  box tensor([[1247.6754,  535.2282, 2054.5349, 1405.6311],\n",
      "        [2012.0345,  440.7980, 2358.6779,  724.8491],\n",
      "        [2114.5592,   15.0467, 3531.5620, 1195.0749],\n",
      "        [  65.0560, 1124.0173, 1237.2806, 1525.9839],\n",
      "        [1697.9311,  568.5544, 2889.9170, 1469.5365]], dtype=torch.float64) torch.Size([5, 4])\n",
      "0050_Indiana_Jones_and_the_last_crusade_00.07.11.262-00.07.15.438@0.jpg  target after BoxList(num_boxes=5, image_width=999, image_height=429, mode=xyxy)\n",
      "roi_head\n",
      "self.score_thresh 0.5\n",
      "reln 1\n",
      "orig_features torch.Size([28, 4096])\n",
      "\n"
     ]
    },
    {
     "name": "stderr",
     "output_type": "stream",
     "text": [
      "\r",
      " 82%|████████▏ | 82/100 [00:24<00:05,  3.18it/s]"
     ]
    },
    {
     "name": "stdout",
     "output_type": "stream",
     "text": [
      "/home/suji/spring20/vilbert_beta/data/VCR/vcr1images/lsmdc_3005_ABRAHAM_LINCOLN_VAMPIRE_HUNTER/3005_ABRAHAM_LINCOLN_VAMPIRE_HUNTER_01.32.36.155-01.32.46.111@0.jpg  box tensor([[ 461.5046,  598.5591, 1206.5291, 1396.2118],\n",
      "        [1211.7098,  665.7287, 1731.4133, 1463.7788],\n",
      "        [3044.9609,  539.3946, 3275.6293, 1037.0566],\n",
      "        [3140.4323,  580.5210, 3598.1250, 1511.8732],\n",
      "        [ 282.7267,  576.2218,  655.7338, 1161.7361],\n",
      "        [1658.7195,  623.1837, 2484.6254, 1495.6508],\n",
      "        [3153.5667,  609.2540, 3285.0986,  786.0973],\n",
      "        [3255.7725,  625.3622, 3504.0804,  898.1940],\n",
      "        [1807.1439,  784.0131, 2483.6916, 1458.5384],\n",
      "        [ 121.2839,  162.3447, 2521.9212,  795.5267]], dtype=torch.float64) torch.Size([10, 4])\n",
      "3005_ABRAHAM_LINCOLN_VAMPIRE_HUNTER_01.32.36.155-01.32.46.111@0.jpg  target after BoxList(num_boxes=10, image_width=1000, image_height=421, mode=xyxy)\n",
      "img_id (81,)\n",
      "proposal: [BoxList(num_boxes=1000, image_width=999, image_height=543, mode=xyxy)]\n",
      "GeneralizedRCNN model forward\n",
      "roi_head\n",
      "self.score_thresh 0.5\n",
      "reln 1\n",
      "orig_features torch.Size([15, 4096])\n",
      "\n"
     ]
    },
    {
     "name": "stderr",
     "output_type": "stream",
     "text": [
      "\r",
      " 83%|████████▎ | 83/100 [00:24<00:05,  3.35it/s]"
     ]
    },
    {
     "name": "stdout",
     "output_type": "stream",
     "text": [
      "/home/suji/spring20/vilbert_beta/data/VCR/vcr1images/lsmdc_1054_Harry_Potter_and_the_prisoner_of_azkaban/1054_Harry_Potter_and_the_prisoner_of_azkaban_01.48.06.629-01.48.10.885@1.jpg  box tensor([[ 577.6372,   53.4994, 1432.0893, 1471.3737],\n",
      "        [1552.5096,  247.8987, 2851.7601, 1492.5000],\n",
      "        [3324.6215,  929.7300, 3589.4067,  999.6660],\n",
      "        [2812.1510, 1010.7280, 3597.2399, 1472.7981],\n",
      "        [2953.0730,  996.8216, 3268.7579, 1110.2417]], dtype=torch.float64) torch.Size([5, 4])\n",
      "1054_Harry_Potter_and_the_prisoner_of_azkaban_01.48.06.629-01.48.10.885@1.jpg  target after BoxList(num_boxes=5, image_width=999, image_height=415, mode=xyxy)\n",
      "img_id (82,)\n",
      "proposal: [BoxList(num_boxes=1000, image_width=1000, image_height=421, mode=xyxy)]\n",
      "GeneralizedRCNN model forward\n",
      "roi_head\n",
      "self.score_thresh 0.5\n",
      "reln 1\n",
      "orig_features torch.Size([27, 4096])\n",
      "\n"
     ]
    },
    {
     "name": "stderr",
     "output_type": "stream",
     "text": [
      "\r",
      " 84%|████████▍ | 84/100 [00:25<00:04,  3.31it/s]"
     ]
    },
    {
     "name": "stdout",
     "output_type": "stream",
     "text": [
      "/home/suji/spring20/vilbert_beta/data/VCR/vcr1images/lsmdc_1010_TITANIC/1010_TITANIC_00.26.41.735-00.26.55.256@5.jpg  box tensor([[3382.0992, 1143.2920, 3589.5467, 1522.1118],\n",
      "        [2815.5654, 1144.4443, 3213.8615, 1522.4525],\n",
      "        [3147.8105, 1229.6203, 3422.8601, 1533.8097],\n",
      "        [ 626.4286,   17.5266, 2346.8161, 1431.2794],\n",
      "        [  23.3111,  884.8040,  665.5293, 1168.8927]], dtype=torch.float64) torch.Size([5, 4])\n",
      "1010_TITANIC_00.26.41.735-00.26.55.256@5.jpg  target after BoxList(num_boxes=5, image_width=999, image_height=428, mode=xyxy)\n",
      "img_id (83,)\n",
      "proposal: [BoxList(num_boxes=1000, image_width=999, image_height=428, mode=xyxy)]\n",
      "GeneralizedRCNN model forward\n",
      "roi_head\n",
      "self.score_thresh 0.5\n"
     ]
    },
    {
     "name": "stderr",
     "output_type": "stream",
     "text": [
      "\r",
      " 85%|████████▌ | 85/100 [00:25<00:04,  3.29it/s]"
     ]
    },
    {
     "name": "stdout",
     "output_type": "stream",
     "text": [
      "/home/suji/spring20/vilbert_beta/data/VCR/vcr1images/lsmdc_0050_Indiana_Jones_and_the_last_crusade/0050_Indiana_Jones_and_the_last_crusade_00.36.47.724-00.36.54.038@1.jpg  box tensor([[1470.9695,  546.2575, 2889.2812, 1518.3980],\n",
      "        [1513.1490,  846.8818, 1950.9675, 1520.4529],\n",
      "        [2216.3356,  925.0586, 2344.2581, 1095.4412]], dtype=torch.float64) torch.Size([3, 4])\n",
      "0050_Indiana_Jones_and_the_last_crusade_00.36.47.724-00.36.54.038@1.jpg  target after BoxList(num_boxes=3, image_width=999, image_height=429, mode=xyxy)\n",
      "reln 1\n",
      "orig_features torch.Size([21, 4096])\n",
      "\n",
      "img_id (84,)\n",
      "proposal: [BoxList(num_boxes=1000, image_width=999, image_height=543, mode=xyxy)]\n",
      "GeneralizedRCNN model forward\n"
     ]
    },
    {
     "name": "stderr",
     "output_type": "stream",
     "text": [
      "\r",
      " 86%|████████▌ | 86/100 [00:25<00:03,  3.54it/s]"
     ]
    },
    {
     "name": "stdout",
     "output_type": "stream",
     "text": [
      "roi_head\n",
      "self.score_thresh 0.5\n",
      "reln 1\n",
      "orig_features torch.Size([7, 4096])\n",
      "\n",
      "img_id (85,)\n",
      "proposal: [BoxList(num_boxes=1000, image_width=999, image_height=428, mode=xyxy)]\n",
      "GeneralizedRCNN model forward\n",
      "/home/suji/spring20/vilbert_beta/data/VCR/vcr1images/lsmdc_0014_Ist_das_Leben_nicht_schoen/0014_Ist_das_Leben_nicht_schoen_00.21.25.425-00.21.33.869@0.jpg  box tensor([[1828.2605, 1582.4886, 2187.6306, 2011.3486],\n",
      "        [1831.2499, 1426.3957, 2167.0937, 1812.8009],\n",
      "        [2685.6166, 1510.2311, 2941.2231, 2019.8822],\n",
      "        [1603.4649, 1198.6885, 1922.6884, 1845.4905],\n",
      "        [1968.2634, 1078.8678, 2164.8701, 1466.9473],\n",
      "        [ 446.2123, 1138.9627,  567.2095, 1479.0607],\n",
      "        [2285.1382, 1455.6101, 2714.6198, 2012.5674],\n",
      "        [2525.3600,  404.0651, 2598.8219,  542.8868],\n",
      "        [2568.8194, 1210.3242, 2870.7136, 1800.4841],\n",
      "        [ 968.0029, 1221.0777, 1130.1638, 1464.0324],\n",
      "        [1308.7127, 1314.4632, 1557.2177, 1696.5638],\n",
      "        [ 725.7800, 1338.8237, 1055.0005, 2012.4097],\n",
      "        [2999.0536, 1267.8099, 3144.9589, 1791.1029],\n",
      "        [1110.3381, 1161.8782, 1302.9199, 1433.8292],\n",
      "        [1796.5676, 1178.2427, 2011.5942, 1546.2689],\n",
      "        [1161.3403, 1048.4292, 1437.3402, 1361.6734],\n",
      "        [1399.8303, 1545.4841, 1798.3779, 2012.6763]], dtype=torch.float64) torch.Size([17, 4])\n",
      "0014_Ist_das_Leben_nicht_schoen_00.21.25.425-00.21.33.869@0.jpg  target after BoxList(num_boxes=17, image_width=999, image_height=562, mode=xyxy)\n",
      "roi_head\n",
      "self.score_thresh 0.5\n",
      "reln 1\n",
      "orig_features torch.Size([27, 4096])\n",
      "\n"
     ]
    },
    {
     "name": "stderr",
     "output_type": "stream",
     "text": [
      "\r",
      " 87%|████████▋ | 87/100 [00:26<00:03,  3.40it/s]"
     ]
    },
    {
     "name": "stdout",
     "output_type": "stream",
     "text": [
      "/home/suji/spring20/vilbert_beta/data/VCR/vcr1images/lsmdc_0014_Ist_das_Leben_nicht_schoen/0014_Ist_das_Leben_nicht_schoen_02.05.50.235-02.05.51.276@0.jpg  box tensor([[2360.3009, 1240.4165, 3132.5372, 2002.1086],\n",
      "        [1268.8993,  275.2333, 2493.9098, 1942.5142],\n",
      "        [2720.6786,  729.3568, 3157.4409, 1549.9334],\n",
      "        [1716.9721, 1628.0915, 2348.8673, 2005.6892]], dtype=torch.float64) torch.Size([4, 4])\n",
      "0014_Ist_das_Leben_nicht_schoen_02.05.50.235-02.05.51.276@0.jpg  target after BoxList(num_boxes=4, image_width=999, image_height=562, mode=xyxy)\n",
      "img_id (86,)\n",
      "proposal: [BoxList(num_boxes=1000, image_width=1000, image_height=425, mode=xyxy)]\n",
      "GeneralizedRCNN model forward\n",
      "roi_head\n",
      "self.score_thresh 0.5\n"
     ]
    },
    {
     "name": "stderr",
     "output_type": "stream",
     "text": [
      "\r",
      " 88%|████████▊ | 88/100 [00:26<00:03,  3.47it/s]"
     ]
    },
    {
     "name": "stdout",
     "output_type": "stream",
     "text": [
      "/home/suji/spring20/vilbert_beta/data/VCR/vcr1images/lsmdc_0050_Indiana_Jones_and_the_last_crusade/0050_Indiana_Jones_and_the_last_crusade_01.43.51.799-01.43.59.494@1.jpg  box tensor([[1594.1677,   21.1868, 2820.3143, 1487.2920],\n",
      "        [3231.5186,  371.6491, 3584.9670, 1396.4953],\n",
      "        [1322.1843,  263.6057, 1799.3261, 1522.8108],\n",
      "        [1271.1698,  601.4291, 1469.3785, 1381.8814],\n",
      "        [1010.7428,  662.9004, 1251.3852, 1440.4832],\n",
      "        [2722.1816,  441.1907, 3087.1181, 1196.9463],\n",
      "        [   0.0000,   73.4779,  164.6490, 1532.1222],\n",
      "        [ 127.0531,   25.8991,  967.9953, 1543.1250],\n",
      "        [1281.8939,  435.1637, 1461.9878,  760.0778],\n",
      "        [2768.2258,  879.9541, 3558.9828, 1518.0558],\n",
      "        [ 586.9735,  393.5137, 1020.2151, 1116.5688],\n",
      "        [1414.0331,  749.9721, 1543.8052, 1004.0609]], dtype=torch.float64) torch.Size([12, 4])\n",
      "0050_Indiana_Jones_and_the_last_crusade_01.43.51.799-01.43.59.494@1.jpg  target after BoxList(num_boxes=12, image_width=999, image_height=429, mode=xyxy)\n",
      "reln 1\n",
      "orig_features torch.Size([11, 4096])\n",
      "\n",
      "img_id (87,)\n",
      "proposal: [BoxList(num_boxes=1000, image_width=999, image_height=562, mode=xyxy)]\n",
      "GeneralizedRCNN model forward\n",
      "roi_head\n",
      "self.score_thresh 0.5\n"
     ]
    },
    {
     "name": "stderr",
     "output_type": "stream",
     "text": [
      "\r",
      " 89%|████████▉ | 89/100 [00:26<00:03,  3.50it/s]"
     ]
    },
    {
     "name": "stdout",
     "output_type": "stream",
     "text": [
      "/home/suji/spring20/vilbert_beta/data/VCR/vcr1images/lsmdc_0050_Indiana_Jones_and_the_last_crusade/0050_Indiana_Jones_and_the_last_crusade_01.43.51.799-01.43.59.494@3.jpg  box tensor([[2708.5432,  520.7311, 2929.7873, 1322.6854],\n",
      "        [2367.6020,   27.2063, 2727.3461, 1527.9041],\n",
      "        [3428.2805,   35.6380, 3598.1250, 1520.5380],\n",
      "        [2933.7648,  515.8661, 3178.3250, 1339.4864],\n",
      "        [3161.1452,  445.0055, 3464.6846, 1353.2744],\n",
      "        [2818.9817,  975.2872, 3042.0252, 1342.0127],\n",
      "        [1401.0482,  170.4464, 2091.3169,  987.0567]], dtype=torch.float64) torch.Size([7, 4])\n",
      "0050_Indiana_Jones_and_the_last_crusade_01.43.51.799-01.43.59.494@3.jpg  target after BoxList(num_boxes=7, image_width=999, image_height=429, mode=xyxy)\n",
      "reln 1\n",
      "orig_features torch.Size([14, 4096])\n",
      "\n",
      "img_id (88,)\n",
      "proposal: [BoxList(num_boxes=1000, image_width=999, image_height=543, mode=xyxy)]\n",
      "GeneralizedRCNN model forward\n",
      "roi_head\n",
      "self.score_thresh 0.5\n"
     ]
    },
    {
     "name": "stderr",
     "output_type": "stream",
     "text": [
      "\r",
      " 90%|█████████ | 90/100 [00:26<00:02,  3.62it/s]"
     ]
    },
    {
     "name": "stdout",
     "output_type": "stream",
     "text": [
      "/home/suji/spring20/vilbert_beta/data/VCR/vcr1images/lsmdc_1010_TITANIC/1010_TITANIC_02.42.09.097-02.42.21.192@1.jpg  box tensor([[1961.8005,  654.0369, 2205.0790,  973.9637],\n",
      "        [1206.4701,  583.1243, 1362.7033,  990.0740],\n",
      "        [2154.6549,  546.1790, 2317.4512,  786.8263],\n",
      "        [1770.8329,  834.2600, 2004.0612, 1188.8563],\n",
      "        [ 714.9669,  378.6024,  837.6568,  664.9262],\n",
      "        [2228.3398,  764.1329, 2369.3566,  957.8862],\n",
      "        [ 822.6666,  404.9625, 1072.6135,  690.2452],\n",
      "        [1539.2424,  719.7647, 1748.4855, 1065.0763],\n",
      "        [1826.6639,  587.9409, 1945.7817,  796.9272],\n",
      "        [  95.4625,  135.8906, 3598.1250, 1443.0496]], dtype=torch.float64) torch.Size([10, 4])\n",
      "1010_TITANIC_02.42.09.097-02.42.21.192@1.jpg  target after BoxList(num_boxes=10, image_width=999, image_height=428, mode=xyxy)\n",
      "reln 1\n",
      "orig_features torch.Size([12, 4096])\n",
      "\n",
      "img_id (89,)\n",
      "proposal: [BoxList(num_boxes=1000, image_width=999, image_height=429, mode=xyxy)]\n",
      "GeneralizedRCNN model forward\n",
      "roi_head\n",
      "self.score_thresh 0.5\n"
     ]
    },
    {
     "name": "stderr",
     "output_type": "stream",
     "text": [
      "\r",
      " 91%|█████████ | 91/100 [00:27<00:02,  3.73it/s]"
     ]
    },
    {
     "name": "stdout",
     "output_type": "stream",
     "text": [
      "/home/suji/spring20/vilbert_beta/data/VCR/vcr1images/lsmdc_1010_TITANIC/1010_TITANIC_01.00.48.188-01.00.57.235@3.jpg  box tensor([[2524.0569,  247.4168, 3385.9344, 1528.9162],\n",
      "        [1470.9830,  149.8903, 2268.3987, 1530.1865],\n",
      "        [1250.4530,  458.6066, 1448.8805, 1170.3315],\n",
      "        [3403.5471,  626.5629, 3590.5357, 1162.3833],\n",
      "        [ 729.9351,  728.4188, 1241.6837, 1501.1310],\n",
      "        [1686.4674,  295.3754, 1862.6474, 1036.3150],\n",
      "        [ 816.2720,  766.6366,  984.4580, 1030.5425],\n",
      "        [  24.1183,  137.7699, 1098.8928, 1535.4753],\n",
      "        [1367.3867,  129.0073, 2995.0319, 1533.2280],\n",
      "        [ 744.6970,  496.9771,  947.5648,  782.4692],\n",
      "        [ 402.8206,  503.0755,  527.2523,  681.9487],\n",
      "        [2228.7659,    0.0000, 2951.6599, 1486.1484],\n",
      "        [1126.9431,  483.3825, 1270.5701,  888.8805],\n",
      "        [ 495.4476,  295.9266,  934.9289, 1102.3818],\n",
      "        [3480.8132,  484.3783, 3587.3774,  612.8388],\n",
      "        [3063.3987,  379.4760, 3393.4000, 1099.0194],\n",
      "        [2090.2522,  412.9598, 2267.2460,  703.8799],\n",
      "        [ 495.1282,  354.9235, 1190.9103, 1477.0238],\n",
      "        [ 817.1865,  751.3951, 1201.9076, 1168.4323],\n",
      "        [3256.1444,  465.3325, 3332.6404,  526.8388],\n",
      "        [1346.4046, 1225.3453, 1442.5006, 1363.3934]], dtype=torch.float64) torch.Size([21, 4])\n",
      "1010_TITANIC_01.00.48.188-01.00.57.235@3.jpg  target after BoxList(num_boxes=21, image_width=999, image_height=428, mode=xyxy)\n",
      "reln 1\n",
      "orig_features torch.Size([11, 4096])\n",
      "\n",
      "img_id (90,)\n",
      "proposal: [BoxList(num_boxes=1000, image_width=1000, image_height=421, mode=xyxy)]\n",
      "GeneralizedRCNN model forward\n",
      "roi_head\n",
      "self.score_thresh 0.5\n"
     ]
    },
    {
     "name": "stderr",
     "output_type": "stream",
     "text": [
      "\r",
      " 92%|█████████▏| 92/100 [00:27<00:02,  3.71it/s]"
     ]
    },
    {
     "name": "stdout",
     "output_type": "stream",
     "text": [
      "reln 1\n",
      "orig_features torch.Size([20, 4096])\n",
      "\n",
      "img_id (91,)\n",
      "proposal: [BoxList(num_boxes=1000, image_width=999, image_height=415, mode=xyxy)]\n",
      "GeneralizedRCNN model forward\n",
      "roi_head\n"
     ]
    },
    {
     "name": "stderr",
     "output_type": "stream",
     "text": [
      "\r",
      " 93%|█████████▎| 93/100 [00:27<00:01,  3.86it/s]"
     ]
    },
    {
     "name": "stdout",
     "output_type": "stream",
     "text": [
      "self.score_thresh 0.5\n",
      "reln 1\n",
      "orig_features torch.Size([9, 4096])\n",
      "\n",
      "img_id (92,)\n",
      "proposal: [BoxList(num_boxes=1000, image_width=999, image_height=428, mode=xyxy)]\n",
      "GeneralizedRCNN model forward\n"
     ]
    },
    {
     "name": "stderr",
     "output_type": "stream",
     "text": [
      "\r",
      " 94%|█████████▍| 94/100 [00:27<00:01,  3.82it/s]"
     ]
    },
    {
     "name": "stdout",
     "output_type": "stream",
     "text": [
      "roi_head\n",
      "self.score_thresh 0.5\n",
      "reln 1\n",
      "orig_features torch.Size([19, 4096])\n",
      "\n",
      "img_id (93,)\n",
      "proposal: [BoxList(num_boxes=1000, image_width=999, image_height=429, mode=xyxy)]\n",
      "GeneralizedRCNN model forward\n"
     ]
    },
    {
     "name": "stderr",
     "output_type": "stream",
     "text": [
      "\r",
      " 95%|█████████▌| 95/100 [00:28<00:01,  3.86it/s]"
     ]
    },
    {
     "name": "stdout",
     "output_type": "stream",
     "text": [
      "roi_head\n",
      "self.score_thresh 0.5\n",
      "reln 1\n",
      "orig_features torch.Size([8, 4096])\n",
      "\n",
      "img_id (94,)\n",
      "proposal: [BoxList(num_boxes=1000, image_width=999, image_height=562, mode=xyxy)]\n",
      "GeneralizedRCNN model forward\n"
     ]
    },
    {
     "name": "stderr",
     "output_type": "stream",
     "text": [
      "\r",
      " 96%|█████████▌| 96/100 [00:28<00:01,  3.69it/s]"
     ]
    },
    {
     "name": "stdout",
     "output_type": "stream",
     "text": [
      "roi_head\n",
      "self.score_thresh 0.5\n",
      "reln 1\n",
      "orig_features torch.Size([19, 4096])\n",
      "\n",
      "img_id (95,)\n",
      "proposal: [BoxList(num_boxes=1000, image_width=999, image_height=562, mode=xyxy)]\n",
      "GeneralizedRCNN model forward\n"
     ]
    },
    {
     "name": "stderr",
     "output_type": "stream",
     "text": [
      "\r",
      " 97%|█████████▋| 97/100 [00:28<00:00,  3.61it/s]"
     ]
    },
    {
     "name": "stdout",
     "output_type": "stream",
     "text": [
      "roi_head\n",
      "self.score_thresh 0.5\n",
      "reln 1\n",
      "orig_features torch.Size([23, 4096])\n",
      "\n",
      "img_id (96,)\n",
      "proposal: [BoxList(num_boxes=1000, image_width=999, image_height=429, mode=xyxy)]\n",
      "GeneralizedRCNN model forward\n"
     ]
    },
    {
     "name": "stderr",
     "output_type": "stream",
     "text": [
      "\r",
      " 98%|█████████▊| 98/100 [00:29<00:00,  3.64it/s]"
     ]
    },
    {
     "name": "stdout",
     "output_type": "stream",
     "text": [
      "roi_head\n",
      "self.score_thresh 0.5\n",
      "reln 1\n",
      "orig_features torch.Size([16, 4096])\n",
      "\n",
      "img_id (97,)\n",
      "proposal: [BoxList(num_boxes=1000, image_width=999, image_height=429, mode=xyxy)]\n",
      "GeneralizedRCNN model forward\n"
     ]
    },
    {
     "name": "stderr",
     "output_type": "stream",
     "text": [
      "\r",
      " 99%|█████████▉| 99/100 [00:29<00:00,  3.77it/s]"
     ]
    },
    {
     "name": "stdout",
     "output_type": "stream",
     "text": [
      "roi_head\n",
      "self.score_thresh 0.5\n",
      "reln 1\n",
      "orig_features torch.Size([9, 4096])\n",
      "\n",
      "img_id (98,)\n",
      "proposal: [BoxList(num_boxes=1000, image_width=999, image_height=428, mode=xyxy)]\n",
      "GeneralizedRCNN model forward\n"
     ]
    },
    {
     "name": "stderr",
     "output_type": "stream",
     "text": [
      "\r",
      "100%|██████████| 100/100 [00:29<00:00,  3.74it/s]"
     ]
    },
    {
     "name": "stdout",
     "output_type": "stream",
     "text": [
      "roi_head\n",
      "self.score_thresh 0.5\n",
      "reln 1\n",
      "orig_features torch.Size([17, 4096])\n",
      "\n",
      "img_id (99,)\n",
      "proposal: [BoxList(num_boxes=1000, image_width=999, image_height=428, mode=xyxy)]\n"
     ]
    },
    {
     "name": "stderr",
     "output_type": "stream",
     "text": [
      "100%|██████████| 100/100 [00:29<00:00,  3.37it/s]\n"
     ]
    }
   ],
   "source": [
    "from tqdm import tqdm\n",
    "import pandas as pd\n",
    "\n",
    "dataset_names = cfg.DATASETS.VCR\n",
    "device = torch.device(\"cuda\")\n",
    "idslist = []\n",
    "proplist = []\n",
    "feature_list = []\n",
    "outlist = []\n",
    "origfeatlist = []\n",
    "for dataset_name, data_loader in zip(dataset_names, data_loaders_val):\n",
    "    model.eval()\n",
    "    results_dict = {}\n",
    "    cpu_device = torch.device(\"cpu\")\n",
    "    torch.cuda.empty_cache()\n",
    "    for _, batch in enumerate(tqdm(data_loader)):\n",
    "        with torch.no_grad():\n",
    "            images, targets, image_ids = batch\n",
    "            output, proposal, feature, orig_features = model(images.to(device), None, objdet = True)\n",
    "            print(\"img_id\", image_ids)\n",
    "            print(\"proposal:\", proposal)\n",
    "            idslist.append(image_ids)\n",
    "            proplist.append(proposal)\n",
    "            feature_list.append(feature)\n",
    "            outlist.append(output)\n",
    "            origfeatlist.append(orig_features)\n",
    "#             df = df.append({'img_id': image_ids,'proposals': proposal})\n",
    "#             print(proposal)\n",
    "            #     output = [o.to(cpu_device) for o in output]\n",
    "            results_dict.update(\n",
    "                {img_id: result for img_id, result in zip(image_ids, output)}\n",
    "            )\n",
    "    torch.cuda.empty_cache()\n"
   ]
  },
  {
   "cell_type": "code",
   "execution_count": 8,
   "metadata": {},
   "outputs": [
    {
     "name": "stdout",
     "output_type": "stream",
     "text": [
      "torch.Size([21, 4096])\n",
      "torch.Size([4096])\n",
      "torch.Size([11, 4096])\n",
      "torch.Size([21, 4096])\n",
      "torch.Size([4096])\n",
      "torch.Size([11, 4096])\n"
     ]
    }
   ],
   "source": [
    "print(feature_list[0].shape)\n",
    "print(feature_list[0][0].shape)\n",
    "print(feature_list[1].shape)\n",
    "\n",
    "print(origfeatlist[0].shape)\n",
    "print(origfeatlist[0][0].shape)\n",
    "print(origfeatlist[1].shape)\n",
    "\n"
   ]
  },
  {
   "cell_type": "code",
   "execution_count": 9,
   "metadata": {},
   "outputs": [
    {
     "name": "stdout",
     "output_type": "stream",
     "text": [
      "100\n",
      "21\n",
      "torch.Size([4096])\n",
      "torch.Size([4096])\n"
     ]
    }
   ],
   "source": [
    "# print(len(origfeatlist))\n",
    "# print(len(origfeatlist[0]))\n",
    "# print(origfeatlist[0][0].shape)\n",
    "# print(origfeatlist[0][1].shape)"
   ]
  },
  {
   "cell_type": "code",
   "execution_count": 10,
   "metadata": {},
   "outputs": [
    {
     "name": "stdout",
     "output_type": "stream",
     "text": [
      "100\n",
      "100\n",
      "100\n",
      "100\n"
     ]
    }
   ],
   "source": [
    "print(len(idslist))\n",
    "print(len(proplist))\n",
    "print(len(feature_list))\n",
    "print(len(outlist))"
   ]
  },
  {
   "cell_type": "code",
   "execution_count": 11,
   "metadata": {},
   "outputs": [
    {
     "data": {
      "text/plain": [
       "tensor([[0., 0., 0.,  ..., 0., 0., 0.],\n",
       "        [0., 0., 0.,  ..., 0., 0., 0.],\n",
       "        [0., 0., 0.,  ..., 0., 0., 0.],\n",
       "        ...,\n",
       "        [0., 0., 0.,  ..., 0., 0., 0.],\n",
       "        [0., 0., 0.,  ..., 0., 0., 0.],\n",
       "        [0., 0., 0.,  ..., 0., 0., 0.]], device='cuda:0')"
      ]
     },
     "execution_count": 11,
     "metadata": {},
     "output_type": "execute_result"
    }
   ],
   "source": [
    "feature_list[0]"
   ]
  },
  {
   "cell_type": "code",
   "execution_count": 34,
   "metadata": {},
   "outputs": [],
   "source": [
    "# print(outlist[0][0].size)\n",
    "# print(outlist[0][0].bbox.cpu().numpy())\n",
    "# [[y * 2 for y in x ] for x in outlist[0][0].bbox.cpu().numpy()]"
   ]
  },
  {
   "cell_type": "code",
   "execution_count": 17,
   "metadata": {},
   "outputs": [
    {
     "ename": "AttributeError",
     "evalue": "'list' object has no attribute 'get_field'",
     "output_type": "error",
     "traceback": [
      "\u001b[0;31m---------------------------------------------------------------------------\u001b[0m",
      "\u001b[0;31mAttributeError\u001b[0m                            Traceback (most recent call last)",
      "\u001b[0;32m<ipython-input-17-40476ba91e2b>\u001b[0m in \u001b[0;36m<module>\u001b[0;34m\u001b[0m\n\u001b[0;32m----> 1\u001b[0;31m \u001b[0mproplist\u001b[0m\u001b[0;34m[\u001b[0m\u001b[0;36m0\u001b[0m\u001b[0;34m]\u001b[0m\u001b[0;34m.\u001b[0m\u001b[0mget_field\u001b[0m\u001b[0;34m(\u001b[0m\u001b[0;34m'width'\u001b[0m\u001b[0;34m)\u001b[0m\u001b[0;34m\u001b[0m\u001b[0;34m\u001b[0m\u001b[0m\n\u001b[0m",
      "\u001b[0;31mAttributeError\u001b[0m: 'list' object has no attribute 'get_field'"
     ]
    }
   ],
   "source": [
    "proplist[0]"
   ]
  },
  {
   "cell_type": "code",
   "execution_count": 65,
   "metadata": {},
   "outputs": [
    {
     "name": "stdout",
     "output_type": "stream",
     "text": [
      "89.10719\n",
      "806.54193\n",
      "562.2655\n",
      "382.39548\n",
      "0.0\n",
      "511.0694\n",
      "493.24127\n",
      "238.73792\n",
      "587.8737\n",
      "129.71655\n",
      "11.530899\n",
      "825.43915\n",
      "531.6215\n",
      "185.00858\n",
      "226.66487\n",
      "463.1055\n",
      "728.99866\n",
      "470.52612\n",
      "42.549225\n",
      "140.65356\n",
      "566.14355\n"
     ]
    }
   ],
   "source": [
    "# img_info\n",
    "# outlist[0][0].bbox.cpu().numpy()\n",
    "for x1,y1, x2, y2 in outlist[0][0].bbox.cpu().numpy():\n",
    "    print(x1)"
   ]
  },
  {
   "cell_type": "code",
   "execution_count": 70,
   "metadata": {},
   "outputs": [],
   "source": [
    "# id_list= [x[0] for x in idslist]\n",
    "\n",
    "\n",
    "bblist = []\n",
    "orig_bblist = []\n",
    "scaled_bblist = []\n",
    "for info, output in zip(img_info, outlist):\n",
    "    bbox = output[0].bbox.cpu().numpy()\n",
    "    bblist.append(bbox)\n",
    "    widthi, heighti = output[0].size\n",
    "    width, height =  info[\"width\"],  info[\"height\"]\n",
    "    scale = width/widthi\n",
    "    orig_bbox = [[y * scale for y in x ] for x in bbox]\n",
    "    orig_bblist.append(orig_bbox)\n",
    "    scaled_bblist.append([np.array([x1/width, y1/height, x2/width, y2/height]) for x1,y1, x2, y2 in orig_bbox])\n"
   ]
  },
  {
   "cell_type": "code",
   "execution_count": 77,
   "metadata": {},
   "outputs": [
    {
     "data": {
      "text/plain": [
       "0.9965327265742304"
      ]
     },
     "execution_count": 77,
     "metadata": {},
     "output_type": "execute_result"
    }
   ],
   "source": [
    "# np.amax(np.array(scaled_bblist))\n",
    "# np.amax(np.array(scaled_bblist[0]))"
   ]
  },
  {
   "cell_type": "code",
   "execution_count": 45,
   "metadata": {},
   "outputs": [
    {
     "data": {
      "text/plain": [
       "[array([[0., 0., 0., ..., 0., 0., 0.],\n",
       "        [0., 0., 0., ..., 0., 0., 0.],\n",
       "        [0., 0., 0., ..., 0., 0., 0.],\n",
       "        ...,\n",
       "        [0., 0., 0., ..., 0., 0., 0.],\n",
       "        [0., 0., 0., ..., 0., 0., 0.],\n",
       "        [0., 0., 0., ..., 0., 0., 0.]], dtype=float32),\n",
       " array([[0.       , 0.       , 0.       , ..., 0.       , 0.5497424,\n",
       "         0.       ],\n",
       "        [0.       , 0.       , 0.       , ..., 0.       , 0.       ,\n",
       "         0.       ],\n",
       "        [0.       , 0.       , 0.       , ..., 0.       , 0.       ,\n",
       "         0.       ],\n",
       "        ...,\n",
       "        [0.       , 0.       , 0.       , ..., 0.       , 0.       ,\n",
       "         0.       ],\n",
       "        [0.       , 0.       , 0.       , ..., 0.       , 0.       ,\n",
       "         0.       ],\n",
       "        [0.       , 0.       , 0.       , ..., 0.       , 0.       ,\n",
       "         0.0877497]], dtype=float32),\n",
       " array([[0.        , 0.07557935, 0.        , ..., 0.        , 0.10220677,\n",
       "         0.        ],\n",
       "        [0.        , 0.        , 0.        , ..., 0.029308  , 0.        ,\n",
       "         0.        ],\n",
       "        [0.        , 0.        , 0.        , ..., 0.        , 0.        ,\n",
       "         0.        ],\n",
       "        ...,\n",
       "        [0.06825809, 0.        , 0.        , ..., 0.        , 0.4675721 ,\n",
       "         0.        ],\n",
       "        [0.        , 0.        , 0.        , ..., 0.        , 0.        ,\n",
       "         0.        ],\n",
       "        [0.        , 0.        , 0.        , ..., 0.        , 0.        ,\n",
       "         0.        ]], dtype=float32),\n",
       " array([[0.       , 0.       , 0.       , ..., 0.       , 0.5997324,\n",
       "         0.       ],\n",
       "        [0.       , 0.       , 0.       , ..., 0.       , 0.       ,\n",
       "         0.       ],\n",
       "        [0.       , 0.       , 0.       , ..., 0.       , 0.       ,\n",
       "         0.       ],\n",
       "        ...,\n",
       "        [0.       , 0.       , 0.       , ..., 0.       , 0.       ,\n",
       "         0.       ],\n",
       "        [0.       , 0.       , 0.       , ..., 0.       , 0.       ,\n",
       "         0.       ],\n",
       "        [0.       , 0.       , 0.       , ..., 0.       , 0.       ,\n",
       "         0.       ]], dtype=float32),\n",
       " array([[0.        , 0.        , 0.        , ..., 0.        , 0.        ,\n",
       "         0.        ],\n",
       "        [0.        , 0.        , 0.        , ..., 0.        , 0.        ,\n",
       "         0.        ],\n",
       "        [0.        , 0.        , 0.        , ..., 0.        , 0.        ,\n",
       "         0.        ],\n",
       "        ...,\n",
       "        [0.12680689, 0.        , 0.        , ..., 0.        , 0.        ,\n",
       "         0.        ],\n",
       "        [0.        , 0.        , 0.        , ..., 0.        , 1.2743063 ,\n",
       "         0.        ],\n",
       "        [0.        , 0.        , 0.        , ..., 0.        , 0.        ,\n",
       "         0.        ]], dtype=float32),\n",
       " array([[0.        , 0.        , 0.        , ..., 0.        , 0.5703752 ,\n",
       "         0.        ],\n",
       "        [0.        , 0.        , 0.        , ..., 0.06087637, 0.        ,\n",
       "         0.        ],\n",
       "        [0.        , 0.        , 0.3964339 , ..., 0.00220348, 0.        ,\n",
       "         0.        ],\n",
       "        ...,\n",
       "        [0.        , 0.        , 0.        , ..., 0.        , 0.        ,\n",
       "         0.        ],\n",
       "        [0.        , 0.        , 0.        , ..., 0.        , 0.10593827,\n",
       "         0.        ],\n",
       "        [0.        , 0.        , 0.        , ..., 0.        , 0.        ,\n",
       "         0.        ]], dtype=float32),\n",
       " array([[0.       , 0.       , 0.       , ..., 0.       , 0.       ,\n",
       "         0.       ],\n",
       "        [0.       , 0.       , 0.       , ..., 0.       , 0.7994936,\n",
       "         0.       ],\n",
       "        [0.       , 0.       , 0.       , ..., 0.       , 1.0418382,\n",
       "         0.       ],\n",
       "        ...,\n",
       "        [0.       , 0.       , 0.       , ..., 0.       , 0.       ,\n",
       "         0.       ],\n",
       "        [0.       , 0.       , 0.       , ..., 0.       , 0.       ,\n",
       "         0.       ],\n",
       "        [0.       , 0.       , 0.       , ..., 0.       , 0.       ,\n",
       "         0.       ]], dtype=float32),\n",
       " array([[0.0643877 , 0.        , 0.        , ..., 0.        , 0.        ,\n",
       "         0.        ],\n",
       "        [0.        , 0.        , 0.        , ..., 0.        , 0.9397208 ,\n",
       "         0.        ],\n",
       "        [0.        , 0.        , 0.        , ..., 0.        , 0.        ,\n",
       "         0.        ],\n",
       "        ...,\n",
       "        [0.        , 0.        , 0.        , ..., 0.        , 0.0250992 ,\n",
       "         0.        ],\n",
       "        [0.        , 0.        , 0.        , ..., 0.        , 0.        ,\n",
       "         0.        ],\n",
       "        [0.        , 0.        , 0.        , ..., 0.        , 0.08164962,\n",
       "         0.        ]], dtype=float32),\n",
       " array([[0.       , 0.       , 0.       , ..., 0.       , 0.8327706,\n",
       "         0.       ],\n",
       "        [0.       , 0.       , 0.       , ..., 0.       , 0.5859213,\n",
       "         0.       ],\n",
       "        [0.       , 0.       , 0.       , ..., 0.       , 0.6120893,\n",
       "         0.       ],\n",
       "        ...,\n",
       "        [0.       , 0.       , 0.       , ..., 0.8996386, 0.       ,\n",
       "         0.       ],\n",
       "        [0.       , 0.       , 0.       , ..., 0.       , 0.       ,\n",
       "         0.       ],\n",
       "        [0.       , 0.       , 0.       , ..., 0.       , 0.       ,\n",
       "         0.       ]], dtype=float32),\n",
       " array([[0.        , 0.        , 0.        , ..., 0.        , 0.05514991,\n",
       "         0.        ],\n",
       "        [0.        , 0.        , 0.        , ..., 0.        , 0.        ,\n",
       "         0.        ],\n",
       "        [0.        , 0.        , 0.        , ..., 0.        , 0.06836728,\n",
       "         0.        ],\n",
       "        ...,\n",
       "        [0.        , 0.        , 0.        , ..., 0.        , 0.        ,\n",
       "         0.        ],\n",
       "        [0.00416092, 0.        , 0.        , ..., 0.        , 0.03210416,\n",
       "         0.        ],\n",
       "        [0.        , 0.        , 0.        , ..., 0.        , 0.        ,\n",
       "         0.        ]], dtype=float32),\n",
       " array([[0.       , 0.       , 0.       , ..., 0.       , 0.7204499,\n",
       "         0.       ],\n",
       "        [0.       , 0.       , 0.       , ..., 0.       , 0.       ,\n",
       "         0.       ],\n",
       "        [0.       , 0.       , 0.       , ..., 0.       , 1.4966614,\n",
       "         0.       ],\n",
       "        ...,\n",
       "        [0.       , 0.       , 0.       , ..., 0.9734377, 0.       ,\n",
       "         0.       ],\n",
       "        [0.       , 0.       , 0.       , ..., 0.       , 0.       ,\n",
       "         0.       ],\n",
       "        [0.       , 0.       , 0.       , ..., 0.       , 1.4086372,\n",
       "         0.       ]], dtype=float32),\n",
       " array([[0.        , 0.        , 0.        , ..., 0.        , 0.        ,\n",
       "         0.        ],\n",
       "        [0.        , 0.        , 0.        , ..., 0.        , 0.0099588 ,\n",
       "         0.        ],\n",
       "        [0.        , 0.        , 0.        , ..., 0.        , 0.4444733 ,\n",
       "         0.        ],\n",
       "        ...,\n",
       "        [0.        , 0.        , 0.        , ..., 0.        , 0.        ,\n",
       "         0.        ],\n",
       "        [0.13216808, 0.        , 0.        , ..., 0.        , 0.        ,\n",
       "         0.        ],\n",
       "        [0.        , 0.        , 0.        , ..., 0.        , 0.        ,\n",
       "         0.        ]], dtype=float32),\n",
       " array([[0.        , 0.        , 0.        , ..., 0.        , 0.        ,\n",
       "         0.        ],\n",
       "        [0.0207937 , 0.        , 0.        , ..., 0.        , 0.        ,\n",
       "         0.        ],\n",
       "        [0.        , 0.00960056, 0.        , ..., 0.        , 0.        ,\n",
       "         0.        ],\n",
       "        ...,\n",
       "        [0.        , 0.        , 0.        , ..., 0.        , 0.        ,\n",
       "         0.        ],\n",
       "        [0.        , 0.        , 0.        , ..., 0.        , 0.        ,\n",
       "         0.        ],\n",
       "        [0.        , 0.        , 0.        , ..., 0.        , 0.34399754,\n",
       "         0.        ]], dtype=float32),\n",
       " array([[0.        , 0.        , 0.        , ..., 0.        , 0.        ,\n",
       "         0.        ],\n",
       "        [0.18622825, 0.        , 0.        , ..., 0.0715176 , 0.        ,\n",
       "         0.        ],\n",
       "        [0.        , 0.        , 0.        , ..., 0.        , 0.        ,\n",
       "         0.        ],\n",
       "        [0.        , 0.        , 0.        , ..., 0.        , 0.00575902,\n",
       "         0.        ],\n",
       "        [0.        , 0.        , 0.        , ..., 0.        , 0.        ,\n",
       "         0.        ],\n",
       "        [0.        , 0.        , 0.        , ..., 0.        , 0.        ,\n",
       "         0.        ]], dtype=float32),\n",
       " array([[0.        , 0.        , 0.        , ..., 0.        , 0.        ,\n",
       "         0.        ],\n",
       "        [0.        , 0.        , 0.        , ..., 0.        , 0.34109795,\n",
       "         0.        ],\n",
       "        [0.        , 0.        , 0.        , ..., 0.        , 0.        ,\n",
       "         0.        ],\n",
       "        ...,\n",
       "        [0.        , 0.        , 0.        , ..., 0.        , 0.        ,\n",
       "         0.        ],\n",
       "        [0.        , 0.        , 0.        , ..., 0.        , 0.15223049,\n",
       "         0.        ],\n",
       "        [0.        , 0.        , 0.        , ..., 0.        , 0.        ,\n",
       "         0.5367973 ]], dtype=float32),\n",
       " array([[0.        , 0.        , 0.        , ..., 0.        , 0.        ,\n",
       "         0.        ],\n",
       "        [0.01473499, 0.25699097, 0.        , ..., 0.        , 0.        ,\n",
       "         0.        ],\n",
       "        [0.        , 0.        , 0.        , ..., 0.        , 0.        ,\n",
       "         0.        ],\n",
       "        ...,\n",
       "        [0.        , 0.        , 0.        , ..., 0.        , 0.        ,\n",
       "         0.        ],\n",
       "        [0.07299601, 0.        , 0.        , ..., 0.        , 0.        ,\n",
       "         0.        ],\n",
       "        [0.        , 0.        , 0.        , ..., 0.        , 0.        ,\n",
       "         0.        ]], dtype=float32),\n",
       " array([[0.        , 0.02647119, 0.        , ..., 1.2530375 , 0.        ,\n",
       "         0.        ],\n",
       "        [0.        , 0.        , 0.        , ..., 0.7537907 , 0.        ,\n",
       "         0.        ],\n",
       "        [0.        , 0.        , 0.        , ..., 0.        , 0.        ,\n",
       "         0.        ],\n",
       "        [0.        , 0.        , 0.        , ..., 0.        , 0.        ,\n",
       "         0.        ],\n",
       "        [0.        , 0.        , 0.        , ..., 0.        , 0.        ,\n",
       "         0.        ],\n",
       "        [0.        , 0.        , 0.        , ..., 0.5443185 , 0.        ,\n",
       "         0.        ]], dtype=float32),\n",
       " array([[0.       , 0.       , 0.       , ..., 0.       , 0.       ,\n",
       "         0.       ],\n",
       "        [0.       , 0.       , 0.       , ..., 0.       , 0.       ,\n",
       "         0.       ],\n",
       "        [0.       , 0.       , 0.       , ..., 0.       , 0.       ,\n",
       "         0.       ],\n",
       "        ...,\n",
       "        [0.       , 0.       , 0.       , ..., 0.       , 0.2462925,\n",
       "         0.       ],\n",
       "        [0.       , 0.       , 0.       , ..., 0.       , 0.       ,\n",
       "         0.       ],\n",
       "        [0.       , 0.       , 0.       , ..., 0.       , 0.       ,\n",
       "         0.       ]], dtype=float32),\n",
       " array([[0.       , 0.       , 0.       , ..., 0.       , 1.1808388,\n",
       "         0.       ],\n",
       "        [0.       , 0.       , 0.       , ..., 0.       , 0.6214961,\n",
       "         0.       ],\n",
       "        [0.       , 0.       , 0.       , ..., 0.       , 0.       ,\n",
       "         0.       ],\n",
       "        ...,\n",
       "        [0.       , 0.       , 0.       , ..., 0.       , 0.       ,\n",
       "         0.       ],\n",
       "        [0.       , 0.       , 0.       , ..., 0.       , 0.184025 ,\n",
       "         0.       ],\n",
       "        [0.       , 0.       , 0.       , ..., 0.       , 0.6428819,\n",
       "         0.       ]], dtype=float32),\n",
       " array([[0.        , 0.        , 0.        , ..., 0.        , 0.        ,\n",
       "         0.        ],\n",
       "        [0.        , 0.        , 0.        , ..., 0.        , 0.        ,\n",
       "         0.        ],\n",
       "        [0.19215643, 0.07196385, 0.        , ..., 0.        , 0.        ,\n",
       "         0.        ],\n",
       "        ...,\n",
       "        [0.        , 0.        , 0.        , ..., 0.        , 0.02709289,\n",
       "         0.        ],\n",
       "        [0.        , 0.        , 0.        , ..., 0.        , 0.09132666,\n",
       "         0.        ],\n",
       "        [0.        , 0.        , 0.        , ..., 0.        , 0.52274096,\n",
       "         0.        ]], dtype=float32),\n",
       " array([[0.        , 0.        , 0.        , ..., 0.        , 0.24693306,\n",
       "         0.        ],\n",
       "        [0.        , 0.        , 0.        , ..., 0.        , 0.        ,\n",
       "         0.        ],\n",
       "        [0.        , 0.        , 0.        , ..., 0.        , 0.        ,\n",
       "         0.        ],\n",
       "        ...,\n",
       "        [0.        , 0.        , 0.        , ..., 0.        , 0.72847795,\n",
       "         0.        ],\n",
       "        [0.        , 0.        , 0.        , ..., 0.        , 0.        ,\n",
       "         0.        ],\n",
       "        [0.        , 0.        , 0.        , ..., 0.        , 0.        ,\n",
       "         0.        ]], dtype=float32),\n",
       " array([[0.        , 0.12627612, 0.03945298, ..., 0.        , 0.5847039 ,\n",
       "         0.        ],\n",
       "        [0.        , 0.        , 0.        , ..., 0.        , 0.        ,\n",
       "         0.        ],\n",
       "        [0.        , 0.        , 0.        , ..., 0.        , 0.        ,\n",
       "         0.        ],\n",
       "        ...,\n",
       "        [0.        , 0.        , 0.        , ..., 0.        , 0.        ,\n",
       "         0.        ],\n",
       "        [0.        , 0.        , 0.        , ..., 0.        , 0.        ,\n",
       "         0.        ],\n",
       "        [0.        , 0.        , 0.        , ..., 0.        , 0.        ,\n",
       "         0.        ]], dtype=float32),\n",
       " array([[0.        , 0.        , 0.        , ..., 0.        , 1.4731026 ,\n",
       "         0.        ],\n",
       "        [0.        , 0.        , 0.        , ..., 0.        , 0.        ,\n",
       "         0.        ],\n",
       "        [0.        , 0.        , 0.        , ..., 0.        , 0.510147  ,\n",
       "         0.        ],\n",
       "        ...,\n",
       "        [0.        , 0.        , 0.        , ..., 0.        , 0.        ,\n",
       "         0.        ],\n",
       "        [0.        , 0.        , 0.        , ..., 0.        , 0.        ,\n",
       "         0.        ],\n",
       "        [0.        , 0.00766659, 0.        , ..., 0.        , 0.8586588 ,\n",
       "         0.        ]], dtype=float32),\n",
       " array([[0.        , 0.        , 0.        , ..., 0.        , 0.        ,\n",
       "         0.        ],\n",
       "        [0.        , 0.        , 0.        , ..., 0.        , 0.03746893,\n",
       "         0.        ],\n",
       "        [0.        , 0.        , 0.        , ..., 0.776851  , 0.        ,\n",
       "         0.        ],\n",
       "        ...,\n",
       "        [0.6348915 , 0.        , 0.        , ..., 0.        , 0.        ,\n",
       "         0.        ],\n",
       "        [0.        , 0.        , 0.        , ..., 0.        , 0.        ,\n",
       "         0.        ],\n",
       "        [0.09913584, 0.        , 0.        , ..., 0.        , 0.        ,\n",
       "         0.        ]], dtype=float32),\n",
       " array([[0.        , 0.        , 0.        , ..., 0.        , 0.59367925,\n",
       "         0.        ],\n",
       "        [0.        , 0.        , 0.        , ..., 0.        , 0.5829534 ,\n",
       "         0.        ],\n",
       "        [0.        , 0.        , 0.        , ..., 0.        , 0.        ,\n",
       "         0.        ],\n",
       "        ...,\n",
       "        [0.        , 0.        , 0.        , ..., 0.        , 0.        ,\n",
       "         0.        ],\n",
       "        [0.        , 0.        , 0.        , ..., 0.        , 0.        ,\n",
       "         0.        ],\n",
       "        [0.        , 0.        , 0.        , ..., 0.        , 0.        ,\n",
       "         0.        ]], dtype=float32),\n",
       " array([[0.        , 0.        , 0.        , ..., 0.        , 0.        ,\n",
       "         0.        ],\n",
       "        [0.        , 0.        , 0.        , ..., 0.        , 0.        ,\n",
       "         0.        ],\n",
       "        [0.25740543, 0.        , 0.        , ..., 0.        , 0.        ,\n",
       "         0.        ],\n",
       "        ...,\n",
       "        [0.        , 0.        , 0.        , ..., 0.        , 0.        ,\n",
       "         0.        ],\n",
       "        [0.        , 0.00075975, 0.        , ..., 0.        , 0.        ,\n",
       "         0.        ],\n",
       "        [0.        , 0.        , 0.        , ..., 0.        , 0.00170321,\n",
       "         0.15590374]], dtype=float32),\n",
       " array([[0.        , 0.        , 0.        , ..., 0.        , 0.        ,\n",
       "         0.        ],\n",
       "        [0.        , 0.        , 0.        , ..., 0.        , 1.4031923 ,\n",
       "         0.        ],\n",
       "        [0.        , 0.        , 0.        , ..., 0.        , 1.0383731 ,\n",
       "         0.        ],\n",
       "        ...,\n",
       "        [0.        , 0.        , 0.        , ..., 0.        , 0.        ,\n",
       "         0.08385293],\n",
       "        [0.        , 0.        , 0.        , ..., 0.        , 0.        ,\n",
       "         0.        ],\n",
       "        [0.        , 0.        , 0.        , ..., 0.        , 0.        ,\n",
       "         0.26326442]], dtype=float32),\n",
       " array([[0.        , 0.        , 0.        , ..., 0.        , 0.        ,\n",
       "         0.        ],\n",
       "        [0.        , 0.        , 0.        , ..., 0.        , 0.        ,\n",
       "         0.        ],\n",
       "        [0.        , 0.        , 0.        , ..., 0.        , 1.1527381 ,\n",
       "         0.23127125],\n",
       "        ...,\n",
       "        [0.        , 0.        , 0.        , ..., 0.        , 1.1441969 ,\n",
       "         0.        ],\n",
       "        [0.        , 0.        , 0.        , ..., 0.        , 0.70997727,\n",
       "         0.        ],\n",
       "        [0.        , 0.        , 0.        , ..., 0.        , 0.3060789 ,\n",
       "         0.        ]], dtype=float32),\n",
       " array([[0.        , 0.        , 0.        , ..., 0.        , 0.        ,\n",
       "         0.        ],\n",
       "        [0.        , 0.        , 0.        , ..., 0.        , 0.        ,\n",
       "         0.        ],\n",
       "        [0.        , 0.        , 0.        , ..., 0.        , 0.        ,\n",
       "         0.        ],\n",
       "        ...,\n",
       "        [0.        , 0.        , 0.        , ..., 0.        , 0.74798363,\n",
       "         0.        ],\n",
       "        [0.        , 0.        , 0.        , ..., 0.        , 0.8007966 ,\n",
       "         0.        ],\n",
       "        [0.        , 0.        , 0.        , ..., 0.        , 0.        ,\n",
       "         0.        ]], dtype=float32),\n",
       " array([[0.        , 0.        , 0.        , ..., 0.        , 0.04446366,\n",
       "         0.        ],\n",
       "        [0.35900533, 0.        , 0.        , ..., 0.        , 0.        ,\n",
       "         0.        ],\n",
       "        [0.        , 0.        , 0.        , ..., 0.        , 0.2040349 ,\n",
       "         0.        ],\n",
       "        ...,\n",
       "        [0.        , 0.        , 0.        , ..., 0.        , 0.        ,\n",
       "         0.        ],\n",
       "        [0.        , 0.        , 0.        , ..., 0.        , 0.66884696,\n",
       "         0.        ],\n",
       "        [0.        , 0.        , 0.        , ..., 0.        , 0.        ,\n",
       "         0.        ]], dtype=float32),\n",
       " array([[0.        , 0.        , 0.        , ..., 0.13868864, 0.78697646,\n",
       "         0.        ],\n",
       "        [0.        , 0.        , 0.        , ..., 0.        , 0.        ,\n",
       "         0.        ],\n",
       "        [0.        , 0.        , 0.        , ..., 0.        , 0.6776443 ,\n",
       "         0.        ],\n",
       "        ...,\n",
       "        [0.        , 0.        , 0.        , ..., 0.        , 0.        ,\n",
       "         0.        ],\n",
       "        [0.        , 0.        , 0.        , ..., 0.        , 0.        ,\n",
       "         0.        ],\n",
       "        [0.        , 0.        , 0.        , ..., 0.        , 0.        ,\n",
       "         0.        ]], dtype=float32),\n",
       " array([[0.1926587 , 0.01059012, 0.        , ..., 0.        , 0.        ,\n",
       "         0.        ],\n",
       "        [0.        , 0.        , 0.        , ..., 0.        , 0.        ,\n",
       "         0.        ],\n",
       "        [0.03649884, 0.        , 0.        , ..., 0.        , 0.        ,\n",
       "         0.        ],\n",
       "        ...,\n",
       "        [0.        , 0.        , 0.        , ..., 0.        , 0.        ,\n",
       "         0.        ],\n",
       "        [0.        , 0.        , 0.        , ..., 0.        , 0.        ,\n",
       "         0.        ],\n",
       "        [0.        , 0.        , 0.        , ..., 0.        , 0.        ,\n",
       "         0.        ]], dtype=float32),\n",
       " array([[0.        , 0.        , 0.        , ..., 0.        , 0.        ,\n",
       "         0.        ],\n",
       "        [0.        , 0.        , 0.        , ..., 0.        , 0.        ,\n",
       "         0.23706086],\n",
       "        [0.2986148 , 0.01515015, 0.        , ..., 0.        , 0.        ,\n",
       "         0.        ],\n",
       "        ...,\n",
       "        [0.        , 0.        , 0.        , ..., 0.        , 0.        ,\n",
       "         0.        ],\n",
       "        [0.        , 0.13876362, 0.02873186, ..., 0.        , 0.7025442 ,\n",
       "         0.        ],\n",
       "        [0.        , 0.        , 0.        , ..., 0.        , 0.        ,\n",
       "         0.        ]], dtype=float32),\n",
       " array([[0.        , 0.        , 0.        , ..., 0.        , 0.        ,\n",
       "         0.        ],\n",
       "        [0.19028074, 0.00517256, 0.        , ..., 0.        , 0.22511116,\n",
       "         0.        ],\n",
       "        [0.        , 0.        , 0.        , ..., 0.        , 0.        ,\n",
       "         0.        ],\n",
       "        ...,\n",
       "        [0.        , 0.        , 0.        , ..., 0.        , 0.        ,\n",
       "         0.        ],\n",
       "        [0.        , 0.        , 0.        , ..., 0.793456  , 0.        ,\n",
       "         0.        ],\n",
       "        [0.        , 0.        , 0.        , ..., 0.        , 0.        ,\n",
       "         0.        ]], dtype=float32),\n",
       " array([[0.        , 0.        , 0.        , ..., 0.        , 0.        ,\n",
       "         0.        ],\n",
       "        [0.        , 0.        , 0.        , ..., 0.42030063, 0.34337354,\n",
       "         0.        ],\n",
       "        [0.        , 0.        , 0.        , ..., 0.        , 0.        ,\n",
       "         0.        ],\n",
       "        ...,\n",
       "        [0.        , 0.        , 0.        , ..., 0.        , 0.        ,\n",
       "         0.        ],\n",
       "        [0.        , 0.        , 0.        , ..., 0.        , 0.        ,\n",
       "         0.        ],\n",
       "        [0.        , 0.        , 0.        , ..., 0.        , 0.7851356 ,\n",
       "         0.        ]], dtype=float32),\n",
       " array([[0.       , 0.       , 0.       , ..., 0.       , 0.       ,\n",
       "         0.       ],\n",
       "        [0.       , 0.       , 0.       , ..., 0.       , 0.       ,\n",
       "         0.       ],\n",
       "        [0.       , 0.       , 0.       , ..., 0.       , 0.2750293,\n",
       "         0.       ],\n",
       "        ...,\n",
       "        [0.       , 0.       , 0.       , ..., 0.       , 0.       ,\n",
       "         0.       ],\n",
       "        [0.       , 0.       , 0.       , ..., 0.       , 0.       ,\n",
       "         0.       ],\n",
       "        [0.       , 0.       , 0.       , ..., 0.       , 0.       ,\n",
       "         0.       ]], dtype=float32),\n",
       " array([[0.        , 0.        , 0.        , ..., 0.05600871, 0.19879094,\n",
       "         0.        ],\n",
       "        [0.        , 0.        , 0.        , ..., 0.        , 0.        ,\n",
       "         0.        ],\n",
       "        [0.        , 0.        , 0.        , ..., 0.13650034, 0.15035827,\n",
       "         0.        ],\n",
       "        ...,\n",
       "        [0.        , 0.        , 0.        , ..., 0.        , 0.        ,\n",
       "         0.        ],\n",
       "        [0.        , 0.        , 0.        , ..., 0.        , 0.        ,\n",
       "         0.        ],\n",
       "        [0.        , 0.        , 0.        , ..., 0.        , 0.30743152,\n",
       "         0.        ]], dtype=float32),\n",
       " array([[0.        , 0.        , 0.        , ..., 0.        , 0.        ,\n",
       "         0.        ],\n",
       "        [0.        , 0.        , 0.        , ..., 0.        , 0.        ,\n",
       "         0.        ],\n",
       "        [0.        , 0.        , 0.        , ..., 0.15317659, 0.41270712,\n",
       "         0.        ],\n",
       "        ...,\n",
       "        [0.        , 0.        , 0.        , ..., 0.        , 0.6156492 ,\n",
       "         0.        ],\n",
       "        [0.        , 0.        , 0.        , ..., 0.        , 0.        ,\n",
       "         0.        ],\n",
       "        [0.        , 0.        , 0.        , ..., 1.143254  , 0.        ,\n",
       "         0.        ]], dtype=float32),\n",
       " array([[0.        , 0.        , 0.        , ..., 0.        , 0.        ,\n",
       "         0.        ],\n",
       "        [0.10605028, 0.        , 0.        , ..., 0.        , 0.        ,\n",
       "         0.        ],\n",
       "        [0.        , 0.        , 0.        , ..., 0.        , 0.55902815,\n",
       "         0.        ],\n",
       "        ...,\n",
       "        [0.        , 0.        , 0.        , ..., 0.        , 0.        ,\n",
       "         0.        ],\n",
       "        [0.        , 0.        , 0.        , ..., 0.        , 0.        ,\n",
       "         0.        ],\n",
       "        [0.        , 0.01728664, 0.        , ..., 0.        , 0.        ,\n",
       "         0.        ]], dtype=float32),\n",
       " array([[0.        , 0.        , 0.        , ..., 0.        , 0.18905865,\n",
       "         0.        ],\n",
       "        [0.        , 0.        , 0.        , ..., 0.        , 0.        ,\n",
       "         0.        ],\n",
       "        [0.        , 0.        , 0.        , ..., 0.        , 0.41585457,\n",
       "         0.        ],\n",
       "        ...,\n",
       "        [0.        , 0.        , 0.        , ..., 0.        , 0.        ,\n",
       "         0.        ],\n",
       "        [0.        , 0.18358143, 0.        , ..., 0.        , 0.72173214,\n",
       "         0.        ],\n",
       "        [0.        , 0.        , 0.        , ..., 0.        , 1.0768943 ,\n",
       "         0.        ]], dtype=float32),\n",
       " array([[0.       , 0.       , 0.       , ..., 0.       , 0.       ,\n",
       "         0.       ],\n",
       "        [0.       , 0.       , 0.       , ..., 0.       , 0.       ,\n",
       "         0.       ],\n",
       "        [0.       , 0.       , 0.       , ..., 0.       , 1.4533836,\n",
       "         0.       ],\n",
       "        ...,\n",
       "        [0.       , 0.       , 0.       , ..., 0.       , 0.       ,\n",
       "         0.       ],\n",
       "        [0.       , 0.       , 0.       , ..., 0.       , 0.       ,\n",
       "         0.       ],\n",
       "        [0.       , 0.       , 0.       , ..., 0.       , 0.       ,\n",
       "         0.       ]], dtype=float32),\n",
       " array([[0.        , 0.        , 0.        , ..., 0.        , 0.        ,\n",
       "         0.        ],\n",
       "        [0.        , 0.        , 0.        , ..., 0.        , 0.        ,\n",
       "         0.        ],\n",
       "        [0.4239676 , 0.        , 0.        , ..., 0.        , 0.        ,\n",
       "         0.01672514],\n",
       "        ...,\n",
       "        [0.        , 0.        , 0.        , ..., 0.        , 0.        ,\n",
       "         0.        ],\n",
       "        [0.        , 0.        , 0.        , ..., 0.        , 0.        ,\n",
       "         0.        ],\n",
       "        [0.        , 0.03572726, 0.        , ..., 0.        , 0.        ,\n",
       "         0.        ]], dtype=float32),\n",
       " array([[0.60980356, 0.        , 0.        , ..., 0.        , 0.        ,\n",
       "         0.        ],\n",
       "        [0.21066517, 0.        , 0.        , ..., 0.        , 0.        ,\n",
       "         0.04889982],\n",
       "        [0.        , 0.        , 0.        , ..., 0.        , 0.        ,\n",
       "         0.        ],\n",
       "        ...,\n",
       "        [0.        , 0.        , 0.        , ..., 0.        , 0.        ,\n",
       "         0.        ],\n",
       "        [0.        , 0.        , 0.        , ..., 0.        , 0.        ,\n",
       "         0.        ],\n",
       "        [0.        , 0.        , 0.        , ..., 0.        , 0.        ,\n",
       "         0.        ]], dtype=float32),\n",
       " array([[0.        , 0.        , 0.        , ..., 0.        , 0.42875606,\n",
       "         0.        ],\n",
       "        [0.        , 0.        , 0.        , ..., 0.        , 0.        ,\n",
       "         0.        ],\n",
       "        [0.28290418, 0.        , 0.        , ..., 0.        , 0.        ,\n",
       "         0.        ],\n",
       "        ...,\n",
       "        [0.        , 0.        , 0.        , ..., 0.        , 0.        ,\n",
       "         0.        ],\n",
       "        [0.        , 0.        , 0.        , ..., 0.        , 0.        ,\n",
       "         0.        ],\n",
       "        [0.        , 0.        , 0.        , ..., 0.        , 0.32069898,\n",
       "         0.        ]], dtype=float32),\n",
       " array([[0.        , 0.        , 0.        , ..., 0.7902207 , 0.00360391,\n",
       "         0.17711405],\n",
       "        [0.        , 0.        , 0.        , ..., 0.        , 0.        ,\n",
       "         0.        ],\n",
       "        [0.        , 0.        , 0.        , ..., 0.        , 0.        ,\n",
       "         0.        ],\n",
       "        ...,\n",
       "        [0.        , 0.        , 0.        , ..., 0.        , 0.7817259 ,\n",
       "         0.        ],\n",
       "        [0.        , 0.        , 0.        , ..., 0.        , 0.        ,\n",
       "         0.        ],\n",
       "        [0.        , 0.        , 0.        , ..., 0.        , 0.        ,\n",
       "         0.        ]], dtype=float32),\n",
       " array([[0.        , 0.        , 0.00777529, ..., 0.        , 0.20586327,\n",
       "         0.        ],\n",
       "        [0.        , 0.        , 0.        , ..., 0.        , 0.        ,\n",
       "         0.        ],\n",
       "        [0.        , 0.        , 0.        , ..., 0.        , 0.15860859,\n",
       "         0.        ],\n",
       "        ...,\n",
       "        [0.        , 0.        , 0.        , ..., 0.        , 0.48760515,\n",
       "         0.        ],\n",
       "        [0.        , 0.        , 0.        , ..., 0.        , 0.        ,\n",
       "         0.        ],\n",
       "        [0.        , 0.        , 0.        , ..., 0.        , 0.3892308 ,\n",
       "         0.        ]], dtype=float32),\n",
       " array([[0.        , 0.        , 0.        , ..., 0.49662045, 0.        ,\n",
       "         0.        ],\n",
       "        [0.        , 0.        , 0.        , ..., 0.        , 0.        ,\n",
       "         0.        ],\n",
       "        [0.        , 0.        , 0.        , ..., 0.        , 0.        ,\n",
       "         0.        ],\n",
       "        ...,\n",
       "        [0.        , 0.        , 0.        , ..., 0.        , 0.        ,\n",
       "         0.        ],\n",
       "        [0.        , 0.        , 0.        , ..., 0.        , 0.        ,\n",
       "         0.        ],\n",
       "        [0.        , 0.        , 0.        , ..., 0.        , 1.3780521 ,\n",
       "         0.        ]], dtype=float32),\n",
       " array([[0., 0., 0., ..., 0., 0., 0.],\n",
       "        [0., 0., 0., ..., 0., 0., 0.],\n",
       "        [0., 0., 0., ..., 0., 0., 0.],\n",
       "        ...,\n",
       "        [0., 0., 0., ..., 0., 0., 0.],\n",
       "        [0., 0., 0., ..., 0., 0., 0.],\n",
       "        [0., 0., 0., ..., 0., 0., 0.]], dtype=float32),\n",
       " array([[0.        , 0.        , 0.        , ..., 0.        , 0.39144948,\n",
       "         0.        ],\n",
       "        [0.06941783, 0.        , 0.        , ..., 0.        , 0.        ,\n",
       "         0.        ],\n",
       "        [0.        , 0.        , 0.        , ..., 0.        , 0.        ,\n",
       "         0.        ],\n",
       "        ...,\n",
       "        [0.        , 0.        , 0.        , ..., 0.        , 0.        ,\n",
       "         0.        ],\n",
       "        [0.        , 0.        , 0.        , ..., 0.        , 0.        ,\n",
       "         0.        ],\n",
       "        [0.        , 0.        , 0.        , ..., 0.        , 0.        ,\n",
       "         0.        ]], dtype=float32),\n",
       " array([[0.       , 0.       , 0.       , ..., 0.       , 0.       ,\n",
       "         0.       ],\n",
       "        [0.       , 0.       , 0.       , ..., 0.       , 0.       ,\n",
       "         0.       ],\n",
       "        [0.       , 0.       , 0.       , ..., 0.       , 0.       ,\n",
       "         0.       ],\n",
       "        ...,\n",
       "        [0.       , 0.       , 0.       , ..., 0.6159797, 0.       ,\n",
       "         0.       ],\n",
       "        [0.       , 0.       , 0.       , ..., 0.       , 0.       ,\n",
       "         0.       ],\n",
       "        [0.       , 0.       , 0.       , ..., 0.       , 0.       ,\n",
       "         0.       ]], dtype=float32),\n",
       " array([[0.56596506, 0.        , 0.        , ..., 0.        , 0.        ,\n",
       "         0.        ],\n",
       "        [0.        , 0.        , 0.        , ..., 0.        , 0.        ,\n",
       "         0.        ],\n",
       "        [0.        , 0.        , 0.        , ..., 0.        , 0.        ,\n",
       "         0.        ],\n",
       "        ...,\n",
       "        [0.        , 0.        , 0.        , ..., 0.        , 0.        ,\n",
       "         0.        ],\n",
       "        [0.        , 0.        , 0.        , ..., 0.        , 1.0990523 ,\n",
       "         0.        ],\n",
       "        [0.        , 0.        , 0.        , ..., 0.768423  , 0.        ,\n",
       "         0.        ]], dtype=float32),\n",
       " array([[0.        , 0.        , 0.        , ..., 0.        , 0.7174741 ,\n",
       "         0.        ],\n",
       "        [0.        , 0.        , 0.        , ..., 0.        , 0.        ,\n",
       "         0.        ],\n",
       "        [0.        , 0.        , 0.        , ..., 0.        , 0.        ,\n",
       "         0.        ],\n",
       "        ...,\n",
       "        [0.        , 0.        , 0.        , ..., 0.22386768, 0.        ,\n",
       "         0.        ],\n",
       "        [0.        , 0.        , 0.        , ..., 0.        , 0.        ,\n",
       "         0.        ],\n",
       "        [0.        , 0.01907985, 0.        , ..., 0.        , 0.        ,\n",
       "         0.        ]], dtype=float32),\n",
       " array([[0.        , 0.        , 0.        , ..., 0.        , 0.        ,\n",
       "         0.        ],\n",
       "        [0.        , 0.        , 0.        , ..., 0.        , 0.        ,\n",
       "         0.        ],\n",
       "        [0.        , 0.        , 0.        , ..., 0.        , 0.84781003,\n",
       "         0.        ],\n",
       "        ...,\n",
       "        [0.        , 0.        , 0.        , ..., 0.        , 0.3298989 ,\n",
       "         0.        ],\n",
       "        [0.        , 0.        , 0.        , ..., 0.        , 0.        ,\n",
       "         0.        ],\n",
       "        [0.        , 0.        , 0.        , ..., 0.        , 0.        ,\n",
       "         0.        ]], dtype=float32),\n",
       " array([[0.        , 0.46376875, 0.        , ..., 0.        , 0.43016303,\n",
       "         0.        ],\n",
       "        [0.01476517, 0.01938336, 0.        , ..., 0.        , 0.        ,\n",
       "         0.        ],\n",
       "        [0.        , 0.        , 0.        , ..., 0.        , 0.        ,\n",
       "         0.        ],\n",
       "        ...,\n",
       "        [0.20429268, 0.        , 0.        , ..., 0.        , 0.        ,\n",
       "         0.        ],\n",
       "        [0.        , 0.        , 0.        , ..., 0.        , 0.        ,\n",
       "         0.        ],\n",
       "        [0.01740152, 0.05756166, 0.        , ..., 0.        , 0.10437655,\n",
       "         0.        ]], dtype=float32),\n",
       " array([[0.        , 0.        , 0.        , ..., 0.        , 0.        ,\n",
       "         0.        ],\n",
       "        [0.        , 0.        , 0.        , ..., 0.        , 0.4191764 ,\n",
       "         0.        ],\n",
       "        [0.        , 0.        , 0.02850971, ..., 0.        , 0.26948726,\n",
       "         0.        ],\n",
       "        ...,\n",
       "        [0.        , 0.        , 0.        , ..., 0.        , 0.        ,\n",
       "         0.        ],\n",
       "        [0.        , 0.        , 0.        , ..., 0.        , 0.        ,\n",
       "         0.        ],\n",
       "        [0.        , 0.        , 0.        , ..., 0.        , 0.        ,\n",
       "         0.        ]], dtype=float32),\n",
       " array([[0.        , 0.        , 0.        , ..., 0.46791646, 0.        ,\n",
       "         0.        ],\n",
       "        [0.        , 0.        , 0.        , ..., 0.        , 0.08463009,\n",
       "         0.        ],\n",
       "        [0.        , 0.        , 0.        , ..., 0.        , 0.        ,\n",
       "         0.        ],\n",
       "        ...,\n",
       "        [0.        , 0.        , 0.        , ..., 0.        , 0.10207035,\n",
       "         0.        ],\n",
       "        [0.        , 0.        , 0.        , ..., 0.        , 0.        ,\n",
       "         0.        ],\n",
       "        [0.        , 0.        , 0.        , ..., 0.        , 0.        ,\n",
       "         0.        ]], dtype=float32),\n",
       " array([[0.        , 0.        , 0.        , ..., 0.        , 0.        ,\n",
       "         0.        ],\n",
       "        [0.        , 0.        , 0.        , ..., 0.        , 0.        ,\n",
       "         0.        ],\n",
       "        [0.        , 0.        , 0.        , ..., 0.        , 0.        ,\n",
       "         0.        ],\n",
       "        ...,\n",
       "        [0.        , 0.        , 0.        , ..., 0.        , 0.        ,\n",
       "         0.        ],\n",
       "        [0.        , 0.        , 0.        , ..., 0.        , 0.        ,\n",
       "         0.        ],\n",
       "        [0.        , 0.        , 0.        , ..., 0.        , 0.11149641,\n",
       "         0.        ]], dtype=float32),\n",
       " array([[0.        , 0.        , 0.        , ..., 0.        , 0.        ,\n",
       "         0.        ],\n",
       "        [0.09711965, 0.        , 0.        , ..., 0.        , 0.        ,\n",
       "         0.        ],\n",
       "        [0.        , 0.        , 0.        , ..., 0.        , 0.        ,\n",
       "         0.        ],\n",
       "        ...,\n",
       "        [0.        , 0.        , 0.        , ..., 0.        , 0.        ,\n",
       "         0.        ],\n",
       "        [0.        , 0.        , 0.        , ..., 0.        , 0.        ,\n",
       "         0.        ],\n",
       "        [0.        , 0.01536033, 0.        , ..., 0.10106477, 0.5511967 ,\n",
       "         0.        ]], dtype=float32),\n",
       " array([[0.        , 0.        , 0.        , ..., 0.        , 0.        ,\n",
       "         0.        ],\n",
       "        [0.8131085 , 0.        , 0.        , ..., 0.        , 0.        ,\n",
       "         0.        ],\n",
       "        [0.        , 0.        , 0.        , ..., 0.        , 0.        ,\n",
       "         0.        ],\n",
       "        ...,\n",
       "        [0.        , 0.        , 0.        , ..., 0.01411021, 0.        ,\n",
       "         0.        ],\n",
       "        [0.        , 0.        , 0.        , ..., 1.2168189 , 0.        ,\n",
       "         0.        ],\n",
       "        [0.        , 0.        , 0.        , ..., 0.        , 0.        ,\n",
       "         0.        ]], dtype=float32),\n",
       " array([[0.        , 0.        , 0.        , ..., 0.        , 0.        ,\n",
       "         0.        ],\n",
       "        [0.05977322, 0.        , 0.        , ..., 0.10662767, 0.12923986,\n",
       "         0.        ],\n",
       "        [0.        , 0.        , 0.41537818, ..., 0.6120562 , 0.        ,\n",
       "         0.        ],\n",
       "        ...,\n",
       "        [0.        , 0.        , 0.        , ..., 0.        , 0.63896763,\n",
       "         0.        ],\n",
       "        [0.        , 0.        , 0.        , ..., 0.        , 0.        ,\n",
       "         0.        ],\n",
       "        [0.        , 0.        , 0.        , ..., 0.        , 0.        ,\n",
       "         0.        ]], dtype=float32),\n",
       " array([[0.        , 0.        , 0.        , ..., 0.05431792, 0.8530704 ,\n",
       "         0.        ],\n",
       "        [0.        , 0.        , 0.        , ..., 0.        , 0.        ,\n",
       "         0.        ],\n",
       "        [0.        , 0.        , 0.        , ..., 0.        , 0.68860245,\n",
       "         0.        ],\n",
       "        ...,\n",
       "        [0.        , 0.        , 0.        , ..., 0.        , 0.7932351 ,\n",
       "         0.        ],\n",
       "        [0.        , 0.        , 0.        , ..., 0.        , 0.        ,\n",
       "         0.        ],\n",
       "        [0.        , 0.        , 0.        , ..., 0.        , 0.        ,\n",
       "         0.        ]], dtype=float32),\n",
       " array([[0.        , 0.        , 0.        , ..., 0.        , 0.        ,\n",
       "         0.        ],\n",
       "        [0.        , 0.        , 0.        , ..., 0.07104292, 0.4906568 ,\n",
       "         0.        ],\n",
       "        [0.        , 0.        , 0.        , ..., 0.        , 0.        ,\n",
       "         0.        ],\n",
       "        ...,\n",
       "        [0.        , 0.        , 0.        , ..., 0.        , 0.        ,\n",
       "         0.        ],\n",
       "        [0.        , 0.        , 0.        , ..., 0.        , 0.        ,\n",
       "         0.        ],\n",
       "        [0.        , 0.        , 0.        , ..., 0.        , 0.21308057,\n",
       "         0.        ]], dtype=float32),\n",
       " array([[0.        , 0.        , 0.        , ..., 0.        , 0.        ,\n",
       "         0.02129154],\n",
       "        [0.        , 0.        , 0.        , ..., 0.3339586 , 0.3894493 ,\n",
       "         0.        ],\n",
       "        [0.        , 0.        , 0.        , ..., 0.        , 0.14302137,\n",
       "         0.        ],\n",
       "        ...,\n",
       "        [0.        , 0.        , 0.        , ..., 0.        , 0.        ,\n",
       "         0.        ],\n",
       "        [0.        , 0.        , 0.        , ..., 0.        , 0.        ,\n",
       "         0.        ],\n",
       "        [0.        , 0.        , 0.        , ..., 0.        , 0.        ,\n",
       "         0.        ]], dtype=float32),\n",
       " array([[0.        , 0.        , 0.        , ..., 0.        , 0.        ,\n",
       "         0.        ],\n",
       "        [0.        , 0.        , 0.        , ..., 0.        , 0.        ,\n",
       "         0.        ],\n",
       "        [0.        , 0.        , 0.        , ..., 0.        , 0.        ,\n",
       "         0.        ],\n",
       "        ...,\n",
       "        [0.        , 0.        , 0.        , ..., 0.        , 0.        ,\n",
       "         0.        ],\n",
       "        [0.        , 0.        , 0.        , ..., 0.        , 0.        ,\n",
       "         0.        ],\n",
       "        [0.        , 0.        , 0.        , ..., 0.        , 0.        ,\n",
       "         0.16646841]], dtype=float32),\n",
       " array([[0.        , 0.        , 0.        , ..., 0.        , 0.        ,\n",
       "         0.        ],\n",
       "        [0.        , 0.        , 0.        , ..., 0.        , 0.        ,\n",
       "         0.        ],\n",
       "        [0.        , 0.        , 0.        , ..., 0.        , 0.        ,\n",
       "         0.        ],\n",
       "        ...,\n",
       "        [0.        , 0.        , 0.        , ..., 0.        , 0.26064852,\n",
       "         0.        ],\n",
       "        [0.        , 0.        , 0.        , ..., 0.        , 0.        ,\n",
       "         0.        ],\n",
       "        [0.        , 0.        , 0.        , ..., 0.        , 0.        ,\n",
       "         0.        ]], dtype=float32),\n",
       " array([[0.       , 0.       , 0.       , ..., 0.       , 0.       ,\n",
       "         0.       ],\n",
       "        [0.       , 0.       , 0.       , ..., 0.       , 0.3183522,\n",
       "         0.       ],\n",
       "        [0.       , 0.       , 0.       , ..., 0.       , 0.       ,\n",
       "         0.       ],\n",
       "        ...,\n",
       "        [0.       , 0.       , 0.       , ..., 0.       , 0.       ,\n",
       "         0.       ],\n",
       "        [0.       , 0.       , 0.       , ..., 0.       , 0.       ,\n",
       "         0.       ],\n",
       "        [0.       , 0.       , 0.       , ..., 0.       , 0.       ,\n",
       "         0.       ]], dtype=float32),\n",
       " array([[0.        , 0.        , 0.        , ..., 0.        , 0.        ,\n",
       "         0.        ],\n",
       "        [0.        , 0.        , 0.        , ..., 0.        , 0.        ,\n",
       "         0.        ],\n",
       "        [0.        , 0.        , 0.        , ..., 0.        , 0.        ,\n",
       "         0.        ],\n",
       "        ...,\n",
       "        [0.39939398, 0.        , 0.        , ..., 0.        , 0.        ,\n",
       "         0.        ],\n",
       "        [0.        , 0.        , 0.        , ..., 0.        , 0.        ,\n",
       "         0.        ],\n",
       "        [0.        , 0.        , 0.        , ..., 0.        , 0.        ,\n",
       "         0.        ]], dtype=float32),\n",
       " array([[0.       , 0.       , 0.       , ..., 0.5501879, 0.       ,\n",
       "         0.       ],\n",
       "        [0.       , 0.       , 0.       , ..., 0.       , 0.       ,\n",
       "         0.       ],\n",
       "        [0.       , 0.       , 0.       , ..., 0.       , 0.       ,\n",
       "         0.       ],\n",
       "        ...,\n",
       "        [0.       , 0.       , 0.       , ..., 0.       , 0.       ,\n",
       "         0.       ],\n",
       "        [0.       , 0.       , 0.       , ..., 0.       , 0.       ,\n",
       "         0.       ],\n",
       "        [0.       , 0.       , 0.       , ..., 0.       , 0.       ,\n",
       "         0.       ]], dtype=float32),\n",
       " array([[0.        , 0.02220203, 0.        , ..., 0.        , 0.        ,\n",
       "         0.        ],\n",
       "        [0.        , 0.        , 0.        , ..., 0.        , 0.        ,\n",
       "         0.        ],\n",
       "        [0.        , 0.        , 0.        , ..., 0.        , 0.        ,\n",
       "         0.        ],\n",
       "        ...,\n",
       "        [0.        , 0.        , 0.        , ..., 0.        , 0.        ,\n",
       "         0.        ],\n",
       "        [0.        , 0.        , 0.        , ..., 0.        , 0.        ,\n",
       "         0.        ],\n",
       "        [0.        , 0.        , 0.        , ..., 0.        , 0.        ,\n",
       "         0.        ]], dtype=float32),\n",
       " array([[0.30945855, 0.13687035, 0.        , ..., 0.        , 0.3876989 ,\n",
       "         0.        ],\n",
       "        [0.        , 0.        , 0.        , ..., 0.        , 0.        ,\n",
       "         0.        ],\n",
       "        [0.        , 0.03672193, 0.        , ..., 0.        , 0.42006442,\n",
       "         0.        ],\n",
       "        ...,\n",
       "        [0.        , 0.        , 0.        , ..., 0.        , 0.04653157,\n",
       "         0.        ],\n",
       "        [0.        , 0.        , 0.        , ..., 0.        , 0.        ,\n",
       "         0.        ],\n",
       "        [0.        , 0.128806  , 0.        , ..., 0.        , 0.        ,\n",
       "         0.        ]], dtype=float32),\n",
       " array([[0.       , 0.       , 0.       , ..., 0.       , 0.       ,\n",
       "         0.       ],\n",
       "        [0.       , 0.       , 0.       , ..., 0.       , 0.       ,\n",
       "         0.       ],\n",
       "        [0.       , 0.       , 0.       , ..., 0.       , 0.       ,\n",
       "         0.       ],\n",
       "        ...,\n",
       "        [0.       , 0.       , 0.       , ..., 0.       , 0.       ,\n",
       "         0.       ],\n",
       "        [0.       , 0.       , 0.       , ..., 0.       , 0.       ,\n",
       "         0.1022274],\n",
       "        [0.       , 0.       , 0.       , ..., 0.       , 0.       ,\n",
       "         0.       ]], dtype=float32),\n",
       " array([[0.00131156, 0.        , 0.        , ..., 0.        , 0.08985671,\n",
       "         0.        ],\n",
       "        [0.        , 0.        , 0.        , ..., 0.        , 0.        ,\n",
       "         0.        ],\n",
       "        [0.        , 0.        , 0.        , ..., 0.        , 0.17254473,\n",
       "         0.        ],\n",
       "        ...,\n",
       "        [0.        , 0.        , 0.        , ..., 0.4832082 , 0.        ,\n",
       "         0.        ],\n",
       "        [0.        , 0.        , 0.        , ..., 0.        , 0.        ,\n",
       "         0.        ],\n",
       "        [0.        , 0.        , 0.        , ..., 0.        , 0.        ,\n",
       "         0.        ]], dtype=float32),\n",
       " array([[0.        , 0.        , 0.        , ..., 0.        , 0.16050604,\n",
       "         0.        ],\n",
       "        [0.        , 0.        , 0.        , ..., 0.        , 0.03799306,\n",
       "         0.        ],\n",
       "        [0.5585956 , 0.19364014, 0.        , ..., 0.        , 0.        ,\n",
       "         0.        ],\n",
       "        ...,\n",
       "        [0.        , 0.        , 0.        , ..., 0.        , 0.        ,\n",
       "         0.        ],\n",
       "        [0.        , 0.        , 0.        , ..., 0.        , 0.        ,\n",
       "         0.        ],\n",
       "        [0.        , 0.        , 0.        , ..., 0.        , 0.        ,\n",
       "         0.        ]], dtype=float32),\n",
       " array([[0.        , 0.        , 0.        , ..., 0.        , 0.06482475,\n",
       "         0.        ],\n",
       "        [0.        , 0.        , 0.        , ..., 0.        , 0.        ,\n",
       "         0.        ],\n",
       "        [0.        , 0.        , 0.        , ..., 0.        , 0.0489592 ,\n",
       "         0.        ],\n",
       "        ...,\n",
       "        [0.        , 0.        , 0.        , ..., 0.        , 0.        ,\n",
       "         0.        ],\n",
       "        [0.        , 0.        , 0.        , ..., 0.        , 0.        ,\n",
       "         0.        ],\n",
       "        [0.        , 0.        , 0.        , ..., 0.        , 0.27312863,\n",
       "         0.        ]], dtype=float32),\n",
       " array([[0.        , 0.        , 0.        , ..., 0.        , 0.11149326,\n",
       "         0.        ],\n",
       "        [0.14297268, 0.        , 0.        , ..., 0.        , 0.        ,\n",
       "         0.        ],\n",
       "        [0.        , 0.        , 0.        , ..., 0.        , 0.        ,\n",
       "         0.        ],\n",
       "        ...,\n",
       "        [0.22674236, 0.        , 0.        , ..., 0.        , 0.        ,\n",
       "         0.        ],\n",
       "        [0.        , 0.        , 0.        , ..., 0.        , 0.        ,\n",
       "         0.        ],\n",
       "        [0.        , 0.        , 0.        , ..., 0.        , 0.        ,\n",
       "         0.        ]], dtype=float32),\n",
       " array([[0.        , 0.        , 0.        , ..., 0.        , 0.        ,\n",
       "         0.        ],\n",
       "        [0.        , 0.        , 0.        , ..., 0.        , 0.        ,\n",
       "         0.        ],\n",
       "        [0.        , 0.        , 0.        , ..., 0.        , 0.        ,\n",
       "         0.        ],\n",
       "        ...,\n",
       "        [0.        , 0.        , 0.        , ..., 0.        , 0.        ,\n",
       "         0.        ],\n",
       "        [0.        , 0.        , 0.        , ..., 0.        , 0.27441877,\n",
       "         0.        ],\n",
       "        [0.        , 0.        , 0.        , ..., 0.        , 0.        ,\n",
       "         0.        ]], dtype=float32),\n",
       " array([[0.        , 0.        , 0.        , ..., 0.        , 0.        ,\n",
       "         0.        ],\n",
       "        [0.        , 0.        , 0.        , ..., 0.93885064, 0.        ,\n",
       "         0.        ],\n",
       "        [0.        , 0.        , 0.        , ..., 0.        , 0.        ,\n",
       "         0.        ],\n",
       "        ...,\n",
       "        [0.        , 0.        , 0.        , ..., 0.        , 0.        ,\n",
       "         0.20269252],\n",
       "        [0.        , 0.        , 0.        , ..., 1.6598464 , 0.        ,\n",
       "         0.        ],\n",
       "        [0.        , 0.        , 0.        , ..., 0.        , 0.        ,\n",
       "         0.        ]], dtype=float32),\n",
       " array([[0.        , 0.        , 0.        , ..., 0.        , 0.        ,\n",
       "         0.        ],\n",
       "        [0.        , 0.        , 0.        , ..., 0.        , 0.        ,\n",
       "         0.        ],\n",
       "        [1.1149988 , 0.        , 0.        , ..., 0.        , 0.        ,\n",
       "         0.        ],\n",
       "        ...,\n",
       "        [0.        , 0.        , 0.        , ..., 0.        , 0.        ,\n",
       "         0.        ],\n",
       "        [0.        , 0.        , 0.        , ..., 0.        , 0.1779831 ,\n",
       "         0.        ],\n",
       "        [0.        , 0.        , 0.        , ..., 0.        , 0.29824513,\n",
       "         0.        ]], dtype=float32),\n",
       " array([[0.        , 0.        , 0.        , ..., 0.        , 0.        ,\n",
       "         0.        ],\n",
       "        [0.        , 0.        , 0.        , ..., 0.03295404, 0.1709862 ,\n",
       "         0.        ],\n",
       "        [0.        , 0.        , 0.        , ..., 0.        , 0.        ,\n",
       "         0.        ],\n",
       "        ...,\n",
       "        [0.        , 0.        , 0.        , ..., 0.        , 0.        ,\n",
       "         0.        ],\n",
       "        [0.        , 0.        , 0.        , ..., 0.        , 0.        ,\n",
       "         0.        ],\n",
       "        [0.39060178, 0.        , 0.        , ..., 0.        , 0.        ,\n",
       "         0.        ]], dtype=float32),\n",
       " array([[0.        , 0.        , 0.        , ..., 0.        , 0.        ,\n",
       "         0.        ],\n",
       "        [0.        , 0.        , 0.        , ..., 0.        , 0.        ,\n",
       "         0.        ],\n",
       "        [0.        , 0.        , 0.        , ..., 0.        , 0.        ,\n",
       "         0.        ],\n",
       "        ...,\n",
       "        [0.        , 0.04868567, 0.        , ..., 0.        , 0.4985395 ,\n",
       "         0.        ],\n",
       "        [0.        , 0.        , 0.        , ..., 0.        , 0.        ,\n",
       "         0.        ],\n",
       "        [0.        , 0.        , 0.        , ..., 0.        , 0.540229  ,\n",
       "         0.        ]], dtype=float32),\n",
       " array([[0.16495019, 0.        , 0.        , ..., 0.        , 0.        ,\n",
       "         0.        ],\n",
       "        [0.        , 0.        , 0.        , ..., 0.        , 0.        ,\n",
       "         0.        ],\n",
       "        [0.01705363, 0.        , 0.        , ..., 0.        , 0.06012007,\n",
       "         0.        ],\n",
       "        ...,\n",
       "        [0.        , 0.        , 0.        , ..., 0.6307584 , 0.        ,\n",
       "         0.        ],\n",
       "        [0.        , 0.        , 0.        , ..., 0.        , 0.        ,\n",
       "         0.        ],\n",
       "        [0.        , 0.        , 0.        , ..., 0.        , 0.        ,\n",
       "         0.        ]], dtype=float32),\n",
       " array([[0.        , 0.        , 0.        , ..., 0.        , 0.        ,\n",
       "         0.        ],\n",
       "        [0.8248931 , 0.        , 0.        , ..., 0.        , 0.        ,\n",
       "         0.        ],\n",
       "        [0.        , 0.        , 0.        , ..., 1.502937  , 0.        ,\n",
       "         0.        ],\n",
       "        ...,\n",
       "        [0.        , 0.        , 0.        , ..., 0.        , 0.05767397,\n",
       "         0.        ],\n",
       "        [0.        , 0.        , 0.        , ..., 0.        , 0.        ,\n",
       "         0.        ],\n",
       "        [0.        , 0.        , 0.01141741, ..., 0.        , 0.        ,\n",
       "         0.3332135 ]], dtype=float32),\n",
       " array([[0.        , 0.05109677, 0.        , ..., 0.        , 0.33030057,\n",
       "         0.        ],\n",
       "        [0.        , 0.        , 0.        , ..., 0.        , 0.29466313,\n",
       "         0.        ],\n",
       "        [0.        , 0.        , 0.        , ..., 0.        , 0.        ,\n",
       "         0.        ],\n",
       "        ...,\n",
       "        [0.        , 0.        , 0.        , ..., 0.        , 0.445551  ,\n",
       "         0.        ],\n",
       "        [0.        , 0.        , 0.        , ..., 0.        , 0.        ,\n",
       "         0.        ],\n",
       "        [0.        , 0.        , 0.        , ..., 0.        , 0.        ,\n",
       "         0.        ]], dtype=float32),\n",
       " array([[0.        , 0.        , 0.        , ..., 0.        , 1.437726  ,\n",
       "         0.        ],\n",
       "        [0.        , 0.        , 0.        , ..., 0.        , 0.        ,\n",
       "         0.        ],\n",
       "        [0.        , 0.        , 0.        , ..., 0.        , 0.        ,\n",
       "         0.        ],\n",
       "        ...,\n",
       "        [0.        , 0.        , 0.        , ..., 0.        , 0.14563373,\n",
       "         0.        ],\n",
       "        [0.        , 0.        , 0.        , ..., 0.        , 0.        ,\n",
       "         0.        ],\n",
       "        [0.08418594, 0.        , 0.        , ..., 0.        , 0.        ,\n",
       "         0.        ]], dtype=float32),\n",
       " array([[0.7894114 , 0.        , 0.        , ..., 0.        , 0.        ,\n",
       "         0.        ],\n",
       "        [0.37009066, 0.        , 0.        , ..., 0.        , 0.        ,\n",
       "         0.        ],\n",
       "        [0.40481558, 0.        , 0.        , ..., 0.        , 0.        ,\n",
       "         0.        ],\n",
       "        ...,\n",
       "        [0.        , 0.        , 0.        , ..., 0.        , 0.        ,\n",
       "         0.        ],\n",
       "        [0.        , 0.        , 0.        , ..., 0.        , 0.        ,\n",
       "         0.        ],\n",
       "        [0.        , 0.        , 0.        , ..., 0.        , 0.        ,\n",
       "         0.        ]], dtype=float32),\n",
       " array([[0.        , 0.        , 0.        , ..., 0.        , 0.08027227,\n",
       "         0.        ],\n",
       "        [0.        , 0.        , 0.        , ..., 0.        , 0.04544555,\n",
       "         0.        ],\n",
       "        [0.        , 0.        , 0.        , ..., 0.        , 0.        ,\n",
       "         0.295947  ],\n",
       "        ...,\n",
       "        [0.        , 0.        , 0.        , ..., 0.        , 0.12124813,\n",
       "         0.        ],\n",
       "        [0.        , 0.        , 0.        , ..., 0.        , 0.        ,\n",
       "         0.2883273 ],\n",
       "        [0.        , 0.        , 0.        , ..., 0.        , 0.        ,\n",
       "         0.        ]], dtype=float32),\n",
       " array([[0.        , 0.        , 0.        , ..., 0.        , 0.        ,\n",
       "         0.        ],\n",
       "        [0.        , 0.        , 0.        , ..., 0.        , 0.        ,\n",
       "         0.        ],\n",
       "        [0.04333962, 0.        , 0.        , ..., 0.        , 0.        ,\n",
       "         0.        ],\n",
       "        ...,\n",
       "        [0.        , 0.        , 0.        , ..., 0.        , 0.        ,\n",
       "         0.        ],\n",
       "        [0.        , 0.        , 0.        , ..., 0.        , 0.3449821 ,\n",
       "         0.        ],\n",
       "        [0.29865873, 0.        , 0.        , ..., 0.        , 0.        ,\n",
       "         0.        ]], dtype=float32),\n",
       " array([[0.       , 0.       , 0.       , ..., 0.       , 0.       ,\n",
       "         0.       ],\n",
       "        [0.1194722, 0.       , 0.       , ..., 0.       , 0.       ,\n",
       "         0.       ],\n",
       "        [0.       , 0.       , 0.       , ..., 0.       , 0.       ,\n",
       "         0.       ],\n",
       "        ...,\n",
       "        [0.       , 0.       , 0.       , ..., 0.       , 0.       ,\n",
       "         0.       ],\n",
       "        [0.       , 0.       , 0.       , ..., 0.       , 0.       ,\n",
       "         0.       ],\n",
       "        [0.       , 0.       , 0.       , ..., 0.       , 0.       ,\n",
       "         0.       ]], dtype=float32),\n",
       " array([[0.        , 0.        , 0.        , ..., 0.5261782 , 0.        ,\n",
       "         0.        ],\n",
       "        [0.        , 0.        , 0.        , ..., 0.        , 0.        ,\n",
       "         0.        ],\n",
       "        [0.        , 0.        , 0.        , ..., 0.        , 0.        ,\n",
       "         0.        ],\n",
       "        ...,\n",
       "        [0.        , 0.        , 0.        , ..., 0.08205712, 0.        ,\n",
       "         0.        ],\n",
       "        [0.        , 0.        , 0.        , ..., 0.        , 0.        ,\n",
       "         0.        ],\n",
       "        [0.        , 0.        , 0.        , ..., 0.        , 0.        ,\n",
       "         0.        ]], dtype=float32),\n",
       " array([[0.01351602, 0.        , 0.        , ..., 0.        , 0.        ,\n",
       "         0.        ],\n",
       "        [0.69255316, 0.        , 0.        , ..., 0.        , 0.        ,\n",
       "         0.        ],\n",
       "        [0.        , 0.04196712, 0.        , ..., 0.        , 0.        ,\n",
       "         0.        ],\n",
       "        ...,\n",
       "        [0.        , 0.        , 0.        , ..., 0.0556014 , 0.        ,\n",
       "         0.        ],\n",
       "        [0.        , 0.        , 0.        , ..., 0.        , 0.        ,\n",
       "         0.        ],\n",
       "        [0.        , 0.        , 0.        , ..., 0.        , 0.        ,\n",
       "         0.        ]], dtype=float32),\n",
       " array([[0.        , 0.01622906, 0.        , ..., 0.        , 0.20468622,\n",
       "         0.        ],\n",
       "        [0.        , 0.        , 0.        , ..., 0.        , 0.        ,\n",
       "         0.        ],\n",
       "        [0.        , 0.        , 0.        , ..., 0.        , 0.41758317,\n",
       "         0.        ],\n",
       "        ...,\n",
       "        [0.        , 0.        , 0.        , ..., 0.        , 0.18874046,\n",
       "         0.        ],\n",
       "        [0.        , 0.        , 0.        , ..., 0.        , 0.4311228 ,\n",
       "         0.        ],\n",
       "        [0.        , 0.        , 0.        , ..., 0.        , 0.        ,\n",
       "         0.        ]], dtype=float32),\n",
       " array([[0.        , 0.        , 0.        , ..., 0.        , 0.        ,\n",
       "         0.        ],\n",
       "        [0.        , 0.        , 0.        , ..., 0.        , 0.30265856,\n",
       "         0.        ],\n",
       "        [0.        , 0.        , 0.        , ..., 0.        , 0.        ,\n",
       "         0.        ],\n",
       "        ...,\n",
       "        [0.        , 0.        , 0.        , ..., 0.        , 0.        ,\n",
       "         0.        ],\n",
       "        [0.        , 0.        , 0.        , ..., 0.        , 0.42548192,\n",
       "         0.        ],\n",
       "        [0.        , 0.        , 0.        , ..., 0.        , 0.        ,\n",
       "         0.        ]], dtype=float32),\n",
       " array([[0.        , 0.        , 0.        , ..., 0.        , 0.        ,\n",
       "         0.        ],\n",
       "        [0.        , 0.        , 0.        , ..., 0.        , 0.15248974,\n",
       "         0.        ],\n",
       "        [0.        , 0.        , 0.        , ..., 0.        , 0.        ,\n",
       "         0.        ],\n",
       "        ...,\n",
       "        [0.        , 0.        , 0.        , ..., 0.        , 0.        ,\n",
       "         0.        ],\n",
       "        [0.        , 0.        , 0.        , ..., 0.        , 1.0201035 ,\n",
       "         0.28799894],\n",
       "        [0.        , 0.        , 0.        , ..., 0.        , 0.        ,\n",
       "         0.        ]], dtype=float32),\n",
       " array([[0.        , 0.        , 0.        , ..., 0.45081335, 0.        ,\n",
       "         0.        ],\n",
       "        [0.        , 0.0753374 , 0.        , ..., 0.        , 0.10599194,\n",
       "         0.        ],\n",
       "        [0.        , 0.        , 0.        , ..., 0.        , 0.        ,\n",
       "         0.        ],\n",
       "        ...,\n",
       "        [0.44001126, 0.        , 0.        , ..., 0.        , 0.        ,\n",
       "         0.        ],\n",
       "        [0.        , 0.        , 0.        , ..., 0.526777  , 0.2970057 ,\n",
       "         0.        ],\n",
       "        [0.        , 0.        , 0.        , ..., 0.        , 0.        ,\n",
       "         0.        ]], dtype=float32),\n",
       " array([[0.        , 0.        , 0.        , ..., 0.        , 0.54526156,\n",
       "         0.        ],\n",
       "        [0.        , 0.        , 0.        , ..., 0.        , 0.        ,\n",
       "         0.        ],\n",
       "        [0.        , 0.        , 0.        , ..., 0.        , 0.        ,\n",
       "         0.        ],\n",
       "        ...,\n",
       "        [0.        , 0.        , 0.        , ..., 0.        , 0.06509164,\n",
       "         0.        ],\n",
       "        [0.        , 0.        , 0.        , ..., 0.        , 0.43427902,\n",
       "         0.        ],\n",
       "        [0.2825237 , 0.        , 0.        , ..., 0.        , 0.        ,\n",
       "         0.        ]], dtype=float32),\n",
       " array([[0.        , 0.        , 0.        , ..., 0.        , 0.40406471,\n",
       "         0.        ],\n",
       "        [0.        , 0.        , 0.        , ..., 0.        , 0.        ,\n",
       "         0.        ],\n",
       "        [0.        , 0.        , 0.        , ..., 0.        , 0.        ,\n",
       "         0.        ],\n",
       "        ...,\n",
       "        [0.        , 0.        , 0.        , ..., 0.        , 0.        ,\n",
       "         0.        ],\n",
       "        [0.        , 0.        , 0.        , ..., 0.        , 0.        ,\n",
       "         0.        ],\n",
       "        [0.        , 0.        , 0.        , ..., 0.        , 0.        ,\n",
       "         0.        ]], dtype=float32),\n",
       " array([[0.        , 0.0160198 , 0.        , ..., 0.        , 0.        ,\n",
       "         0.        ],\n",
       "        [0.11915485, 0.        , 0.        , ..., 0.        , 0.        ,\n",
       "         0.        ],\n",
       "        [0.        , 0.17383677, 0.        , ..., 0.        , 0.        ,\n",
       "         0.        ],\n",
       "        ...,\n",
       "        [0.        , 0.        , 0.        , ..., 0.        , 0.        ,\n",
       "         0.        ],\n",
       "        [0.        , 0.        , 0.        , ..., 0.        , 0.        ,\n",
       "         0.        ],\n",
       "        [0.        , 0.        , 0.        , ..., 0.18720125, 0.        ,\n",
       "         0.        ]], dtype=float32),\n",
       " array([[0.21219352, 0.        , 0.        , ..., 0.        , 0.        ,\n",
       "         0.        ],\n",
       "        [0.33470616, 0.        , 0.        , ..., 0.        , 0.        ,\n",
       "         0.        ],\n",
       "        [0.        , 0.        , 0.        , ..., 0.03774787, 0.07129525,\n",
       "         0.        ],\n",
       "        ...,\n",
       "        [0.0276769 , 0.        , 0.        , ..., 0.        , 0.        ,\n",
       "         0.        ],\n",
       "        [0.1284557 , 0.        , 0.        , ..., 0.        , 0.        ,\n",
       "         0.        ],\n",
       "        [0.        , 0.06146048, 0.        , ..., 0.        , 0.        ,\n",
       "         0.        ]], dtype=float32),\n",
       " array([[0.        , 0.        , 0.        , ..., 0.        , 0.        ,\n",
       "         0.        ],\n",
       "        [0.        , 0.        , 0.        , ..., 0.        , 1.1171403 ,\n",
       "         0.2460873 ],\n",
       "        [0.        , 0.        , 0.        , ..., 0.        , 0.        ,\n",
       "         0.        ],\n",
       "        ...,\n",
       "        [0.18597549, 0.        , 0.        , ..., 0.        , 0.        ,\n",
       "         0.        ],\n",
       "        [0.        , 0.        , 0.        , ..., 0.        , 0.        ,\n",
       "         0.1404583 ],\n",
       "        [0.        , 0.        , 0.        , ..., 0.        , 0.        ,\n",
       "         0.        ]], dtype=float32),\n",
       " array([[0.        , 0.        , 0.        , ..., 0.        , 0.5455102 ,\n",
       "         0.        ],\n",
       "        [0.        , 0.        , 0.        , ..., 0.        , 0.        ,\n",
       "         0.        ],\n",
       "        [0.        , 0.07066377, 0.        , ..., 0.        , 0.        ,\n",
       "         0.        ],\n",
       "        ...,\n",
       "        [0.        , 0.        , 0.        , ..., 0.        , 0.4036831 ,\n",
       "         0.        ],\n",
       "        [0.595516  , 0.        , 0.        , ..., 0.        , 0.        ,\n",
       "         0.        ],\n",
       "        [0.        , 0.        , 0.        , ..., 0.        , 0.        ,\n",
       "         0.        ]], dtype=float32)]"
      ]
     },
     "execution_count": 45,
     "metadata": {},
     "output_type": "execute_result"
    }
   ],
   "source": [
    "import numpy as np\n",
    "\n",
    "feat_np = [x.cpu().numpy() for x in feature_list]\n",
    "feat_np"
   ]
  },
  {
   "cell_type": "code",
   "execution_count": 85,
   "metadata": {},
   "outputs": [],
   "source": [
    "import pickle\n",
    "import os\n",
    "import numpy as np\n",
    "os.remove('/home/suji/spring20/stuffs.pkl')\n",
    "\n",
    "# d = {'feat_tensor': feature_list, 'feat_np': feat_np, 'proposal': proplist, 'img_id':id_list, 'orig_bb':orig_bblist, 'bb': bblist, 'scaled_bb': scaled_bblist}\n",
    "d = { 'feat_np': feat_np, 'img_id':id_list, 'orig_bb':orig_bblist, 'bb': bblist, 'scaled_bb': scaled_bblist}\n",
    "with open(\"/home/suji/spring20/stuffs.pkl\", \"wb\") as f:\n",
    "    pickle.dump(d, f)"
   ]
  },
  {
   "cell_type": "code",
   "execution_count": 84,
   "metadata": {},
   "outputs": [
    {
     "data": {
      "text/plain": [
       "[[BoxList(num_boxes=1000, image_width=999, image_height=415, mode=xyxy)],\n",
       " [BoxList(num_boxes=1000, image_width=999, image_height=562, mode=xyxy)],\n",
       " [BoxList(num_boxes=1000, image_width=999, image_height=415, mode=xyxy)],\n",
       " [BoxList(num_boxes=1000, image_width=999, image_height=562, mode=xyxy)],\n",
       " [BoxList(num_boxes=1000, image_width=999, image_height=429, mode=xyxy)],\n",
       " [BoxList(num_boxes=1000, image_width=999, image_height=562, mode=xyxy)],\n",
       " [BoxList(num_boxes=1000, image_width=1000, image_height=421, mode=xyxy)],\n",
       " [BoxList(num_boxes=1000, image_width=999, image_height=428, mode=xyxy)],\n",
       " [BoxList(num_boxes=1000, image_width=1000, image_height=425, mode=xyxy)],\n",
       " [BoxList(num_boxes=1000, image_width=999, image_height=429, mode=xyxy)],\n",
       " [BoxList(num_boxes=1000, image_width=1000, image_height=425, mode=xyxy)],\n",
       " [BoxList(num_boxes=1000, image_width=999, image_height=562, mode=xyxy)],\n",
       " [BoxList(num_boxes=1000, image_width=1000, image_height=425, mode=xyxy)],\n",
       " [BoxList(num_boxes=1000, image_width=999, image_height=428, mode=xyxy)],\n",
       " [BoxList(num_boxes=1000, image_width=1000, image_height=421, mode=xyxy)],\n",
       " [BoxList(num_boxes=1000, image_width=1000, image_height=425, mode=xyxy)],\n",
       " [BoxList(num_boxes=1000, image_width=999, image_height=429, mode=xyxy)],\n",
       " [BoxList(num_boxes=1000, image_width=999, image_height=562, mode=xyxy)],\n",
       " [BoxList(num_boxes=1000, image_width=1000, image_height=421, mode=xyxy)],\n",
       " [BoxList(num_boxes=1000, image_width=1000, image_height=419, mode=xyxy)],\n",
       " [BoxList(num_boxes=1000, image_width=999, image_height=562, mode=xyxy)],\n",
       " [BoxList(num_boxes=1000, image_width=1000, image_height=419, mode=xyxy)],\n",
       " [BoxList(num_boxes=1000, image_width=999, image_height=562, mode=xyxy)],\n",
       " [BoxList(num_boxes=1000, image_width=999, image_height=543, mode=xyxy)],\n",
       " [BoxList(num_boxes=1000, image_width=999, image_height=428, mode=xyxy)],\n",
       " [BoxList(num_boxes=1000, image_width=1000, image_height=421, mode=xyxy)],\n",
       " [BoxList(num_boxes=1000, image_width=999, image_height=562, mode=xyxy)],\n",
       " [BoxList(num_boxes=1000, image_width=1000, image_height=425, mode=xyxy)],\n",
       " [BoxList(num_boxes=1000, image_width=999, image_height=562, mode=xyxy)],\n",
       " [BoxList(num_boxes=1000, image_width=999, image_height=562, mode=xyxy)],\n",
       " [BoxList(num_boxes=1000, image_width=999, image_height=428, mode=xyxy)],\n",
       " [BoxList(num_boxes=1000, image_width=999, image_height=562, mode=xyxy)],\n",
       " [BoxList(num_boxes=1000, image_width=999, image_height=562, mode=xyxy)],\n",
       " [BoxList(num_boxes=1000, image_width=999, image_height=428, mode=xyxy)],\n",
       " [BoxList(num_boxes=1000, image_width=999, image_height=429, mode=xyxy)],\n",
       " [BoxList(num_boxes=1000, image_width=1000, image_height=421, mode=xyxy)],\n",
       " [BoxList(num_boxes=1000, image_width=999, image_height=429, mode=xyxy)],\n",
       " [BoxList(num_boxes=1000, image_width=999, image_height=429, mode=xyxy)],\n",
       " [BoxList(num_boxes=1000, image_width=999, image_height=562, mode=xyxy)],\n",
       " [BoxList(num_boxes=1000, image_width=999, image_height=562, mode=xyxy)],\n",
       " [BoxList(num_boxes=1000, image_width=1000, image_height=425, mode=xyxy)],\n",
       " [BoxList(num_boxes=1000, image_width=999, image_height=543, mode=xyxy)],\n",
       " [BoxList(num_boxes=1000, image_width=999, image_height=562, mode=xyxy)],\n",
       " [BoxList(num_boxes=1000, image_width=999, image_height=428, mode=xyxy)],\n",
       " [BoxList(num_boxes=1000, image_width=999, image_height=428, mode=xyxy)],\n",
       " [BoxList(num_boxes=1000, image_width=999, image_height=428, mode=xyxy)],\n",
       " [BoxList(num_boxes=1000, image_width=999, image_height=543, mode=xyxy)],\n",
       " [BoxList(num_boxes=1000, image_width=999, image_height=562, mode=xyxy)],\n",
       " [BoxList(num_boxes=1000, image_width=999, image_height=543, mode=xyxy)],\n",
       " [BoxList(num_boxes=1000, image_width=999, image_height=543, mode=xyxy)],\n",
       " [BoxList(num_boxes=1000, image_width=1000, image_height=421, mode=xyxy)],\n",
       " [BoxList(num_boxes=1000, image_width=999, image_height=428, mode=xyxy)],\n",
       " [BoxList(num_boxes=1000, image_width=999, image_height=562, mode=xyxy)],\n",
       " [BoxList(num_boxes=1000, image_width=999, image_height=429, mode=xyxy)],\n",
       " [BoxList(num_boxes=1000, image_width=1000, image_height=421, mode=xyxy)],\n",
       " [BoxList(num_boxes=1000, image_width=999, image_height=428, mode=xyxy)],\n",
       " [BoxList(num_boxes=1000, image_width=1000, image_height=425, mode=xyxy)],\n",
       " [BoxList(num_boxes=1000, image_width=1000, image_height=425, mode=xyxy)],\n",
       " [BoxList(num_boxes=1000, image_width=1000, image_height=421, mode=xyxy)],\n",
       " [BoxList(num_boxes=1000, image_width=999, image_height=429, mode=xyxy)],\n",
       " [BoxList(num_boxes=1000, image_width=999, image_height=562, mode=xyxy)],\n",
       " [BoxList(num_boxes=1000, image_width=999, image_height=562, mode=xyxy)],\n",
       " [BoxList(num_boxes=1000, image_width=999, image_height=562, mode=xyxy)],\n",
       " [BoxList(num_boxes=1000, image_width=999, image_height=415, mode=xyxy)],\n",
       " [BoxList(num_boxes=1000, image_width=1000, image_height=419, mode=xyxy)],\n",
       " [BoxList(num_boxes=1000, image_width=1000, image_height=425, mode=xyxy)],\n",
       " [BoxList(num_boxes=1000, image_width=999, image_height=562, mode=xyxy)],\n",
       " [BoxList(num_boxes=1000, image_width=999, image_height=543, mode=xyxy)],\n",
       " [BoxList(num_boxes=1000, image_width=999, image_height=428, mode=xyxy)],\n",
       " [BoxList(num_boxes=1000, image_width=1000, image_height=425, mode=xyxy)],\n",
       " [BoxList(num_boxes=1000, image_width=999, image_height=415, mode=xyxy)],\n",
       " [BoxList(num_boxes=1000, image_width=999, image_height=543, mode=xyxy)],\n",
       " [BoxList(num_boxes=1000, image_width=999, image_height=562, mode=xyxy)],\n",
       " [BoxList(num_boxes=1000, image_width=999, image_height=562, mode=xyxy)],\n",
       " [BoxList(num_boxes=1000, image_width=1000, image_height=425, mode=xyxy)],\n",
       " [BoxList(num_boxes=1000, image_width=999, image_height=543, mode=xyxy)],\n",
       " [BoxList(num_boxes=1000, image_width=1000, image_height=421, mode=xyxy)],\n",
       " [BoxList(num_boxes=1000, image_width=999, image_height=562, mode=xyxy)],\n",
       " [BoxList(num_boxes=1000, image_width=999, image_height=562, mode=xyxy)],\n",
       " [BoxList(num_boxes=1000, image_width=999, image_height=428, mode=xyxy)],\n",
       " [BoxList(num_boxes=1000, image_width=999, image_height=415, mode=xyxy)],\n",
       " [BoxList(num_boxes=1000, image_width=999, image_height=543, mode=xyxy)],\n",
       " [BoxList(num_boxes=1000, image_width=1000, image_height=421, mode=xyxy)],\n",
       " [BoxList(num_boxes=1000, image_width=999, image_height=428, mode=xyxy)],\n",
       " [BoxList(num_boxes=1000, image_width=999, image_height=543, mode=xyxy)],\n",
       " [BoxList(num_boxes=1000, image_width=999, image_height=428, mode=xyxy)],\n",
       " [BoxList(num_boxes=1000, image_width=1000, image_height=425, mode=xyxy)],\n",
       " [BoxList(num_boxes=1000, image_width=999, image_height=562, mode=xyxy)],\n",
       " [BoxList(num_boxes=1000, image_width=999, image_height=543, mode=xyxy)],\n",
       " [BoxList(num_boxes=1000, image_width=999, image_height=429, mode=xyxy)],\n",
       " [BoxList(num_boxes=1000, image_width=1000, image_height=421, mode=xyxy)],\n",
       " [BoxList(num_boxes=1000, image_width=999, image_height=415, mode=xyxy)],\n",
       " [BoxList(num_boxes=1000, image_width=999, image_height=428, mode=xyxy)],\n",
       " [BoxList(num_boxes=1000, image_width=999, image_height=429, mode=xyxy)],\n",
       " [BoxList(num_boxes=1000, image_width=999, image_height=562, mode=xyxy)],\n",
       " [BoxList(num_boxes=1000, image_width=999, image_height=562, mode=xyxy)],\n",
       " [BoxList(num_boxes=1000, image_width=999, image_height=429, mode=xyxy)],\n",
       " [BoxList(num_boxes=1000, image_width=999, image_height=429, mode=xyxy)],\n",
       " [BoxList(num_boxes=1000, image_width=999, image_height=428, mode=xyxy)],\n",
       " [BoxList(num_boxes=1000, image_width=999, image_height=428, mode=xyxy)]]"
      ]
     },
     "execution_count": 84,
     "metadata": {},
     "output_type": "execute_result"
    }
   ],
   "source": [
    "d['proposal']"
   ]
  },
  {
   "cell_type": "markdown",
   "metadata": {},
   "source": [
    "```\n",
    "#lmdb\n",
    "import lmdb\n",
    "import numpy as np\n",
    "import tqdm\n",
    "\n",
    "\n",
    "MAP_SIZE = 1099511627776\n",
    "\n",
    "# infiles = glob.glob(os.path.join(args.features_dir, \"*\"))\n",
    "# id_list = []\n",
    "env = lmdb.open(\"rcnn_feat.lmdb\", map_size=MAP_SIZE)\n",
    "id_list= [x[0] for x in idslist]\n",
    "with env.begin(write=True) as txn:\n",
    "for output, feature, img_id in zip(outlist, feature_list, id_list):\n",
    "    item = {}\n",
    "    item[] = feature\n",
    "    item[] = output[0]\n",
    "    txn.put(img_id, pickle.dumps(item))\n",
    "txn.put(\"keys\".encode(), pickle.dumps(id_list))\n",
    "# \n",
    "#     for infile in tqdm.tqdm(infiles):\n",
    "#         reader = np.load(infile, allow_pickle=True)\n",
    "#         item = {}\n",
    "#         item[\"image_id\"] = reader.item().get(\"image_id\")\n",
    "#         img_id = str(item[\"image_id\"]).encode()\n",
    "#         id_list.append(img_id)\n",
    "#         item[\"image_h\"] = reader.item().get(\"image_height\")\n",
    "#         item[\"image_w\"] = reader.item().get(\"image_width\")\n",
    "#         item[\"num_boxes\"] = reader.item().get(\"num_boxes\")\n",
    "#         item[\"boxes\"] = reader.item().get(\"bbox\")\n",
    "#         item[\"features\"] = \n",
    "#         txn.put(img_id, pickle.dumps(item))\n",
    "#     txn.put(\"keys\".encode(), pickle.dumps(id_list))\n",
    "```\n"
   ]
  },
  {
   "cell_type": "markdown",
   "metadata": {},
   "source": [
    "# visualize all proposals"
   ]
  },
  {
   "cell_type": "code",
   "execution_count": 15,
   "metadata": {},
   "outputs": [],
   "source": [
    "# objectness\n",
    "# data_loaders_val.get_img_info[image_ids[0]]\n",
    "from PIL import Image\n",
    "import os\n",
    "import pandas as pd\n",
    "df = pd.read_csv('/home/suji/spring20/filenames.csv')\n",
    "filenames =[os.path.join(\"/home/suji/spring20/vilbert_beta/data/VCR/vcr1images\",fn) for fn in list(df['img_fn'])]\n",
    "img_info = []\n",
    "\n",
    "for index in range(len(filenames)):\n",
    "    img = Image.open(filenames[index]).convert(\"RGB\")\n",
    "    #if transforms is not None:\n",
    "        #print(\"image being transformed\")\n",
    "        #img = transforms(img)\n",
    "        #print(\"image transformed to \", type(img))\n",
    "    #self.imgs.append(img)\n",
    "    img_info.append({\"width\": img.size[0], \"height\":img.size[1]})\n"
   ]
  },
  {
   "cell_type": "code",
   "execution_count": null,
   "metadata": {},
   "outputs": [],
   "source": [
    "proplist[0][0].size#.get_field('image_width')"
   ]
  },
  {
   "cell_type": "code",
   "execution_count": null,
   "metadata": {},
   "outputs": [],
   "source": [
    "'''import json\n",
    "\n",
    "f = open(\"detection_res.jsonl\", \"a\")\n",
    "for i, (fn, info, proposal, idnum) in enumerate(zip(filenames, img_info, proplist, idslist)):\n",
    "    img_width = info[\"width\"]\n",
    "    img_height = info[\"height\"]\n",
    "    prop = proposal[0]\n",
    "#     prop.resize((image_width, image_height))\n",
    "    objectness = prop.get_field('objectness')\n",
    "    predict_logits = prop.get_field('predict_logits')\n",
    "    bbox = prop.bbox\n",
    "    f.write(json.dumps({'img_id':idnum[0], 'objectness': objectness.cpu().numpy().tolist(), 'predict_logits':predict_logits.cpu().numpy().tolist(), 'bbox': bbox.cpu().numpy().tolist(), 'img_height':prop.size[1],'img_width':prop.size[0]}))\n",
    "    f.write(\"\\n\")\n",
    "f.close()'''"
   ]
  },
  {
   "cell_type": "code",
   "execution_count": null,
   "metadata": {},
   "outputs": [],
   "source": [
    "# image_width = img_info[\"width\"]\n",
    "# image_height = img_info[\"height\"]\n",
    "# proposal[0].resize((image_width, image_height))"
   ]
  },
  {
   "cell_type": "code",
   "execution_count": null,
   "metadata": {},
   "outputs": [],
   "source": [
    "# df"
   ]
  },
  {
   "cell_type": "code",
   "execution_count": null,
   "metadata": {},
   "outputs": [],
   "source": [
    "# df2 = pd.read_json(\"detection_res.jsonl\")"
   ]
  },
  {
   "cell_type": "code",
   "execution_count": null,
   "metadata": {},
   "outputs": [],
   "source": [
    "with open(\"detection_res.jsonl\", \"r\") as reader:\n",
    "    lines = reader.readlines()"
   ]
  },
  {
   "cell_type": "code",
   "execution_count": null,
   "metadata": {},
   "outputs": [],
   "source": [
    "# filenames"
   ]
  },
  {
   "cell_type": "code",
   "execution_count": null,
   "metadata": {},
   "outputs": [],
   "source": [
    "def get_iou(bb1, bb2):\n",
    "    \"\"\"\n",
    "    Calculate the Intersection over Union (IoU) of two bounding boxes.\n",
    "\n",
    "    Parameters\n",
    "    ----------x2, y2) position is at the bottom right corner\n",
    "\n",
    "    Returns\n",
    "    -------\n",
    "    float\n",
    "        in [0, 1]\n",
    "    \"\"\"\n",
    "    assert bb1[0] < bb1[2]\n",
    "    assert bb1[1] < bb1[3]\n",
    "    assert bb2[0] < bb2[2]\n",
    "    assert bb2[1] < bb2[3]\n",
    "\n",
    "    # determine the coordinates of the intersection rectangle\n",
    "    x_left = max(bb1[0], bb2[0])\n",
    "    y_top = max(bb1[1], bb2[1])\n",
    "    x_right = min(bb1[2], bb2[2])\n",
    "    y_bottom = min(bb1[3], bb2[3])\n",
    "\n",
    "    if x_right < x_left or y_bottom < y_top:\n",
    "        return 0.0\n",
    "\n",
    "    # The intersection of two axis-aligned bounding boxes is always an\n",
    "    # axis-aligned bounding box\n",
    "    intersection_area = (x_right - x_left) * (y_bottom - y_top)\n",
    "\n",
    "    # compute the area of both AABBs\n",
    "    bb1_area = (bb1[2] - bb1[0]) * (bb1[3] - bb1[1])\n",
    "    bb2_area = (bb2[2] - bb2[0]) * (bb2[3] - bb2[1])\n",
    "\n",
    "    # compute the intersection over union by taking the intersection\n",
    "    # area and dividing it by the sum of prediction + ground-truth\n",
    "    # areas - the interesection area\n",
    "    iou = intersection_area / float(bb1_area + bb2_area - intersection_area)\n",
    "    assert iou >= 0.0\n",
    "    assert iou <= 1.0\n",
    "    return iou\n",
    "def valid_bb(bb1, bb2):\n",
    "    return get_iou(bb1, bb2) < .3"
   ]
  },
  {
   "cell_type": "code",
   "execution_count": null,
   "metadata": {
    "scrolled": true
   },
   "outputs": [],
   "source": [
    "import json\n",
    "import matplotlib.pyplot as plt\n",
    "import matplotlib.image as mpimg\n",
    "def filter_bb(bbox, objectness):\n",
    "    bb_list = []\n",
    "    for bb, objness in zip(bbox, objectness):\n",
    "        if objness >  0.85:\n",
    "            if len(bb_list) == 0:\n",
    "                bb_list.append(bb)\n",
    "                continue\n",
    "            if all([valid_bb(bb, other_bb) for other_bb in bb_list]):\n",
    "                bb_list.append(bb)\n",
    "    return bb_list\n",
    "d = {}\n",
    "for line in lines:\n",
    "    entry = json.loads(line)\n",
    "    img_id = entry['img_id']\n",
    "    fn = filenames[img_id]\n",
    "    bb_list = filter_bb(entry['bbox'], entry['objectness'])\n",
    "    print(len(bb_list))\n",
    "    d[img_id] = (bb_list, entry['img_width'], entry['img_height'])\n",
    "    #     \n",
    "    "
   ]
  },
  {
   "cell_type": "code",
   "execution_count": null,
   "metadata": {},
   "outputs": [],
   "source": [
    "for i, (img_id, tup) in enumerate(d.items()):\n",
    "#     print(img_info[i])\n",
    "    fn = filenames[i]\n",
    "    (bbox_list, widthi, heighti) = tup\n",
    "    im = mpimg.imread(fn)\n",
    "    height, width, _ = im.shape\n",
    "    print(width/widthi )\n",
    "    print(height/heighti)\n",
    "    print(bbox_list)\n",
    "    scale = width/widthi\n",
    "    bbox_list = [[y * scale for y in x ]for x in bbox_list]\n",
    "    fig, ax = plt.subplots(figsize=(12, 12))\n",
    "    ax.imshow(im, aspect='equal')\n",
    "    for i, bbox in enumerate(bbox_list):\n",
    "#         pred_classes_str = ind_to_classes[int(pred_classes[i])]\n",
    "\n",
    "#         while pred_classes_str in object_name_list_pred:\n",
    "#             obj_count_pred[int(pred_classes[i])] += 1\n",
    "#             pred_classes_str = pred_classes_str + '_' + str(obj_count_pred[int(pred_classes[i])])\n",
    "#         object_name_list_pred.append(pred_classes_str)\n",
    "#         ax.text(bbox[0], bbox[1] - 2,\n",
    "#                 pred_classes_str,\n",
    "#                 bbox=dict(facecolor='green', alpha=0.5),\n",
    "#                 fontsize=32, color='white')\n",
    "        ax.add_patch(\n",
    "            plt.Rectangle((bbox[0], bbox[1]),\n",
    "                        bbox[2] - bbox[0],\n",
    "                        bbox[3] - bbox[1], fill=False,\n",
    "                        edgecolor='green', linewidth=3.5)\n",
    "        )\n",
    "\n",
    "    ax.axis('off')\n",
    "    fig.tight_layout()\n",
    "    plt.show()\n",
    "#     image_save_fn = sg_save_fn.replace(\"graph\", \"image\") + \".{}\".format(save_format) \n",
    "#     plt.savefig(image_save_fn)\n",
    "    plt.close()"
   ]
  },
  {
   "cell_type": "code",
   "execution_count": null,
   "metadata": {},
   "outputs": [],
   "source": [
    "import torch\n",
    "import json\n",
    "import h5py\n",
    "import numpy as np\n",
    "from matplotlib.pyplot import imshow\n",
    "from PIL import Image, ImageDraw\n",
    "ndetected_origin_path = '/home/suji/checkpoints/causal-motifs-sgcls-exmp/inference/vcr_test/'\n",
    "detected_origin_result = torch.load(ndetected_origin_path + 'eval_results.pytorch')\n",
    "detected_info = json.load(open(ndetected_origin_path + 'visual_info.json'))"
   ]
  },
  {
   "cell_type": "code",
   "execution_count": null,
   "metadata": {},
   "outputs": [],
   "source": [
    "detected_origin_result.keys()"
   ]
  },
  {
   "cell_type": "code",
   "execution_count": null,
   "metadata": {},
   "outputs": [],
   "source": [
    "detected_info"
   ]
  },
  {
   "cell_type": "code",
   "execution_count": null,
   "metadata": {},
   "outputs": [],
   "source": []
  }
 ],
 "metadata": {
  "kernelspec": {
   "display_name": "Python 3",
   "language": "python",
   "name": "python3"
  },
  "language_info": {
   "codemirror_mode": {
    "name": "ipython",
    "version": 3
   },
   "file_extension": ".py",
   "mimetype": "text/x-python",
   "name": "python",
   "nbconvert_exporter": "python",
   "pygments_lexer": "ipython3",
   "version": "3.8.1"
  }
 },
 "nbformat": 4,
 "nbformat_minor": 4
}
